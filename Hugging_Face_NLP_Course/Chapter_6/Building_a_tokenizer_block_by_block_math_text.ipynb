{
  "cells": [
    {
      "cell_type": "markdown",
      "metadata": {
        "id": "3zc_OHJVPfoi"
      },
      "source": [
        "# Building a tokenizer, block by block\n",
        "\n",
        "As we've seen in the previous sections, tokenization comprises several steps:\n",
        "\n",
        "- **Normalization** (any cleanup of the text that is deemed necessary, such as removing spaces or accents, Unicode normalization, etc.)\n",
        "- **Pre-tokenization** (splitting the input into words)\n",
        "- **Running the input through the model** (using the pre-tokenized words to produce a sequence of tokens)\n",
        "- **Post-processing** (adding the special tokens of the tokenizer, generating the attention mask and token type IDs)"
      ]
    },
    {
      "cell_type": "markdown",
      "metadata": {
        "id": "dgQ_3OfqSq-y"
      },
      "source": [
        "As a reminder, here's another look at the overall process:\n",
        "\n",
        "![tokenization_pipeline.svg](https://huggingface.co/datasets/huggingface-course/documentation-images/resolve/main/en/chapter6/tokenization_pipeline.svg)\n",
        "\n"
      ]
    },
    {
      "cell_type": "markdown",
      "metadata": {
        "id": "7Zt3R_tLSoYP"
      },
      "source": [
        "The 🤗 Tokenizers library has been built to provide several options for each of those steps, which you can mix and match together. In this section we'll see how we can build a tokenizer from scratch, as opposed to training a new tokenizer from an old one. You'll then be able to build any kind of tokenizer you can think of!\n",
        "\n",
        "More precisely, the library is built around a central `Tokenizer` class with the building blocks regrouped in submodules:\n",
        "\n",
        "- `normalizers` contains all the possible types of `Normalizer` you can use\n",
        "- `pre_tokenizers` contains all the possible types of `PreTokenizer` you can use\n",
        "- `models` contains the various types of `Model` you can use, like `BPE`, `WordPiece`, and `Unigram`\n",
        "- `trainers` contains all the different types of `Trainer` you can use to train your model on a corpus\n",
        "- `post_processors` contains the various types of `PostProcessor` you can use\n",
        "- `decoders` contains the various types of `Decoder` you can use to decode the outputs of tokenization"
      ]
    },
    {
      "cell_type": "markdown",
      "metadata": {
        "id": "O-wfjFk7Pfok"
      },
      "source": [
        "## Installing Required Libraries\n",
        "\n",
        "First, let's make sure we have all the necessary libraries installed."
      ]
    },
    {
      "cell_type": "code",
      "execution_count": 1,
      "metadata": {
        "id": "3KYK4w_1Pfok"
      },
      "outputs": [],
      "source": [
        "%%capture\n",
        "!pip install datasets evaluate transformers[sentencepiece]"
      ]
    },
    {
      "cell_type": "code",
      "source": [
        "from tokenizers import (\n",
        "    decoders,\n",
        "    models,\n",
        "    normalizers,\n",
        "    pre_tokenizers,\n",
        "    processors,\n",
        "    trainers,\n",
        "    Tokenizer,\n",
        "    Regex,\n",
        ")"
      ],
      "metadata": {
        "id": "5nJSk2euPYjQ"
      },
      "execution_count": 179,
      "outputs": []
    },
    {
      "cell_type": "markdown",
      "metadata": {
        "id": "TClJSbLDPp-S"
      },
      "source": [
        "Also log into Hugging Face."
      ]
    },
    {
      "cell_type": "code",
      "execution_count": 2,
      "metadata": {
        "colab": {
          "base_uri": "https://localhost:8080/",
          "height": 17,
          "referenced_widgets": [
            "1be0baf1d64e49c38414f8be2518088f",
            "218973b482f14aea83ad7c381cd373da",
            "5a946c231569410492f96f9a9e0ef7c3",
            "96f7afdada174daba5b53ca79f767ad5",
            "512ad007d86143e790606616ee9eb8f3",
            "97860ba69a72466e8c09cecd775ddebb",
            "cfc6588b99344ac0ba6bff37db3c7114",
            "1c31985ab48149aabb0c325203f7b983",
            "1a65aff4bfea49ab8e7aff3bd953f2bf",
            "53b55dd617c541b2abc85884ad758b42",
            "cc810ce238e74b879f286d201bd020c1",
            "901de875ac1f4b6784f1d50e49c6462e",
            "d844dddc235344b8b915a7e032784fe5",
            "8df8fddd1b124c22a5f9ba4178b1daea",
            "0fd65fefbe8a46779d442ecebf3c3047",
            "aeb9362e5ef14998823bade62a6cf347",
            "4f716f2d3117426b976b27256943d17e",
            "6f867176fc624578b3478f2aabd762a2",
            "24751bdde0f646aba8a811a112a56f28",
            "6952565774ca464a82829f22b2bfebad"
          ]
        },
        "id": "qXCe79RGPsp0",
        "outputId": "71968a5a-37fd-4d8b-f59b-f3ef4c4e57cf"
      },
      "outputs": [
        {
          "output_type": "display_data",
          "data": {
            "text/plain": [
              "VBox(children=(HTML(value='<center> <img\\nsrc=https://huggingface.co/front/assets/huggingface_logo-noborder.sv…"
            ],
            "application/vnd.jupyter.widget-view+json": {
              "version_major": 2,
              "version_minor": 0,
              "model_id": "1be0baf1d64e49c38414f8be2518088f"
            }
          },
          "metadata": {}
        }
      ],
      "source": [
        "from huggingface_hub import notebook_login\n",
        "\n",
        "notebook_login()"
      ]
    },
    {
      "cell_type": "markdown",
      "metadata": {
        "id": "lCDQz3ptPfol"
      },
      "source": [
        "## Acquiring a corpus\n",
        "\n",
        "To train our new tokenizer, we will use a small corpus of text (so the examples run fast). The steps for acquiring the corpus are similar to the ones we took at the beginning of this chapter, but this time we'll use the [Math Text](https://huggingface.co/datasets/ddrg/math_text) dataset:"
      ]
    },
    {
      "cell_type": "code",
      "execution_count": 3,
      "metadata": {
        "colab": {
          "base_uri": "https://localhost:8080/",
          "height": 636,
          "referenced_widgets": [
            "d4162166df59466ab42dac1f8821985d",
            "28a5193ed37d40d889be80a19ccfe0d5",
            "006f54367c7a4359bf040de240788d7e",
            "d86bf0d1d8254b5aa8d35892d6e5fe8b",
            "b4bb6a26e0514f9bb1bb9f68c7a1591a",
            "eb864e3c216f4ec69eb79b4f476ec729",
            "95958f71e43e46f29f9d30c3a206cf97",
            "d5318a1a6a8d4285b16ea1ab464b6ce6",
            "f30594864cc648a181faad2f7bce2177",
            "bb208a895da248ab85ae98554282aa03",
            "27d340fc52ea42a89e6c10011ab98c9d",
            "9236986749934194b96e0a4bf0a1f96d",
            "c9316e41e7ff46bea58288df5660c65c",
            "e7dbcad2818b483ebb1ecca609c80639",
            "ef5bbe27b42b49f2a4015b2f1b6e4f04",
            "394695ec71f04d7d95e5dbd0d472e21e",
            "982a53864dc34448a368ad222144aaca",
            "11a637bdd0eb43fda5b456a6a03e52e0",
            "4bb250dac1b24ce183339c36f4983748",
            "f0afa9afd6c2400cabf1cd222b1f4822",
            "31ed1f1dc54a45bdab20d0e1b3c170fc",
            "31913f98ad4a4092a829c5e2e063960e",
            "b6c3de8c45894850a19843f1fbfcb9ed",
            "555826ec84e9419b9b8d9af138b8ea1f",
            "4bf19f7725a74cf0b2a125f2e78dfcda",
            "e8ea93d27b4c4aa780179e1bcf544baa",
            "dd1d5cc30a5a4cb0bac5357caab38311",
            "dd3f927850014d33827de241a9112ada",
            "de8b4d87ef554d82b3a5a89293ffb66c",
            "15f4ec47e3af42219ba1334d2a6ea780",
            "6ba43e8088eb4055bb233b7ea3138138",
            "0a1297f01edd43aa92bd822e6c37ed87",
            "6167ba73d6094210bf3b269131702542",
            "63c80b91238b4500a014e083367259b4",
            "6bccc7363420458dbd6f85249c6790b4",
            "d73d2a6f378045c2bcf561bc5b160f71",
            "0a6e8ed3ea86406c899dfd88993ea9ee",
            "02bdf912852a424f81e04729871884f1",
            "db51ea27e53a45e38f7b943553e62888",
            "0596b4b96b704b629e528697817c01a1",
            "9af644969c9e4617a885f99dbbabc73f",
            "c3646dabadd74fb7bb33ae9f561bb59d",
            "6d204ae4a2044794a8bf4d8c9fc2ee3e",
            "1f734d424a9d423bbe8b8e6cec6487ee",
            "5ba014bbc2884794826b3e1c596e4939",
            "82f55f124f97414db5226cc1ca5199e1",
            "da2cb88ef2064b458575c136e9d79c5d",
            "8b338ab8f62e4748865be754e33299a4",
            "83a4144dd1e14077a7a5bf261d13ece3",
            "d6a585b589a4458087a6eb5b7f4fccba",
            "cb97e5b412b44f2b924cc7572e5ce640",
            "f80eaecf0fc545e883d451aee58e590c",
            "0c9b387e73e845c8bdfb9aa45a2516f7",
            "bbb3970baa8c43d2b68edccb648d63a1",
            "f986ee571cb846a4ba6fca8708e1d363",
            "d3edc718eaf14968907e673ffeac372d",
            "6c6655e4ac87469fac01c0fe1a9a386c",
            "db1988cca2eb42c29b8b20e0e6bde3e5",
            "1ddd076d57f04ed48fc05bb3590d64f5",
            "a440fa2b0f29432aac6a7209651e2f4b",
            "014dcc3969c64a9095e868efe99493e1",
            "ee76f3e9887f4513850292c64b8e17d4",
            "bf5115e16ebe4b21bf6a11c52f90690b",
            "c44f5d73c3134349a1792e7012e3881c",
            "bda758ffd7644122a325e151ba2003bf",
            "22c1c2bc2e2848b7b0ae80df8282bd1a",
            "fbb3817987cd401ea1bfc9d718e04557",
            "ef089716e2ff4509b9d9f63a4a6ff59d",
            "3c6bc92a92b84f218f5df0b92ff57288",
            "9ec2920a0fa14298af40b9bb753707f2",
            "eb048944840b491a84f17e31349bbdc9",
            "1b6bbe6b473942919ac0c2e6f884f157",
            "0a0829548f304f4794dc9d35d74fd6fb",
            "e98a7a787ead456ba2da36281c772e88",
            "9668021e7816465ab829bd479ffd29ba",
            "5e7dd36409b74c839c906d56023ef3ce",
            "88db32de1c6e47858c1da28f24190e2f",
            "e94c8aab2837415facdbc4df80276fec",
            "737e499a01584efea451d5addd987861",
            "955c12a06ee04b8e8a95d6bc3852dec2",
            "cb2dde8188ec4b80b71ef6bacda04371",
            "016f657e61ee4e0a96c2c8be38e2cc5d",
            "67f867d44ab44eb5bf64ebf6035313ba",
            "5e7e40bdf28e4b2b880bd0d7a1f289e1",
            "c48582fb1ede47e08d8db5343520359c",
            "8e743ff138324cce85e6686f8ca6f1b3",
            "7395ee1bd49749e8acedaf58655d6f20",
            "d00832857d694349aaebd26853801967",
            "e3e987df0c47408e8d4f04ee740d03f7",
            "390c23c1f06444ea9e59a5d2df3d93a3",
            "07e3266e7d5c4f8ebe2d0b74a5802fc0",
            "d41ed2eb00b44690b73458dea2e65cad",
            "63764001bd2f46d7ac611b8b9330a7c9",
            "4a960963ba72427ca53524b278f95f00",
            "2fdc6a807feb458e8ef307831bc0a6cf",
            "9d000fd3d76d4183be32027b11cd5350",
            "368a7d18b824433d9451a743f8f4561a",
            "990f46f1f9754831b45820da843cd59f",
            "e7f0efba90104cbab8dc103765181269",
            "28b59786d0674a058ca30f48c14fbc99",
            "0b3e07cb39204d6c84d667e2593e639d",
            "e44a2a7dedaa4a25bc77743f13f2df2a",
            "133a5bf8a6a04b2c998e88408ad4d00b",
            "8a144e55c92c4745b76f7a76b7c6eb88",
            "502db61d01eb41198636b12db0cd746f",
            "62b68f7067c249e79a2a9aa3041d8936",
            "85356dcaf9c049c2a349cd96f1d75e5c",
            "ba6cbdd92255445d9c5d565850f6f88c",
            "dd30bb6bd1ba4cdb9043c5a78933dd81",
            "285d30d73daa426da0d8ea6e21c9fbb5",
            "d7d8dfca9c3640da9f662955fd15db31",
            "6dd790b3896145ba9270149f66edecad",
            "976b19a34b6c4d15aece8966eb4d3516",
            "ec2a9f67ba6248788391e6d563a83502",
            "4b808ee904e540269e5ac741de9b4d08",
            "4296ff9166df4f119106466261ffc542",
            "8717e8659f01422aa8996067e76015c3",
            "20bd8ef140a34b0b938821d9e72506aa",
            "d70f97cc06dc403494d0afe5de79f835",
            "b2b398c88c8f4722a69fb8c56f4626d5",
            "f00ff7f695bc4eb793975957d425175e",
            "95a393e5a8e145e887d196f11ec79b57",
            "9dacfaeb61274f73ab9c86747279b461",
            "480e3603b49945208104f2cc68a4f35b",
            "863ff145d2fe44969ec0ad0bf7119b93",
            "1854661475f34c358910b532ee8832d2",
            "1e4f02552aee4c01aeddb8017eab71dc",
            "8a71393160404966bb1942e4c1bc6929",
            "059b20da82ef499c9676498c1428555e",
            "7055ac9efd384c7684e9394dfc108973",
            "f9436c36451049ceae0b142b6de81b0e",
            "5b58a986aec14a5ebf0867ae4c646d73",
            "e452f5351bff4704884d14a053d3d765",
            "68fbdc9987414fcdb378f48674394321",
            "c205d1fc7cc14e75a39a27213585b3cf",
            "42b51f60b2714e18be7fd2a6d8c9c3b6",
            "a0d5a0c7c9f8493ebd8df02efa7b85e9",
            "53f8824bd237454a9c5edb6937de0376",
            "8845c2608f4a4311a4d4a3ee2b12e730",
            "05eae1d1fc134ca88db85d7742e720ba",
            "209e57585305413f880b9809575d39c2",
            "20e54148a837485aa196232da80e4b5d",
            "867a828ecbcf4bcc8a731cbb31c7f2ee",
            "7ef83fcbccc744cbacc2d078a493a7b1",
            "9b1a0959cc0e499e8b450251692e1d5d",
            "b034ce411f6540b3a0988a1d06016846",
            "92599592807c4d33b8885d347b1398e8",
            "b20120b2061f4984ad8e1e68b8ac3bf0",
            "61eaca4e0f71419d933471cf0dfd855e",
            "aa51b24258f44f89a1bb6d1c11a99fa8",
            "b43f0a153d7c40b9be9530c67818f6a7",
            "40a8857f5322422489f91accfe6841c8",
            "fc72fb6217694277a30b4f016d8e9dcd",
            "4f7c83c6d6e045c69f38a45bd1029895",
            "d35a283c9d214533ba8d12a79a5d0376",
            "04f4c1992f904e6984dca9db559120cd",
            "31b38c73f61545d78685f4789dfe9fb6",
            "5bdb3e86a3434771baec1b1cceccbc6f",
            "1c2f4d13ba9749f2af51cfab71604532",
            "1023d3a20e434570b437b5dc449e84ba",
            "b9f78b2f447a421793ce947d6d5b8e4e",
            "468b4549f97243c9bb723a4730bd5d28",
            "be1c74c19e3f485f8a1127e708675985",
            "889e2e39893443b886452ff383c122e9",
            "23d03e20915249bcbde6c46789353663",
            "9393a78a8cc7497db1714ec2ccc86af2",
            "ac1674578d994da88080d6ccaf697ecb",
            "4b52174c99fd4f91b10fd0df6d0cd93b",
            "1020f6827554484188cb25848a8e735d",
            "0db3799e78ec4308abec906c5c955c6c",
            "1d25671585b44c7b9c218c944f394ca8",
            "c2400ef3e383407abda0c829ced1360a",
            "f1c77115651f4e849cc2f887f9baa492",
            "4c01bba8b06d414fbae3ea53027ae1a8",
            "b26df4af877d4c73bb24dc4fa0de7aa8",
            "2049a74fbf4d4ba7bd122628038d6e54"
          ]
        },
        "id": "NbXid6j1Pfol",
        "outputId": "b7f9ed61-4ce0-40ca-bad5-39d83f4fc69c"
      },
      "outputs": [
        {
          "output_type": "stream",
          "name": "stderr",
          "text": [
            "/usr/local/lib/python3.12/dist-packages/huggingface_hub/utils/_auth.py:94: UserWarning: \n",
            "The secret `HF_TOKEN` does not exist in your Colab secrets.\n",
            "To authenticate with the Hugging Face Hub, create a token in your settings tab (https://huggingface.co/settings/tokens), set it as secret in your Google Colab and restart your session.\n",
            "You will be able to reuse this secret in all of your notebooks.\n",
            "Please note that authentication is recommended but still optional to access public models or datasets.\n",
            "  warnings.warn(\n"
          ]
        },
        {
          "output_type": "display_data",
          "data": {
            "text/plain": [
              "README.md: 0.00B [00:00, ?B/s]"
            ],
            "application/vnd.jupyter.widget-view+json": {
              "version_major": 2,
              "version_minor": 0,
              "model_id": "d4162166df59466ab42dac1f8821985d"
            }
          },
          "metadata": {}
        },
        {
          "output_type": "display_data",
          "data": {
            "text/plain": [
              "data/train-00000-of-00011-1bad7e0c80eec6(…):   0%|          | 0.00/277M [00:00<?, ?B/s]"
            ],
            "application/vnd.jupyter.widget-view+json": {
              "version_major": 2,
              "version_minor": 0,
              "model_id": "9236986749934194b96e0a4bf0a1f96d"
            }
          },
          "metadata": {}
        },
        {
          "output_type": "display_data",
          "data": {
            "text/plain": [
              "data/train-00001-of-00011-6054fb3cdc4e32(…):   0%|          | 0.00/277M [00:00<?, ?B/s]"
            ],
            "application/vnd.jupyter.widget-view+json": {
              "version_major": 2,
              "version_minor": 0,
              "model_id": "b6c3de8c45894850a19843f1fbfcb9ed"
            }
          },
          "metadata": {}
        },
        {
          "output_type": "display_data",
          "data": {
            "text/plain": [
              "data/train-00002-of-00011-a127d6ce69a897(…):   0%|          | 0.00/277M [00:00<?, ?B/s]"
            ],
            "application/vnd.jupyter.widget-view+json": {
              "version_major": 2,
              "version_minor": 0,
              "model_id": "63c80b91238b4500a014e083367259b4"
            }
          },
          "metadata": {}
        },
        {
          "output_type": "display_data",
          "data": {
            "text/plain": [
              "data/train-00003-of-00011-21f909d3674ae6(…):   0%|          | 0.00/277M [00:00<?, ?B/s]"
            ],
            "application/vnd.jupyter.widget-view+json": {
              "version_major": 2,
              "version_minor": 0,
              "model_id": "5ba014bbc2884794826b3e1c596e4939"
            }
          },
          "metadata": {}
        },
        {
          "output_type": "display_data",
          "data": {
            "text/plain": [
              "data/train-00004-of-00011-a1f39061ea377e(…):   0%|          | 0.00/277M [00:00<?, ?B/s]"
            ],
            "application/vnd.jupyter.widget-view+json": {
              "version_major": 2,
              "version_minor": 0,
              "model_id": "d3edc718eaf14968907e673ffeac372d"
            }
          },
          "metadata": {}
        },
        {
          "output_type": "display_data",
          "data": {
            "text/plain": [
              "data/train-00005-of-00011-82690ea34a3fea(…):   0%|          | 0.00/276M [00:00<?, ?B/s]"
            ],
            "application/vnd.jupyter.widget-view+json": {
              "version_major": 2,
              "version_minor": 0,
              "model_id": "fbb3817987cd401ea1bfc9d718e04557"
            }
          },
          "metadata": {}
        },
        {
          "output_type": "display_data",
          "data": {
            "text/plain": [
              "data/train-00006-of-00011-7bec0b65691d3e(…):   0%|          | 0.00/277M [00:00<?, ?B/s]"
            ],
            "application/vnd.jupyter.widget-view+json": {
              "version_major": 2,
              "version_minor": 0,
              "model_id": "e94c8aab2837415facdbc4df80276fec"
            }
          },
          "metadata": {}
        },
        {
          "output_type": "display_data",
          "data": {
            "text/plain": [
              "data/train-00007-of-00011-e781d94c7434f2(…):   0%|          | 0.00/277M [00:00<?, ?B/s]"
            ],
            "application/vnd.jupyter.widget-view+json": {
              "version_major": 2,
              "version_minor": 0,
              "model_id": "e3e987df0c47408e8d4f04ee740d03f7"
            }
          },
          "metadata": {}
        },
        {
          "output_type": "display_data",
          "data": {
            "text/plain": [
              "data/train-00008-of-00011-dd59671427660d(…):   0%|          | 0.00/277M [00:00<?, ?B/s]"
            ],
            "application/vnd.jupyter.widget-view+json": {
              "version_major": 2,
              "version_minor": 0,
              "model_id": "28b59786d0674a058ca30f48c14fbc99"
            }
          },
          "metadata": {}
        },
        {
          "output_type": "display_data",
          "data": {
            "text/plain": [
              "data/train-00009-of-00011-30fc022f190ef6(…):   0%|          | 0.00/277M [00:00<?, ?B/s]"
            ],
            "application/vnd.jupyter.widget-view+json": {
              "version_major": 2,
              "version_minor": 0,
              "model_id": "d7d8dfca9c3640da9f662955fd15db31"
            }
          },
          "metadata": {}
        },
        {
          "output_type": "display_data",
          "data": {
            "text/plain": [
              "data/train-00010-of-00011-6fd49c27adf144(…):   0%|          | 0.00/277M [00:00<?, ?B/s]"
            ],
            "application/vnd.jupyter.widget-view+json": {
              "version_major": 2,
              "version_minor": 0,
              "model_id": "95a393e5a8e145e887d196f11ec79b57"
            }
          },
          "metadata": {}
        },
        {
          "output_type": "display_data",
          "data": {
            "text/plain": [
              "data/test-00000-of-00002-1ca61c509f1e9ec(…):   0%|          | 0.00/169M [00:00<?, ?B/s]"
            ],
            "application/vnd.jupyter.widget-view+json": {
              "version_major": 2,
              "version_minor": 0,
              "model_id": "e452f5351bff4704884d14a053d3d765"
            }
          },
          "metadata": {}
        },
        {
          "output_type": "display_data",
          "data": {
            "text/plain": [
              "data/test-00001-of-00002-94c6d0300d3d067(…):   0%|          | 0.00/169M [00:00<?, ?B/s]"
            ],
            "application/vnd.jupyter.widget-view+json": {
              "version_major": 2,
              "version_minor": 0,
              "model_id": "7ef83fcbccc744cbacc2d078a493a7b1"
            }
          },
          "metadata": {}
        },
        {
          "output_type": "display_data",
          "data": {
            "text/plain": [
              "Generating train split:   0%|          | 0/6320415 [00:00<?, ? examples/s]"
            ],
            "application/vnd.jupyter.widget-view+json": {
              "version_major": 2,
              "version_minor": 0,
              "model_id": "d35a283c9d214533ba8d12a79a5d0376"
            }
          },
          "metadata": {}
        },
        {
          "output_type": "display_data",
          "data": {
            "text/plain": [
              "Generating test split:   0%|          | 0/701969 [00:00<?, ? examples/s]"
            ],
            "application/vnd.jupyter.widget-view+json": {
              "version_major": 2,
              "version_minor": 0,
              "model_id": "9393a78a8cc7497db1714ec2ccc86af2"
            }
          },
          "metadata": {}
        }
      ],
      "source": [
        "from datasets import load_dataset\n",
        "\n",
        "dataset = load_dataset(\"ddrg/math_text\", split=\"train\")\n",
        "\n",
        "def get_training_corpus():\n",
        "    # First 1000 examples\n",
        "    for i in range(0, min(1000, len(dataset)), 100):\n",
        "        yield dataset[i : i + 100][\"text\"]"
      ]
    },
    {
      "cell_type": "markdown",
      "metadata": {
        "id": "FFj-yLFhPfol"
      },
      "source": [
        "The function `get_training_corpus()` is a generator that will yield batches of 100 texts, which we will use to train the tokenizer.\n",
        "\n",
        "🤗 Tokenizers can also be trained on text files directly. Here's how we can generate a text file containing all the texts/inputs from Math Text that we can use locally:"
      ]
    },
    {
      "cell_type": "code",
      "execution_count": 5,
      "metadata": {
        "id": "Q0N73m4BPfom"
      },
      "outputs": [],
      "source": [
        "with open(\"math_text.txt\", \"w\", encoding=\"utf-8\") as f:\n",
        "    for i in range(1000):\n",
        "        f.write(dataset[i][\"text\"] + \"\\n\")"
      ]
    },
    {
      "cell_type": "code",
      "source": [
        "print(\"Column names:\", dataset.column_names)\n",
        "first_example = dataset[0]\n",
        "\n",
        "print(\"Text:\")\n",
        "for key, value in first_example.items():\n",
        "    if isinstance(value, str):\n",
        "        for i in range(0, len(value), 140):\n",
        "            print(f\"  {value[i:i+140]}\")"
      ],
      "metadata": {
        "id": "LPWsbYhZrWt7",
        "outputId": "2bcfd775-0fc9-4030-fa72-370b6ad0a906",
        "colab": {
          "base_uri": "https://localhost:8080/"
        }
      },
      "execution_count": 17,
      "outputs": [
        {
          "output_type": "stream",
          "name": "stdout",
          "text": [
            "Column names: ['id', 'text']\n",
            "Text:\n",
            "  Before providing my solution, I'd must admit that Oliver Oloa provides the  way to calculate this integral. I merely provide a different app\n",
            "  roach, using Fourier transforms. First a comment. I tried to use a symmetry argument saying that  $\\int\\limits_0^\\infty g(x + \\frac1x) \\oper\n",
            "  atorname{atan}(x\\frac1x)\\,dx = \\frac{\\pi}{4} \\int\\limits_0^\\infty g(x + \\frac1x) \\frac1x\\,dx$ but I was not able to put this integral into t\n",
            "  hat form. Now to the solution: Since the integrand is even, our integral equals  $ \\frac{1}{2}\\int_{-\\infty}^{+\\infty}\\frac{\\arctan x}{x(1+x\n",
            "  ^2)}\\,dx.  $ We need to know the Fourier transforms  $ \\mathcal Fl[\\frac{1}{1+x^2}r](\\xi)=\\sqrt{\\frac{\\pi}{2}}e^{-|\\xi|}\\quad\\text{and}\\quad\n",
            "   \\mathcal Fl[\\frac{\\arctan x}{x}r](\\xi)=\\sqrt{\\frac{\\pi}{2}}\\int_{|\\xi|}^{+\\infty}\\frac{e^{-t}}{t}\\,dt.  $ By Parseval's formula,  $ \\int_0^\n",
            "  {+\\infty}\\frac{\\arctan x}{x(1+x^2)}\\,dx= \\frac{1}{2}\\sqrt{\\frac{\\pi}{2}}\\sqrt{\\frac{\\pi}{2}} \\int_{-\\infty}^{+\\infty} e^{-|\\xi|}\\int_{|\\xi|}\n",
            "  ^{+\\infty} \\frac{e^{-t}}{t}\\,dt\\,d\\xi.  $ The integrand is even in  $\\xi $, so we get  $ \\frac{\\pi}{2}\\int_0^{+\\infty}e^{-\\xi}\\int_{\\xi}^{+\\\n",
            "  infty}\\frac{e^{-t}}{t}\\,dt\\,d\\xi.  $ Changing the order of integrations, and calculating the inner one, we get  $\\frac{\\pi}{2} \\int\\limits_0\n",
            "  ^\\infty \\frac{e^{-t}}{t} \\int\\limits_0^t e^{-\\xi}\\,d\\xi\\,dt = \\frac{\\pi}{2} \\int\\limits_0^\\infty \\frac{e^{-t}}{t} (1 - e^{-t})\\,dt$ Now, the\n",
            "   last integral is a Frullani integral that equals  $\\log 2 $, so we finally get that  $ \\int_0^{+\\infty}\\frac{\\arctan x}{x(1+x^2)}\\,dx=\\frac\n",
            "  {\\pi}{2}\\log 2.  $\n"
          ]
        }
      ]
    },
    {
      "cell_type": "markdown",
      "metadata": {
        "id": "gtrHATqVPfom"
      },
      "source": [
        "Next we'll show you how to build your own BERT, GPT-2, and XLNet tokenizers, block by block. That will give us an example of each of the three main tokenization algorithms: WordPiece, BPE, and Unigram. Let's start with BERT!"
      ]
    },
    {
      "cell_type": "markdown",
      "metadata": {
        "id": "P7HPYJoUPfon"
      },
      "source": [
        "## Building a WordPiece tokenizer from scratch\n",
        "\n",
        "To build a tokenizer with the 🤗 Tokenizers library, we start by instantiating a `Tokenizer` object with a `model`, then set its `normalizer`, `pre_tokenizer`, `post_processor`, and `decoder` attributes to the values we want.\n",
        "\n",
        "For this example, we'll create a `Tokenizer` with a WordPiece model:"
      ]
    },
    {
      "cell_type": "code",
      "execution_count": 88,
      "metadata": {
        "id": "1b26ykMePfon"
      },
      "outputs": [],
      "source": [
        "from tokenizers import (\n",
        "    decoders,\n",
        "    models,\n",
        "    normalizers,\n",
        "    pre_tokenizers,\n",
        "    processors,\n",
        "    trainers,\n",
        "    Tokenizer,\n",
        ")\n",
        "\n",
        "tokenizer = Tokenizer(models.WordPiece(unk_token=\"[UNK]\"))"
      ]
    },
    {
      "cell_type": "markdown",
      "metadata": {
        "id": "nt7yyZQCPfoo"
      },
      "source": [
        "We have to specify the `unk_token` so the model knows what to return when it encounters characters it hasn't seen before. Other arguments we can set here include the `vocab` of our model (we're going to train the model, so we don't need to set this) and `max_input_chars_per_word`, which specifies a maximum length for each word (words longer than the value passed will be split).\n",
        "\n",
        "### Setting up the Normalizer\n",
        "\n",
        "The first step of tokenization is normalization, so let's begin with that. Since BERT is widely used, there is a `BertNormalizer` with the classic options we can set for BERT:"
      ]
    },
    {
      "cell_type": "code",
      "execution_count": 89,
      "metadata": {
        "id": "gB1CG2RePfoo"
      },
      "outputs": [],
      "source": [
        "tokenizer.normalizer = normalizers.BertNormalizer(lowercase=True)"
      ]
    },
    {
      "cell_type": "markdown",
      "metadata": {
        "id": "ial-DYELPfoo"
      },
      "source": [
        "Generally speaking, however, when building a new tokenizer you won't have access to such a handy normalizer already implemented in the 🤗 Tokenizers library -- so let's see how to create the BERT normalizer by hand. The library provides a `Lowercase` normalizer and a `StripAccents` normalizer, and you can compose several normalizers using a `Sequence`:"
      ]
    },
    {
      "cell_type": "code",
      "execution_count": 90,
      "metadata": {
        "id": "leWQZT3EPfoo"
      },
      "outputs": [],
      "source": [
        "tokenizer.normalizer = normalizers.Sequence(\n",
        "    [normalizers.NFD(), normalizers.Lowercase(), normalizers.StripAccents()]\n",
        ")"
      ]
    },
    {
      "cell_type": "markdown",
      "metadata": {
        "id": "o-dqRJHhPfop"
      },
      "source": [
        "We're also using an `NFD` Unicode normalizer, as otherwise the `StripAccents` normalizer won't properly recognize the accented characters and thus won't strip them out.\n",
        "\n",
        "As we've seen before, we can use the `normalize_str()` method of the `normalizer` to check out the effects it has on a given text:"
      ]
    },
    {
      "cell_type": "code",
      "execution_count": 91,
      "metadata": {
        "colab": {
          "base_uri": "https://localhost:8080/"
        },
        "id": "GN-au_UxPfop",
        "outputId": "ff3cd437-e7c8-409e-89a3-9adae99abbad"
      },
      "outputs": [
        {
          "output_type": "stream",
          "name": "stdout",
          "text": [
            "all non-trivial zeroes of the riemann zeta function $\\zeta(s)$ lie on the critical line $\text{re}(s)=1/2.\n"
          ]
        },
        {
          "output_type": "stream",
          "name": "stderr",
          "text": [
            "<>:1: SyntaxWarning: invalid escape sequence '\\z'\n",
            "<>:1: SyntaxWarning: invalid escape sequence '\\z'\n",
            "/tmp/ipython-input-308738908.py:1: SyntaxWarning: invalid escape sequence '\\z'\n",
            "  math_ex = \"All non-trivial zeroes of the Riemann zeta function $\\zeta(s)$ lie on the critical line $\\text{Re}(s)=1/2.\"\n"
          ]
        }
      ],
      "source": [
        "math_ex = \"All non-trivial zeroes of the Riemann zeta function $\\zeta(s)$ lie on the critical line $\\text{Re}(s)=1/2.\"\n",
        "print(tokenizer.normalizer.normalize_str(math_ex))"
      ]
    },
    {
      "cell_type": "markdown",
      "metadata": {
        "id": "S4tOp8SUPfop"
      },
      "source": [
        "### Setting up the Pre-tokenizer\n",
        "\n",
        "Next is the pre-tokenization step. Again, there is a prebuilt `BertPreTokenizer` that we can use:"
      ]
    },
    {
      "cell_type": "code",
      "execution_count": 92,
      "metadata": {
        "id": "QpJiAthNPfop"
      },
      "outputs": [],
      "source": [
        "tokenizer.pre_tokenizer = pre_tokenizers.BertPreTokenizer()"
      ]
    },
    {
      "cell_type": "markdown",
      "metadata": {
        "id": "p_lIoJ_mPfop"
      },
      "source": [
        "Or we can build it from scratch:"
      ]
    },
    {
      "cell_type": "code",
      "execution_count": 93,
      "metadata": {
        "id": "Q7deMVPxPfoq"
      },
      "outputs": [],
      "source": [
        "tokenizer.pre_tokenizer = pre_tokenizers.Whitespace()"
      ]
    },
    {
      "cell_type": "markdown",
      "metadata": {
        "id": "05E_vH1mPfoq"
      },
      "source": [
        "Note that the `Whitespace` pre-tokenizer splits on whitespace and all characters that are not letters, digits, or the underscore character, so it technically splits on whitespace and punctuation:"
      ]
    },
    {
      "cell_type": "code",
      "execution_count": 94,
      "metadata": {
        "colab": {
          "base_uri": "https://localhost:8080/"
        },
        "id": "a6tGAVw3Pfoq",
        "outputId": "803e2018-9c79-4e7e-e6f5-ccd2b00350c0"
      },
      "outputs": [
        {
          "output_type": "execute_result",
          "data": {
            "text/plain": [
              "[('All', (0, 3)),\n",
              " ('non', (4, 7)),\n",
              " ('-', (7, 8)),\n",
              " ('trivial', (8, 15)),\n",
              " ('zeroes', (16, 22)),\n",
              " ('of', (23, 25)),\n",
              " ('the', (26, 29)),\n",
              " ('Riemann', (30, 37)),\n",
              " ('zeta', (38, 42)),\n",
              " ('function', (43, 51)),\n",
              " ('$\\\\', (52, 54)),\n",
              " ('zeta', (54, 58)),\n",
              " ('(', (58, 59)),\n",
              " ('s', (59, 60)),\n",
              " (')$', (60, 62)),\n",
              " ('lie', (63, 66)),\n",
              " ('on', (67, 69)),\n",
              " ('the', (70, 73)),\n",
              " ('critical', (74, 82)),\n",
              " ('line', (83, 87)),\n",
              " ('$', (88, 89)),\n",
              " ('ext', (90, 93)),\n",
              " ('{', (93, 94)),\n",
              " ('Re', (94, 96)),\n",
              " ('}(', (96, 98)),\n",
              " ('s', (98, 99)),\n",
              " (')=', (99, 101)),\n",
              " ('1', (101, 102)),\n",
              " ('/', (102, 103)),\n",
              " ('2', (103, 104)),\n",
              " ('.', (104, 105))]"
            ]
          },
          "metadata": {},
          "execution_count": 94
        }
      ],
      "source": [
        "tokenizer.pre_tokenizer.pre_tokenize_str(math_ex)"
      ]
    },
    {
      "cell_type": "markdown",
      "metadata": {
        "id": "yHPuJTaLPfoq"
      },
      "source": [
        "If you only want to split on whitespace, you should use the `WhitespaceSplit` pre-tokenizer instead:"
      ]
    },
    {
      "cell_type": "code",
      "execution_count": 95,
      "metadata": {
        "colab": {
          "base_uri": "https://localhost:8080/"
        },
        "id": "lqqWXw4LPfoq",
        "outputId": "429fbc12-ae75-4d34-84b6-50d90eb9df21"
      },
      "outputs": [
        {
          "output_type": "execute_result",
          "data": {
            "text/plain": [
              "[('All', (0, 3)),\n",
              " ('non-trivial', (4, 15)),\n",
              " ('zeroes', (16, 22)),\n",
              " ('of', (23, 25)),\n",
              " ('the', (26, 29)),\n",
              " ('Riemann', (30, 37)),\n",
              " ('zeta', (38, 42)),\n",
              " ('function', (43, 51)),\n",
              " ('$\\\\zeta(s)$', (52, 62)),\n",
              " ('lie', (63, 66)),\n",
              " ('on', (67, 69)),\n",
              " ('the', (70, 73)),\n",
              " ('critical', (74, 82)),\n",
              " ('line', (83, 87)),\n",
              " ('$', (88, 89)),\n",
              " ('ext{Re}(s)=1/2.', (90, 105))]"
            ]
          },
          "metadata": {},
          "execution_count": 95
        }
      ],
      "source": [
        "pre_tokenizer = pre_tokenizers.WhitespaceSplit()\n",
        "pre_tokenizer.pre_tokenize_str(math_ex)"
      ]
    },
    {
      "cell_type": "markdown",
      "metadata": {
        "id": "cRA9t9SMPfor"
      },
      "source": [
        "Like with normalizers, you can use a `Sequence` to compose several pre-tokenizers:"
      ]
    },
    {
      "cell_type": "code",
      "execution_count": 96,
      "metadata": {
        "colab": {
          "base_uri": "https://localhost:8080/"
        },
        "id": "0ORmZeFmPfor",
        "outputId": "87b87531-03c0-4729-c8d6-ae6b9ca32b6b"
      },
      "outputs": [
        {
          "output_type": "execute_result",
          "data": {
            "text/plain": [
              "[('All', (0, 3)),\n",
              " ('non', (4, 7)),\n",
              " ('-', (7, 8)),\n",
              " ('trivial', (8, 15)),\n",
              " ('zeroes', (16, 22)),\n",
              " ('of', (23, 25)),\n",
              " ('the', (26, 29)),\n",
              " ('Riemann', (30, 37)),\n",
              " ('zeta', (38, 42)),\n",
              " ('function', (43, 51)),\n",
              " ('$', (52, 53)),\n",
              " ('\\\\', (53, 54)),\n",
              " ('zeta', (54, 58)),\n",
              " ('(', (58, 59)),\n",
              " ('s', (59, 60)),\n",
              " (')', (60, 61)),\n",
              " ('$', (61, 62)),\n",
              " ('lie', (63, 66)),\n",
              " ('on', (67, 69)),\n",
              " ('the', (70, 73)),\n",
              " ('critical', (74, 82)),\n",
              " ('line', (83, 87)),\n",
              " ('$', (88, 89)),\n",
              " ('ext', (90, 93)),\n",
              " ('{', (93, 94)),\n",
              " ('Re', (94, 96)),\n",
              " ('}', (96, 97)),\n",
              " ('(', (97, 98)),\n",
              " ('s', (98, 99)),\n",
              " (')', (99, 100)),\n",
              " ('=', (100, 101)),\n",
              " ('1', (101, 102)),\n",
              " ('/', (102, 103)),\n",
              " ('2', (103, 104)),\n",
              " ('.', (104, 105))]"
            ]
          },
          "metadata": {},
          "execution_count": 96
        }
      ],
      "source": [
        "pre_tokenizer = pre_tokenizers.Sequence(\n",
        "    [pre_tokenizers.WhitespaceSplit(), pre_tokenizers.Punctuation()]\n",
        ")\n",
        "pre_tokenizer.pre_tokenize_str(math_ex)"
      ]
    },
    {
      "cell_type": "markdown",
      "metadata": {
        "id": "UdEc_4rpPfor"
      },
      "source": [
        "### Training the Model\n",
        "\n",
        "The next step in the tokenization pipeline is running the inputs through the model. We already specified our model in the initialization, but we still need to train it, which will require a `WordPieceTrainer`. The main thing to remember when instantiating a trainer in 🤗 Tokenizers is that you need to pass it all the special tokens you intend to use -- otherwise it won't add them to the vocabulary, since they are not in the training corpus:"
      ]
    },
    {
      "cell_type": "code",
      "execution_count": 97,
      "metadata": {
        "id": "BmNQlSdcPfor"
      },
      "outputs": [],
      "source": [
        "special_tokens = [\"[UNK]\", \"[PAD]\", \"[CLS]\", \"[SEP]\", \"[MASK]\"]\n",
        "trainer = trainers.WordPieceTrainer(vocab_size=25000, special_tokens=special_tokens)"
      ]
    },
    {
      "cell_type": "markdown",
      "metadata": {
        "id": "50HeAWP3Pfos"
      },
      "source": [
        "As well as specifying the `vocab_size` and `special_tokens`, we can set the `min_frequency` (the number of times a token must appear to be included in the vocabulary) or change the `continuing_subword_prefix` (if we want to use something different from `##`).\n",
        "\n",
        "To train our model using the iterator we defined earlier, we just have to execute this command:"
      ]
    },
    {
      "cell_type": "code",
      "execution_count": 98,
      "metadata": {
        "id": "_NkKcnjvPfos"
      },
      "outputs": [],
      "source": [
        "tokenizer.train_from_iterator(get_training_corpus(), trainer=trainer)"
      ]
    },
    {
      "cell_type": "markdown",
      "metadata": {
        "id": "phI6Zv5uPfos"
      },
      "source": [
        "We can also use text files to train our tokenizer, which would look like this (we reinitialize the model with an empty `WordPiece` beforehand):"
      ]
    },
    {
      "cell_type": "code",
      "execution_count": 99,
      "metadata": {
        "id": "0zTtVvROPfos"
      },
      "outputs": [],
      "source": [
        "# Alternative training method using text files\n",
        "# tokenizer.model = models.WordPiece(unk_token=\"[UNK]\")\n",
        "# tokenizer.train([\"wikitext-2.txt\"], trainer=trainer)"
      ]
    },
    {
      "cell_type": "markdown",
      "metadata": {
        "id": "hGVm6PsxPfos"
      },
      "source": [
        "In both cases, we can then test the tokenizer on a text by calling the `encode()` method:"
      ]
    },
    {
      "cell_type": "code",
      "execution_count": 100,
      "metadata": {
        "colab": {
          "base_uri": "https://localhost:8080/"
        },
        "id": "UU2ThXQePfos",
        "outputId": "6598c78c-ad0e-4946-d9aa-1b04538f935c"
      },
      "outputs": [
        {
          "output_type": "stream",
          "name": "stdout",
          "text": [
            "['all', 'non', '-', 'trivial', 'zeroes', 'of', 'the', 'riemann', 'zeta', 'function', '$\\\\', 'zeta', '(', 's', ')$', 'lie', 'on', 'the', 'critical', 'line', '$', 'ext', '{', 're', '}(', 's', ')=', '1', '/', '2', '.']\n"
          ]
        }
      ],
      "source": [
        "encoding = tokenizer.encode(math_ex)\n",
        "print(encoding.tokens)"
      ]
    },
    {
      "cell_type": "markdown",
      "metadata": {
        "id": "5xOJ_hSgPfos"
      },
      "source": [
        "The `encoding` obtained is an `Encoding`, which contains all the necessary outputs of the tokenizer in its various attributes: `ids`, `type_ids`, `tokens`, `offsets`, `attention_mask`, `special_tokens_mask`, and `overflowing`.\n",
        "\n",
        "### Post-processing\n",
        "\n",
        "The last step in the tokenization pipeline is post-processing. We need to add the `[CLS]` token at the beginning and the `[SEP]` token at the end (or after each sentence, if we have a pair of sentences). We will use a `TemplateProcessor` for this, but first we need to know the IDs of the `[CLS]` and `[SEP]` tokens in the vocabulary:"
      ]
    },
    {
      "cell_type": "code",
      "execution_count": 101,
      "metadata": {
        "colab": {
          "base_uri": "https://localhost:8080/"
        },
        "id": "7mTgf8sfPfot",
        "outputId": "9ec135ce-fcc5-4e52-abae-2ea8408a6daa"
      },
      "outputs": [
        {
          "output_type": "stream",
          "name": "stdout",
          "text": [
            "2 3\n"
          ]
        }
      ],
      "source": [
        "cls_token_id = tokenizer.token_to_id(\"[CLS]\")\n",
        "sep_token_id = tokenizer.token_to_id(\"[SEP]\")\n",
        "print(cls_token_id, sep_token_id)"
      ]
    },
    {
      "cell_type": "markdown",
      "metadata": {
        "id": "IZ0yCjT-Pfot"
      },
      "source": [
        "To write the template for the `TemplateProcessor`, we have to specify how to treat a single sentence and a pair of sentences. For both, we write the special tokens we want to use; the first (or single) sentence is represented by `$A`, while the second sentence (if encoding a pair) is represented by `$B`. For each of these (special tokens and sentences), we also specify the corresponding token type ID after a colon.\n",
        "\n",
        "The classic BERT template is thus defined as follows:"
      ]
    },
    {
      "cell_type": "code",
      "execution_count": 102,
      "metadata": {
        "id": "MezYrOCJPfot"
      },
      "outputs": [],
      "source": [
        "tokenizer.post_processor = processors.TemplateProcessing(\n",
        "    single=f\"[CLS]:0 $A:0 [SEP]:0\",\n",
        "    pair=f\"[CLS]:0 $A:0 [SEP]:0 $B:1 [SEP]:1\",\n",
        "    special_tokens=[(\"[CLS]\", cls_token_id), (\"[SEP]\", sep_token_id)],\n",
        ")"
      ]
    },
    {
      "cell_type": "markdown",
      "metadata": {
        "id": "FhvSkp4yPfot"
      },
      "source": [
        "Note that we need to pass along the IDs of the special tokens, so the tokenizer can properly convert them to their IDs.\n",
        "\n",
        "Once this is added, going back to our previous example will give:"
      ]
    },
    {
      "cell_type": "code",
      "execution_count": 103,
      "metadata": {
        "colab": {
          "base_uri": "https://localhost:8080/"
        },
        "id": "9aJSxEuPPfot",
        "outputId": "1d52f78f-5d07-4c9c-9a85-927fb8f2252b"
      },
      "outputs": [
        {
          "output_type": "stream",
          "name": "stdout",
          "text": [
            "['[CLS]', 'all', 'non', '-', 'trivial', 'zeroes', 'of', 'the', 'riemann', 'zeta', 'function', '$\\\\', 'zeta', '(', 's', ')$', 'lie', 'on', 'the', 'critical', 'line', '$', 'ext', '{', 're', '}(', 's', ')=', '1', '/', '2', '.', '[SEP]']\n"
          ]
        }
      ],
      "source": [
        "encoding = tokenizer.encode(math_ex)\n",
        "print(encoding.tokens)"
      ]
    },
    {
      "cell_type": "markdown",
      "metadata": {
        "id": "EuYM_ez7Pfot"
      },
      "source": [
        "And on a pair of sentences, we get the proper result:"
      ]
    },
    {
      "cell_type": "code",
      "execution_count": 142,
      "metadata": {
        "colab": {
          "base_uri": "https://localhost:8080/"
        },
        "id": "5sqT8BT0Pfou",
        "outputId": "7ce20c12-f8c0-45a3-c062-07bc681cf617"
      },
      "outputs": [
        {
          "output_type": "stream",
          "name": "stdout",
          "text": [
            "['▁A', 'll', '▁non-', 'trivial', '▁zero', 'es', '▁of', '▁the', '▁Riemann', '▁', 'zeta', '▁function', '▁$', '\\\\zeta(s)', '$', '▁lie', '▁on', '▁the', '▁critic', 'al', '▁line', '▁$', '\\t', 'e', 'x', 't', '{R', 'e', '}(s)', '=', '1/2', '.', '<sep>', '▁The', '▁sine', '▁function', '▁$', 's', 'in', '(x)$', '▁has', '▁zeros', '▁at', '▁$k', '\\\\pi', '$.', '<sep>', '<cls>']\n",
            "[0, 0, 0, 0, 0, 0, 0, 0, 0, 0, 0, 0, 0, 0, 0, 0, 0, 0, 0, 0, 0, 0, 0, 0, 0, 0, 0, 0, 0, 0, 0, 0, 0, 1, 1, 1, 1, 1, 1, 1, 1, 1, 1, 1, 1, 1, 1, 2]\n"
          ]
        },
        {
          "output_type": "stream",
          "name": "stderr",
          "text": [
            "<>:1: SyntaxWarning: invalid escape sequence '\\p'\n",
            "<>:1: SyntaxWarning: invalid escape sequence '\\p'\n",
            "/tmp/ipython-input-4111243192.py:1: SyntaxWarning: invalid escape sequence '\\p'\n",
            "  math_ex_2 = \"The sine function $sin(x)$ has zeros at $k\\pi$.\"\n"
          ]
        }
      ],
      "source": [
        "math_ex_2 = \"The sine function $sin(x)$ has zeros at $k\\pi$.\"\n",
        "encoding = tokenizer.encode(math_ex, math_ex_2)\n",
        "print(encoding.tokens)\n",
        "print(encoding.type_ids)"
      ]
    },
    {
      "cell_type": "markdown",
      "metadata": {
        "id": "n0LWMVCqPfou"
      },
      "source": [
        "### Adding a Decoder\n",
        "\n",
        "We've almost finished building this tokenizer from scratch -- the last step is to include a decoder:"
      ]
    },
    {
      "cell_type": "code",
      "execution_count": 105,
      "metadata": {
        "id": "0lzaS7CGPfou"
      },
      "outputs": [],
      "source": [
        "tokenizer.decoder = decoders.WordPiece(prefix=\"##\")"
      ]
    },
    {
      "cell_type": "markdown",
      "metadata": {
        "id": "M6a25-K-Pfou"
      },
      "source": [
        "Let's test it on our previous `encoding`:"
      ]
    },
    {
      "cell_type": "code",
      "execution_count": 106,
      "metadata": {
        "colab": {
          "base_uri": "https://localhost:8080/",
          "height": 35
        },
        "id": "r2q9WGIzPfou",
        "outputId": "ae999940-0406-42a8-e6d3-e8f9cbb5d973"
      },
      "outputs": [
        {
          "output_type": "execute_result",
          "data": {
            "text/plain": [
              "'all non - trivial zeroes of the riemann zeta function $\\\\ zeta ( s )$ lie on the critical line $ ext { re }( s )= 1 / 2. on a pair of sentences.'"
            ],
            "application/vnd.google.colaboratory.intrinsic+json": {
              "type": "string"
            }
          },
          "metadata": {},
          "execution_count": 106
        }
      ],
      "source": [
        "tokenizer.decode(encoding.ids)"
      ]
    },
    {
      "cell_type": "markdown",
      "metadata": {
        "id": "nAMVluGuPfou"
      },
      "source": [
        "### Saving and Loading the Tokenizer\n",
        "\n",
        "Great! We can save our tokenizer in a single JSON file like this:"
      ]
    },
    {
      "cell_type": "code",
      "execution_count": 107,
      "metadata": {
        "id": "rmE3_nLGPfou"
      },
      "outputs": [],
      "source": [
        "tokenizer.save(\"tokenizer.json\")"
      ]
    },
    {
      "cell_type": "markdown",
      "metadata": {
        "id": "lSMu2ikYPfov"
      },
      "source": [
        "We can then reload that file in a `Tokenizer` object with the `from_file()` method:"
      ]
    },
    {
      "cell_type": "code",
      "execution_count": 108,
      "metadata": {
        "id": "TMI8O-gIPfov"
      },
      "outputs": [],
      "source": [
        "new_tokenizer = Tokenizer.from_file(\"tokenizer.json\")"
      ]
    },
    {
      "cell_type": "markdown",
      "metadata": {
        "id": "3iDttzAfPfov"
      },
      "source": [
        "### Using with 🤗 Transformers\n",
        "\n",
        "To use this tokenizer in 🤗 Transformers, we have to wrap it in a `PreTrainedTokenizerFast`. We can either use the generic class or, if our tokenizer corresponds to an existing model, use that class (here, `BertTokenizerFast`).\n",
        "\n",
        "To wrap the tokenizer in a `PreTrainedTokenizerFast`, we can either pass the tokenizer we built as a `tokenizer_object` or pass the tokenizer file we saved as `tokenizer_file`. The key thing to remember is that we have to manually set all the special tokens:"
      ]
    },
    {
      "cell_type": "code",
      "execution_count": 109,
      "metadata": {
        "id": "2XosC74gPfov"
      },
      "outputs": [],
      "source": [
        "from transformers import PreTrainedTokenizerFast\n",
        "\n",
        "wrapped_tokenizer = PreTrainedTokenizerFast(\n",
        "    tokenizer_object=tokenizer,\n",
        "    # tokenizer_file=\"tokenizer.json\", # You can load from the tokenizer file, alternatively\n",
        "    unk_token=\"[UNK]\",\n",
        "    pad_token=\"[PAD]\",\n",
        "    cls_token=\"[CLS]\",\n",
        "    sep_token=\"[SEP]\",\n",
        "    mask_token=\"[MASK]\",\n",
        ")"
      ]
    },
    {
      "cell_type": "markdown",
      "metadata": {
        "id": "DZGc1dblPfov"
      },
      "source": [
        "If you are using a specific tokenizer class (like `BertTokenizerFast`), you will only need to specify the special tokens that are different from the default ones (here, none):"
      ]
    },
    {
      "cell_type": "code",
      "execution_count": 110,
      "metadata": {
        "id": "BEamYOjmPfow"
      },
      "outputs": [],
      "source": [
        "from transformers import BertTokenizerFast\n",
        "\n",
        "wrapped_tokenizer = BertTokenizerFast(tokenizer_object=tokenizer)"
      ]
    },
    {
      "cell_type": "markdown",
      "metadata": {
        "id": "woDWXSiyPfow"
      },
      "source": [
        "You can then use this tokenizer like any other 🤗 Transformers tokenizer. You can save it with the `save_pretrained()` method, or upload it to the Hub with the `push_to_hub()` method.\n",
        "\n",
        "Now that we've seen how to build a WordPiece tokenizer, let's do the same for a BPE tokenizer. We'll go a bit faster since you know all the steps, and only highlight the differences."
      ]
    },
    {
      "cell_type": "markdown",
      "metadata": {
        "id": "xjRkFJ-uPfow"
      },
      "source": [
        "## Building a BPE tokenizer from scratch\n",
        "\n",
        "Let's now build a GPT-2 tokenizer. Like for the BERT tokenizer, we start by initializing a `Tokenizer` with a BPE model:"
      ]
    },
    {
      "cell_type": "code",
      "execution_count": 111,
      "metadata": {
        "id": "SOrxAV0ePfow"
      },
      "outputs": [],
      "source": [
        "tokenizer = Tokenizer(models.BPE())"
      ]
    },
    {
      "cell_type": "markdown",
      "metadata": {
        "id": "j7bwUeGHPfow"
      },
      "source": [
        "Also like for BERT, we could initialize this model with a vocabulary if we had one (we would need to pass the `vocab` and `merges` in this case), but since we will train from scratch, we don't need to do that. We also don't need to specify an `unk_token` because GPT-2 uses byte-level BPE, which doesn't require it.\n",
        "\n",
        "GPT-2 does not use a normalizer, so we skip that step and go directly to the pre-tokenization:"
      ]
    },
    {
      "cell_type": "code",
      "execution_count": 112,
      "metadata": {
        "id": "C3-frEdpPfow"
      },
      "outputs": [],
      "source": [
        "tokenizer.pre_tokenizer = pre_tokenizers.ByteLevel(add_prefix_space=False)"
      ]
    },
    {
      "cell_type": "markdown",
      "metadata": {
        "id": "0X4AtLn6Pfow"
      },
      "source": [
        "The option we added to `ByteLevel` here is to not add a space at the beginning of a sentence (which is the default otherwise). We can have a look at the pre-tokenization of an example text like before:"
      ]
    },
    {
      "cell_type": "code",
      "execution_count": 143,
      "metadata": {
        "colab": {
          "base_uri": "https://localhost:8080/"
        },
        "id": "bnBGqcP1Pfox",
        "outputId": "9423abb7-d074-4646-fd33-99e3d8b4bbe5"
      },
      "outputs": [
        {
          "output_type": "execute_result",
          "data": {
            "text/plain": [
              "[('▁All', (0, 3)),\n",
              " ('▁non-trivial', (3, 15)),\n",
              " ('▁zeroes', (15, 22)),\n",
              " ('▁of', (22, 25)),\n",
              " ('▁the', (25, 29)),\n",
              " ('▁Riemann', (29, 37)),\n",
              " ('▁zeta', (37, 42)),\n",
              " ('▁function', (42, 51)),\n",
              " ('▁$\\\\zeta(s)$', (51, 62)),\n",
              " ('▁lie', (62, 66)),\n",
              " ('▁on', (66, 69)),\n",
              " ('▁the', (69, 73)),\n",
              " ('▁critical', (73, 82)),\n",
              " ('▁line', (82, 87)),\n",
              " ('▁$\\text{Re}(s)=1/2.', (87, 105))]"
            ]
          },
          "metadata": {},
          "execution_count": 143
        }
      ],
      "source": [
        "tokenizer.pre_tokenizer.pre_tokenize_str(math_ex)"
      ]
    },
    {
      "cell_type": "markdown",
      "metadata": {
        "id": "lddIp70wPfox"
      },
      "source": [
        "Next is the model, which needs training. For GPT-2, the only special token is the end-of-text token:"
      ]
    },
    {
      "cell_type": "code",
      "execution_count": 114,
      "metadata": {
        "id": "g5VysGGcPfox"
      },
      "outputs": [],
      "source": [
        "trainer = trainers.BpeTrainer(vocab_size=25000, special_tokens=[\"<|endoftext|>\"])\n",
        "tokenizer.train_from_iterator(get_training_corpus(), trainer=trainer)"
      ]
    },
    {
      "cell_type": "markdown",
      "metadata": {
        "id": "GiICrl1aPfox"
      },
      "source": [
        "Like with the `WordPieceTrainer`, as well as the `vocab_size` and `special_tokens`, we can specify the `min_frequency` if we want to, or if we have an end-of-word suffix (like `</w>`), we can set it with `end_of_word_suffix`.\n",
        "\n",
        "This tokenizer can also be trained on text files:"
      ]
    },
    {
      "cell_type": "code",
      "execution_count": 115,
      "metadata": {
        "id": "hT3sJ-QBPfox"
      },
      "outputs": [],
      "source": [
        "# Alternative training method\n",
        "# tokenizer.model = models.BPE()\n",
        "# tokenizer.train([\"wikitext-2.txt\"], trainer=trainer)"
      ]
    },
    {
      "cell_type": "markdown",
      "metadata": {
        "id": "_G6iHKQOPfox"
      },
      "source": [
        "Let's have a look at the tokenization of a sample text:"
      ]
    },
    {
      "cell_type": "code",
      "execution_count": 144,
      "metadata": {
        "colab": {
          "base_uri": "https://localhost:8080/"
        },
        "id": "I4HJ4HS0Pfox",
        "outputId": "41210d35-fc48-4da2-9aaa-208d9ea7ffad"
      },
      "outputs": [
        {
          "output_type": "stream",
          "name": "stdout",
          "text": [
            "['▁A', 'll', '▁non-', 'trivial', '▁zero', 'es', '▁of', '▁the', '▁Riemann', '▁', 'zeta', '▁function', '▁$', '\\\\zeta(s)', '$', '▁lie', '▁on', '▁the', '▁critic', 'al', '▁line', '▁$', '\\t', 'e', 'x', 't', '{R', 'e', '}(s)', '=', '1/2', '.', '<sep>', '<cls>']\n"
          ]
        }
      ],
      "source": [
        "encoding = tokenizer.encode(math_ex)\n",
        "print(encoding.tokens)"
      ]
    },
    {
      "cell_type": "markdown",
      "metadata": {
        "id": "yZhA1hQSPfoy"
      },
      "source": [
        "We apply the byte-level post-processing for the GPT-2 tokenizer as follows:"
      ]
    },
    {
      "cell_type": "code",
      "execution_count": 117,
      "metadata": {
        "id": "_bKFU5T9Pfoy"
      },
      "outputs": [],
      "source": [
        "tokenizer.post_processor = processors.ByteLevel(trim_offsets=False)"
      ]
    },
    {
      "cell_type": "markdown",
      "metadata": {
        "id": "DYlUbE3BPfoy"
      },
      "source": [
        "The `trim_offsets = False` option indicates to the post-processor that we should leave the offsets of tokens that begin with 'Ġ ' as they are: this way the start of the offsets will point to the space before the word, not the first character of the word (since the space is technically part of the token). Let's have a look at the result with the text we just encoded, where `'Ġ test'` is the token at index 4:"
      ]
    },
    {
      "cell_type": "code",
      "execution_count": 145,
      "metadata": {
        "colab": {
          "base_uri": "https://localhost:8080/",
          "height": 35
        },
        "id": "SqBedLIHPfoy",
        "outputId": "bc8d9cc8-7cdb-4b35-cbbe-82448fe02618"
      },
      "outputs": [
        {
          "output_type": "execute_result",
          "data": {
            "text/plain": [
              "' zero'"
            ],
            "application/vnd.google.colaboratory.intrinsic+json": {
              "type": "string"
            }
          },
          "metadata": {},
          "execution_count": 145
        }
      ],
      "source": [
        "sentence = math_ex\n",
        "encoding = tokenizer.encode(sentence)\n",
        "start, end = encoding.offsets[4]\n",
        "sentence[start:end]"
      ]
    },
    {
      "cell_type": "markdown",
      "metadata": {
        "id": "useiUmzePfoy"
      },
      "source": [
        "Finally, we add a byte-level decoder:"
      ]
    },
    {
      "cell_type": "code",
      "execution_count": 119,
      "metadata": {
        "id": "7ndSB7OtPfoy"
      },
      "outputs": [],
      "source": [
        "tokenizer.decoder = decoders.ByteLevel()"
      ]
    },
    {
      "cell_type": "markdown",
      "metadata": {
        "id": "aPSSxfZIPfoy"
      },
      "source": [
        "and we can double-check it works properly:"
      ]
    },
    {
      "cell_type": "code",
      "execution_count": 120,
      "metadata": {
        "colab": {
          "base_uri": "https://localhost:8080/",
          "height": 35
        },
        "id": "ggx3AREsPfoz",
        "outputId": "6acf978d-66b5-4db4-93ca-b56becbad3e8"
      },
      "outputs": [
        {
          "output_type": "execute_result",
          "data": {
            "text/plain": [
              "\"Let's test this tokenizer.\""
            ],
            "application/vnd.google.colaboratory.intrinsic+json": {
              "type": "string"
            }
          },
          "metadata": {},
          "execution_count": 120
        }
      ],
      "source": [
        "tokenizer.decode(encoding.ids)"
      ]
    },
    {
      "cell_type": "markdown",
      "metadata": {
        "id": "1DAclsxAPfoz"
      },
      "source": [
        "Great! Now that we're done, we can save the tokenizer like before, and wrap it in a `PreTrainedTokenizerFast` or `GPT2TokenizerFast` if we want to use it in 🤗 Transformers:"
      ]
    },
    {
      "cell_type": "code",
      "execution_count": 121,
      "metadata": {
        "id": "aHyI0n5SPfoz"
      },
      "outputs": [],
      "source": [
        "from transformers import PreTrainedTokenizerFast\n",
        "\n",
        "wrapped_tokenizer = PreTrainedTokenizerFast(\n",
        "    tokenizer_object=tokenizer,\n",
        "    bos_token=\"<|endoftext|>\",\n",
        "    eos_token=\"<|endoftext|>\",\n",
        ")"
      ]
    },
    {
      "cell_type": "markdown",
      "metadata": {
        "id": "X5S9JagPPfoz"
      },
      "source": [
        "or:"
      ]
    },
    {
      "cell_type": "code",
      "execution_count": 122,
      "metadata": {
        "id": "XVK6T551Pfoz"
      },
      "outputs": [],
      "source": [
        "from transformers import GPT2TokenizerFast\n",
        "\n",
        "wrapped_tokenizer = GPT2TokenizerFast(tokenizer_object=tokenizer)"
      ]
    },
    {
      "cell_type": "markdown",
      "metadata": {
        "id": "_6c2OXBBPfoz"
      },
      "source": [
        "As the last example, we'll show you how to build a Unigram tokenizer from scratch."
      ]
    },
    {
      "cell_type": "markdown",
      "metadata": {
        "id": "omJvZWoLPfoz"
      },
      "source": [
        "## Building a Unigram tokenizer from scratch\n",
        "\n",
        "Let's now build an XLNet tokenizer. Like for the previous tokenizers, we start by initializing a `Tokenizer` with a Unigram model:"
      ]
    },
    {
      "cell_type": "code",
      "execution_count": 123,
      "metadata": {
        "id": "AntFEWIlPfoz"
      },
      "outputs": [],
      "source": [
        "tokenizer = Tokenizer(models.Unigram())"
      ]
    },
    {
      "cell_type": "markdown",
      "metadata": {
        "id": "IYDsY8OAPfo0"
      },
      "source": [
        "Again, we could initialize this model with a vocabulary if we had one.\n",
        "\n",
        "For the normalization, XLNet uses a few replacements (which come from SentencePiece):"
      ]
    },
    {
      "cell_type": "code",
      "execution_count": 124,
      "metadata": {
        "id": "9xEhsxEHPfo0"
      },
      "outputs": [],
      "source": [
        "from tokenizers import Regex\n",
        "\n",
        "tokenizer.normalizer = normalizers.Sequence(\n",
        "    [\n",
        "        normalizers.Replace(\"``\", '\"'),\n",
        "        normalizers.Replace(\"''\", '\"'),\n",
        "        normalizers.NFKD(),\n",
        "        normalizers.StripAccents(),\n",
        "        normalizers.Replace(Regex(\" {2,}\"), \" \"),\n",
        "    ]\n",
        ")"
      ]
    },
    {
      "cell_type": "markdown",
      "metadata": {
        "id": "OPPxuBGDPfo0"
      },
      "source": [
        "This replaces `` and '' with \" and any sequence of two or more spaces with a single space, as well as removing the accents in the texts to tokenize.\n",
        "\n",
        "The pre-tokenizer to use for any SentencePiece tokenizer is `Metaspace`:"
      ]
    },
    {
      "cell_type": "code",
      "execution_count": 125,
      "metadata": {
        "id": "dEtWDyWUPfo0"
      },
      "outputs": [],
      "source": [
        "tokenizer.pre_tokenizer = pre_tokenizers.Metaspace()"
      ]
    },
    {
      "cell_type": "markdown",
      "metadata": {
        "id": "g-10NCP8Pfo0"
      },
      "source": [
        "We can have a look at the pre-tokenization of an example text like before:"
      ]
    },
    {
      "cell_type": "code",
      "execution_count": 146,
      "metadata": {
        "colab": {
          "base_uri": "https://localhost:8080/"
        },
        "id": "Y_zhb1qqPfo0",
        "outputId": "e29f0eaf-a65d-4316-9616-20d2736a903a"
      },
      "outputs": [
        {
          "output_type": "execute_result",
          "data": {
            "text/plain": [
              "[('▁All', (0, 3)),\n",
              " ('▁non-trivial', (3, 15)),\n",
              " ('▁zeroes', (15, 22)),\n",
              " ('▁of', (22, 25)),\n",
              " ('▁the', (25, 29)),\n",
              " ('▁Riemann', (29, 37)),\n",
              " ('▁zeta', (37, 42)),\n",
              " ('▁function', (42, 51)),\n",
              " ('▁$\\\\zeta(s)$', (51, 62)),\n",
              " ('▁lie', (62, 66)),\n",
              " ('▁on', (66, 69)),\n",
              " ('▁the', (69, 73)),\n",
              " ('▁critical', (73, 82)),\n",
              " ('▁line', (82, 87)),\n",
              " ('▁$\\text{Re}(s)=1/2.', (87, 105))]"
            ]
          },
          "metadata": {},
          "execution_count": 146
        }
      ],
      "source": [
        "tokenizer.pre_tokenizer.pre_tokenize_str(math_ex)"
      ]
    },
    {
      "cell_type": "markdown",
      "metadata": {
        "id": "eL12arRCPfo0"
      },
      "source": [
        "Next is the model, which needs training. XLNet has quite a few special tokens:"
      ]
    },
    {
      "cell_type": "code",
      "execution_count": 147,
      "metadata": {
        "id": "zwmvo0UzPfo0"
      },
      "outputs": [],
      "source": [
        "special_tokens = [\"<cls>\", \"<sep>\", \"<unk>\", \"<pad>\", \"<mask>\", \"<s>\", \"</s>\"]\n",
        "trainer = trainers.UnigramTrainer(\n",
        "    vocab_size=25000, special_tokens=special_tokens, unk_token=\"<unk>\"\n",
        ")\n",
        "tokenizer.train_from_iterator(get_training_corpus(), trainer=trainer)"
      ]
    },
    {
      "cell_type": "markdown",
      "metadata": {
        "id": "C41VhwMQPfo1"
      },
      "source": [
        "A very important argument not to forget for the `UnigramTrainer` is the `unk_token`. We can also pass along other arguments specific to the Unigram algorithm, such as the `shrinking_factor` for each step where we remove tokens (defaults to 0.75) or the `max_piece_length` to specify the maximum length of a given token (defaults to 16).\n",
        "\n",
        "This tokenizer can also be trained on text files:"
      ]
    },
    {
      "cell_type": "code",
      "execution_count": 128,
      "metadata": {
        "id": "jeIP0BRWPfo1"
      },
      "outputs": [],
      "source": [
        "# Alternative training method\n",
        "# tokenizer.model = models.Unigram()\n",
        "# tokenizer.train([\"wikitext-2.txt\"], trainer=trainer)"
      ]
    },
    {
      "cell_type": "markdown",
      "metadata": {
        "id": "slJMe725Pfo1"
      },
      "source": [
        "Let's have a look at the tokenization of a sample text:"
      ]
    },
    {
      "cell_type": "code",
      "execution_count": 148,
      "metadata": {
        "colab": {
          "base_uri": "https://localhost:8080/"
        },
        "id": "iRVOVuuqPfo1",
        "outputId": "73650fae-4f4a-4008-c311-80613ad41bf7"
      },
      "outputs": [
        {
          "output_type": "stream",
          "name": "stdout",
          "text": [
            "['▁A', 'll', '▁non-', 'trivial', '▁zero', 'es', '▁of', '▁the', '▁Riemann', '▁', 'zeta', '▁function', '▁$', '\\\\zeta(s)', '$', '▁lie', '▁on', '▁the', '▁critic', 'al', '▁line', '▁$', '\\t', 'e', 'x', 't', '{R', 'e', '}(s)', '=', '1/2', '.', '<sep>', '<cls>']\n"
          ]
        }
      ],
      "source": [
        "encoding = tokenizer.encode(math_ex)\n",
        "print(encoding.tokens)"
      ]
    },
    {
      "cell_type": "markdown",
      "metadata": {
        "id": "8eExXkJAPfo1"
      },
      "source": [
        "A peculiarity of XLNet is that it puts the `<cls>` token at the end of the sentence, with a type ID of 2 (to distinguish it from the other tokens). It's padding on the left, as a result. We can deal with all the special tokens and token type IDs with a template, like for BERT, but first we have to get the IDs of the `<cls>` and `<sep>` tokens:"
      ]
    },
    {
      "cell_type": "code",
      "execution_count": 130,
      "metadata": {
        "colab": {
          "base_uri": "https://localhost:8080/"
        },
        "id": "V6AUV0KoPfo1",
        "outputId": "ace1413b-269e-4864-fd90-e6a964186002"
      },
      "outputs": [
        {
          "output_type": "stream",
          "name": "stdout",
          "text": [
            "0 1\n"
          ]
        }
      ],
      "source": [
        "cls_token_id = tokenizer.token_to_id(\"<cls>\")\n",
        "sep_token_id = tokenizer.token_to_id(\"<sep>\")\n",
        "print(cls_token_id, sep_token_id)"
      ]
    },
    {
      "cell_type": "markdown",
      "metadata": {
        "id": "et_Ev0igPfo2"
      },
      "source": [
        "The template looks like this:"
      ]
    },
    {
      "cell_type": "code",
      "execution_count": 131,
      "metadata": {
        "id": "rYJ68DKqPfo2"
      },
      "outputs": [],
      "source": [
        "tokenizer.post_processor = processors.TemplateProcessing(\n",
        "    single=\"$A:0 <sep>:0 <cls>:2\",\n",
        "    pair=\"$A:0 <sep>:0 $B:1 <sep>:1 <cls>:2\",\n",
        "    special_tokens=[(\"<sep>\", sep_token_id), (\"<cls>\", cls_token_id)],\n",
        ")"
      ]
    },
    {
      "cell_type": "markdown",
      "metadata": {
        "id": "LiMEKZ6bPfo2"
      },
      "source": [
        "And we can test it works by encoding a pair of sentences:"
      ]
    },
    {
      "cell_type": "code",
      "execution_count": 149,
      "metadata": {
        "colab": {
          "base_uri": "https://localhost:8080/"
        },
        "id": "90xUIsc8Pfo2",
        "outputId": "f264b1b4-d543-4f6d-830f-085c86c7e281"
      },
      "outputs": [
        {
          "output_type": "stream",
          "name": "stdout",
          "text": [
            "['▁A', 'll', '▁non-', 'trivial', '▁zero', 'es', '▁of', '▁the', '▁Riemann', '▁', 'zeta', '▁function', '▁$', '\\\\zeta(s)', '$', '▁lie', '▁on', '▁the', '▁critic', 'al', '▁line', '▁$', '\\t', 'e', 'x', 't', '{R', 'e', '}(s)', '=', '1/2', '.', '<sep>', '▁The', '▁sine', '▁function', '▁$', 's', 'in', '(x)$', '▁has', '▁zeros', '▁at', '▁$k', '\\\\pi', '$.', '<sep>', '<cls>']\n",
            "[0, 0, 0, 0, 0, 0, 0, 0, 0, 0, 0, 0, 0, 0, 0, 0, 0, 0, 0, 0, 0, 0, 0, 0, 0, 0, 0, 0, 0, 0, 0, 0, 0, 1, 1, 1, 1, 1, 1, 1, 1, 1, 1, 1, 1, 1, 1, 2]\n"
          ]
        }
      ],
      "source": [
        "encoding = tokenizer.encode(math_ex, math_ex_2)\n",
        "print(encoding.tokens)\n",
        "print(encoding.type_ids)"
      ]
    },
    {
      "cell_type": "markdown",
      "metadata": {
        "id": "JcSd0EVQPfo2"
      },
      "source": [
        "Finally, we add a `Metaspace` decoder:"
      ]
    },
    {
      "cell_type": "code",
      "execution_count": 133,
      "metadata": {
        "id": "Rd1Q5cOgPfo3"
      },
      "outputs": [],
      "source": [
        "tokenizer.decoder = decoders.Metaspace()"
      ]
    },
    {
      "cell_type": "markdown",
      "metadata": {
        "id": "TXdv-EAGPfo3"
      },
      "source": [
        "and we're done with this tokenizer! We can save the tokenizer like before, and wrap it in a `PreTrainedTokenizerFast` or `XLNetTokenizerFast` if we want to use it in 🤗 Transformers. One thing to note when using `PreTrainedTokenizerFast` is that on top of the special tokens, we need to tell the 🤗 Transformers library to pad on the left:"
      ]
    },
    {
      "cell_type": "code",
      "execution_count": 134,
      "metadata": {
        "id": "4tJ46klJPfo3"
      },
      "outputs": [],
      "source": [
        "from transformers import PreTrainedTokenizerFast\n",
        "\n",
        "wrapped_tokenizer = PreTrainedTokenizerFast(\n",
        "    tokenizer_object=tokenizer,\n",
        "    bos_token=\"<s>\",\n",
        "    eos_token=\"</s>\",\n",
        "    unk_token=\"<unk>\",\n",
        "    pad_token=\"<pad>\",\n",
        "    cls_token=\"<cls>\",\n",
        "    sep_token=\"<sep>\",\n",
        "    mask_token=\"<mask>\",\n",
        "    padding_side=\"left\",\n",
        ")"
      ]
    },
    {
      "cell_type": "markdown",
      "metadata": {
        "id": "wLvK-DKUPfo3"
      },
      "source": [
        "Or alternatively:"
      ]
    },
    {
      "cell_type": "code",
      "execution_count": 135,
      "metadata": {
        "id": "Q8l2vj8mPfo3"
      },
      "outputs": [],
      "source": [
        "from transformers import XLNetTokenizerFast\n",
        "\n",
        "wrapped_tokenizer = XLNetTokenizerFast(tokenizer_object=tokenizer)"
      ]
    },
    {
      "cell_type": "markdown",
      "metadata": {
        "id": "7YvATPMMPfo3"
      },
      "source": [
        "Now that you have seen how the various building blocks are used to build existing tokenizers, you should be able to write any tokenizer you want with the 🤗 Tokenizers library and be able to use it in 🤗 Transformers."
      ]
    },
    {
      "cell_type": "markdown",
      "metadata": {
        "id": "VN7A5JPwPfo4"
      },
      "source": [
        "## Summary\n",
        "\n",
        "In this notebook, we've learned how to build tokenizers from scratch using the 🤗 Tokenizers library. We covered three major tokenization algorithms:\n",
        "\n",
        "1. **WordPiece** (used by BERT): Uses a greedy algorithm to build subwords by iteratively adding the symbol pairs that most improves the likelihood of the training data.\n",
        "\n",
        "2. **BPE (Byte-Pair Encoding)** (used by GPT-2): Starts with individual characters and iteratively merges the most frequent pairs of adjacent symbols.\n",
        "\n",
        "3. **Unigram** (used by XLNet): Uses a probabilistic model to determine the best segmentation of a word into subwords.\n",
        "\n",
        "For each tokenizer, we covered the essential components:\n",
        "- **Normalization**: Text preprocessing (lowercasing, accent removal, etc.)\n",
        "- **Pre-tokenization**: Initial splitting of text (whitespace, punctuation, etc.)\n",
        "- **Model training**: Learning the vocabulary and merge rules\n",
        "- **Post-processing**: Adding special tokens and token type IDs\n",
        "- **Decoding**: Converting token IDs back to text\n",
        "\n",
        "The key takeaway is that tokenizers are highly modular, and you can mix and match different components to create custom tokenizers for your specific needs. The 🤗 Tokenizers library provides a flexible framework for building and training tokenizers that can then be seamlessly integrated with 🤗 Transformers models."
      ]
    },
    {
      "cell_type": "markdown",
      "metadata": {
        "id": "w_5p-8tyPfo4"
      },
      "source": [
        "## Additional Exercises\n",
        "\n",
        "Try these exercises to deepen your understanding:\n",
        "\n",
        "1. **Custom Normalizer**: Create a tokenizer with a custom normalizer that removes all digits from the text.\n"
      ]
    },
    {
      "cell_type": "code",
      "source": [
        "def get_training_corpus(start=0, end=1000):\n",
        "    \"\"\"Get training corpus\"\"\"\n",
        "    for i in range(start, min(end, len(dataset)), 100):\n",
        "        yield dataset[i : i + 100][\"text\"]\n",
        "\n",
        "\n",
        "def digit_removing_tokenizer():\n",
        "    \"\"\"Tokenizer that removes all digits\"\"\"\n",
        "    tokenizer = Tokenizer(models.WordPiece(unk_token=\"[UNK]\"))\n",
        "\n",
        "    # Custom normalizer sequence that removes digits\n",
        "    tokenizer.normalizer = normalizers.Sequence([\n",
        "        normalizers.NFD(),\n",
        "        normalizers.Lowercase(),\n",
        "        normalizers.StripAccents(),\n",
        "        normalizers.Replace(Regex(r'\\d+'), ''),  # Remove all digits\n",
        "        normalizers.Replace(Regex(r'\\s+'), ' '),  # Clean up extra spaces\n",
        "    ])\n",
        "\n",
        "    tokenizer.pre_tokenizer = pre_tokenizers.BertPreTokenizer()\n",
        "\n",
        "    special_tokens = [\"[UNK]\", \"[PAD]\", \"[CLS]\", \"[SEP]\", \"[MASK]\"]\n",
        "    trainer = trainers.WordPieceTrainer(vocab_size=10000, special_tokens=special_tokens)\n",
        "\n",
        "    return tokenizer, trainer\n",
        "\n",
        "# Test on math examples\n",
        "digit_removing_tokenizer, trainer = create_digit_removing_tokenizer()\n",
        "print(f\"Math Ex: {math_ex}\")\n",
        "print(f\"Normalized Math Ex: {digit_removing_tokenizer.normalizer.normalize_str(math_ex)}\")\n",
        "print()\n",
        "\n",
        "print(f\"Math Ex 2: {math_ex_2}\")\n",
        "print(f\"Normalized Math Ex 2: {digit_removing_tokenizer.normalizer.normalize_str(math_ex_2)}\")\n",
        "print()\n",
        "\n",
        "# Train the tokenizer\n",
        "digit_removing_tokenizer.train_from_iterator(get_training_corpus(0, 500), trainer=trainer)\n",
        "\n",
        "# Test encoding\n",
        "print(f\"Math Ex: {math_ex}\")\n",
        "encoding = digit_removing_tokenizer.encode(math_ex)\n",
        "print(f\"Tokens: {encoding.tokens}\")\n",
        "print()\n",
        "\n",
        "print(f\"Math Ex 2: {math_ex_2}\")\n",
        "encoding = digit_removing_tokenizer.encode(math_ex_2)\n",
        "print(f\"Tokens: {encoding.tokens}\")\n",
        "print()\n",
        "\n",
        "math_ex_3 = \"Find 2x + 3y = 15 when x = 4\"\n",
        "print(f\"Math Ex 3: {math_ex_3}\")\n",
        "encoding = digit_removing_tokenizer.encode(math_ex_3)\n",
        "print(f\"Tokens: {encoding.tokens}\")\n"
      ],
      "metadata": {
        "id": "14PVev3_B9F1",
        "outputId": "c5022d32-300e-4fad-bc6b-4c7ab46420aa",
        "colab": {
          "base_uri": "https://localhost:8080/"
        }
      },
      "execution_count": 156,
      "outputs": [
        {
          "output_type": "stream",
          "name": "stdout",
          "text": [
            "Math Ex: All non-trivial zeroes of the Riemann zeta function $\\zeta(s)$ lie on the critical line $\text{Re}(s)=1/2.\n",
            "Normalized Math Ex: all non-trivial zeroes of the riemann zeta function $\\zeta(s)$ lie on the critical line $ ext{re}(s)=/.\n",
            "\n",
            "Math Ex 2: The sine function $sin(x)$ has zeros at $k\\pi$.\n",
            "Normalized Math Ex 2: the sine function $sin(x)$ has zeros at $k\\pi$.\n",
            "\n",
            "Math Ex: All non-trivial zeroes of the Riemann zeta function $\\zeta(s)$ lie on the critical line $\text{Re}(s)=1/2.\n",
            "Tokens: ['all', 'non', '-', 'trivial', 'zero', '##es', 'of', 'the', 'riemann', 'zeta', 'function', '$', '\\\\', 'zeta', '(', 's', ')', '$', 'lie', 'on', 'the', 'critical', 'line', '$', 'ext', '{', 're', '}', '(', 's', ')', '=', '/', '.']\n",
            "\n",
            "Math Ex 2: The sine function $sin(x)$ has zeros at $k\\pi$.\n",
            "Tokens: ['the', 'sine', 'function', '$', 'sin', '(', 'x', ')', '$', 'has', 'zeros', 'at', '$', 'k', '\\\\', 'pi', '$', '.']\n",
            "\n",
            "Math Ex 3: Find 2x + 3y = 15 when x = 4\n",
            "Tokens: ['find', 'x', '+', 'y', '=', 'when', 'x', '=']\n"
          ]
        }
      ]
    },
    {
      "cell_type": "markdown",
      "source": [
        "2. **Mixed Pre-tokenizers**: Experiment with different combinations of pre-tokenizers and observe how they affect the tokenization results."
      ],
      "metadata": {
        "id": "92W6ZnpYDucp"
      }
    },
    {
      "cell_type": "code",
      "source": [
        "def compare_pretokenizers(ex_sen):\n",
        "    \"\"\"Compare different pre-tokenizers\"\"\"\n",
        "\n",
        "    pretokenizers = {\n",
        "        \"Whitespace\": pre_tokenizers.Whitespace(),\n",
        "        \"BertPreTokenizer\": pre_tokenizers.BertPreTokenizer(),\n",
        "        \"WhitespaceSplit + Punctuation\": pre_tokenizers.Sequence([\n",
        "            pre_tokenizers.WhitespaceSplit(),\n",
        "            pre_tokenizers.Punctuation()\n",
        "        ]),\n",
        "        \"ByteLevel\": pre_tokenizers.ByteLevel(add_prefix_space=False),\n",
        "        \"Metaspace\": pre_tokenizers.Metaspace(),\n",
        "        \"LaTeX\": pre_tokenizers.Sequence([\n",
        "            pre_tokenizers.Split(Regex(r'(\\$[^$]*\\$)'), behavior='isolated'),  # Isolate LaTeX\n",
        "            pre_tokenizers.WhitespaceSplit(),\n",
        "            pre_tokenizers.Punctuation()\n",
        "        ])\n",
        "    }\n",
        "\n",
        "    for name, pretokenizer in pretokenizers.items():\n",
        "        try:\n",
        "            result = pretokenizer.pre_tokenize_str(ex_sen)\n",
        "            print(f\"\\n{name}:\")\n",
        "            print(f\"  Tokens: {[token for token, span in result]}\")\n",
        "        except Exception as e:\n",
        "            print(f\"\\n{name}: Error - {e}\")\n",
        "\n",
        "print(f\"Original sentence: {math_ex_3}\")\n",
        "compare_pretokenizers(math_ex_3)\n",
        "print()\n",
        "print(f\"Original sentence: {math_ex}\")\n",
        "compare_pretokenizers(math_ex)\n",
        "print()\n",
        "\n"
      ],
      "metadata": {
        "id": "2Hy2BAxsCLQp",
        "outputId": "6b8c080d-52ab-4ddf-c31e-304c222e7200",
        "colab": {
          "base_uri": "https://localhost:8080/"
        }
      },
      "execution_count": 165,
      "outputs": [
        {
          "output_type": "stream",
          "name": "stdout",
          "text": [
            "Original sentence: Find 2x + 3y = 15 when x = 4\n",
            "\n",
            "Whitespace:\n",
            "  Tokens: ['Find', '2x', '+', '3y', '=', '15', 'when', 'x', '=', '4']\n",
            "\n",
            "BertPreTokenizer:\n",
            "  Tokens: ['Find', '2x', '+', '3y', '=', '15', 'when', 'x', '=', '4']\n",
            "\n",
            "WhitespaceSplit + Punctuation:\n",
            "  Tokens: ['Find', '2x', '+', '3y', '=', '15', 'when', 'x', '=', '4']\n",
            "\n",
            "ByteLevel:\n",
            "  Tokens: ['Find', 'Ġ2', 'x', 'Ġ+', 'Ġ3', 'y', 'Ġ=', 'Ġ15', 'Ġwhen', 'Ġx', 'Ġ=', 'Ġ4']\n",
            "\n",
            "Metaspace:\n",
            "  Tokens: ['▁Find', '▁2x', '▁+', '▁3y', '▁=', '▁15', '▁when', '▁x', '▁=', '▁4']\n",
            "\n",
            "LaTeX:\n",
            "  Tokens: ['Find', '2x', '+', '3y', '=', '15', 'when', 'x', '=', '4']\n",
            "\n",
            "Original sentence: All non-trivial zeroes of the Riemann zeta function $\\zeta(s)$ lie on the critical line $\text{Re}(s)=1/2.\n",
            "\n",
            "Whitespace:\n",
            "  Tokens: ['All', 'non', '-', 'trivial', 'zeroes', 'of', 'the', 'Riemann', 'zeta', 'function', '$\\\\', 'zeta', '(', 's', ')$', 'lie', 'on', 'the', 'critical', 'line', '$', 'ext', '{', 'Re', '}(', 's', ')=', '1', '/', '2', '.']\n",
            "\n",
            "BertPreTokenizer:\n",
            "  Tokens: ['All', 'non', '-', 'trivial', 'zeroes', 'of', 'the', 'Riemann', 'zeta', 'function', '$', '\\\\', 'zeta', '(', 's', ')', '$', 'lie', 'on', 'the', 'critical', 'line', '$', 'ext', '{', 'Re', '}', '(', 's', ')', '=', '1', '/', '2', '.']\n",
            "\n",
            "WhitespaceSplit + Punctuation:\n",
            "  Tokens: ['All', 'non', '-', 'trivial', 'zeroes', 'of', 'the', 'Riemann', 'zeta', 'function', '$', '\\\\', 'zeta', '(', 's', ')', '$', 'lie', 'on', 'the', 'critical', 'line', '$', 'ext', '{', 'Re', '}', '(', 's', ')', '=', '1', '/', '2', '.']\n",
            "\n",
            "ByteLevel:\n",
            "  Tokens: ['All', 'Ġnon', '-', 'trivial', 'Ġzeroes', 'Ġof', 'Ġthe', 'ĠRiemann', 'Ġzeta', 'Ġfunction', 'Ġ$\\\\', 'zeta', '(', 's', ')$', 'Ġlie', 'Ġon', 'Ġthe', 'Ġcritical', 'Ġline', 'Ġ$', 'ĉ', 'ext', '{', 'Re', '}(', 's', ')=', '1', '/', '2', '.']\n",
            "\n",
            "Metaspace:\n",
            "  Tokens: ['▁All', '▁non-trivial', '▁zeroes', '▁of', '▁the', '▁Riemann', '▁zeta', '▁function', '▁$\\\\zeta(s)$', '▁lie', '▁on', '▁the', '▁critical', '▁line', '▁$\\text{Re}(s)=1/2.']\n",
            "\n",
            "LaTeX:\n",
            "  Tokens: ['All', 'non', '-', 'trivial', 'zeroes', 'of', 'the', 'Riemann', 'zeta', 'function', '$', '\\\\', 'zeta', '(', 's', ')', '$', 'lie', 'on', 'the', 'critical', 'line', '$', 'ext', '{', 'Re', '}', '(', 's', ')', '=', '1', '/', '2', '.']\n",
            "\n"
          ]
        }
      ]
    },
    {
      "cell_type": "markdown",
      "source": [
        "3. **Vocabulary Size Impact**: Train the same tokenizer with different vocabulary sizes (e.g., 1000, 5000, 10000, 25000) and compare the tokenization results."
      ],
      "metadata": {
        "id": "0RCmzInAHEf5"
      }
    },
    {
      "cell_type": "code",
      "source": [
        "def compare_vocab_sizes():\n",
        "    \"\"\"Compare tokenization with different vocabulary sizes\"\"\"\n",
        "    vocab_sizes = [1000, 5000, 10000, 25000]\n",
        "    test_texts = [\n",
        "        math_ex,\n",
        "        math_ex_2,\n",
        "        math_ex_3\n",
        "    ]\n",
        "\n",
        "    results = {}\n",
        "\n",
        "    for vocab_size in vocab_sizes:\n",
        "\n",
        "        tokenizer = Tokenizer(models.WordPiece(unk_token=\"[UNK]\"))\n",
        "        tokenizer.normalizer = normalizers.BertNormalizer(lowercase=True)\n",
        "        tokenizer.pre_tokenizer = pre_tokenizers.BertPreTokenizer()\n",
        "\n",
        "        special_tokens = [\"[UNK]\", \"[PAD]\", \"[CLS]\", \"[SEP]\", \"[MASK]\"]\n",
        "        trainer = trainers.WordPieceTrainer(vocab_size=vocab_size, special_tokens=special_tokens)\n",
        "\n",
        "        tokenizer.train_from_iterator(get_training_corpus(0, 200), trainer=trainer)\n",
        "\n",
        "        # Test on sample texts\n",
        "        vocab_results = []\n",
        "        for text in test_texts:\n",
        "            encoding = tokenizer.encode(text)\n",
        "            vocab_results.append({\n",
        "                'text': text,\n",
        "                'num_tokens': len(encoding.tokens),\n",
        "                'tokens': encoding.tokens,\n",
        "                'unk_count': encoding.tokens.count('[UNK]')\n",
        "            })\n",
        "\n",
        "        results[vocab_size] = vocab_results\n",
        "\n",
        "    for i, text in enumerate(test_texts):\n",
        "        print(f\"\\nText {i+1}: {text}\")\n",
        "        print(\"Vocab Size | Tokens | UNKs | Sample Tokens\")\n",
        "        print(\"-\" * 80)\n",
        "        for vocab_size in vocab_sizes:\n",
        "            result = results[vocab_size][i]\n",
        "            sample_tokens = result['tokens'][:8]  # First 8 tokens\n",
        "            print(f\"{vocab_size:9d} | {result['num_tokens']:6d} | {result['unk_count']:4d} | {sample_tokens}\")\n",
        "\n",
        "compare_vocab_sizes()"
      ],
      "metadata": {
        "id": "xfbNuUGWCN-1",
        "outputId": "7d8ffed7-a286-4c04-a830-7fe2fe614049",
        "colab": {
          "base_uri": "https://localhost:8080/"
        }
      },
      "execution_count": 169,
      "outputs": [
        {
          "output_type": "stream",
          "name": "stdout",
          "text": [
            "\n",
            "Text 1: All non-trivial zeroes of the Riemann zeta function $\\zeta(s)$ lie on the critical line $\text{Re}(s)=1/2.\n",
            "Vocab Size | Tokens | UNKs | Sample Tokens\n",
            "--------------------------------------------------------------------------------\n",
            "     1000 |     47 |    0 | ['all', 'non', '-', 'tri', '##v', '##ial', 'zero', '##es']\n",
            "     5000 |     36 |    0 | ['all', 'non', '-', 'trivial', 'zero', '##es', 'of', 'the']\n",
            "    10000 |     36 |    0 | ['all', 'non', '-', 'trivial', 'zero', '##es', 'of', 'the']\n",
            "    25000 |     36 |    0 | ['all', 'non', '-', 'trivial', 'zero', '##es', 'of', 'the']\n",
            "\n",
            "Text 2: The sine function $sin(x)$ has zeros at $k\\pi$.\n",
            "Vocab Size | Tokens | UNKs | Sample Tokens\n",
            "--------------------------------------------------------------------------------\n",
            "     1000 |     20 |    0 | ['the', 'sin', '##e', 'function', '$', 'sin', '(', 'x']\n",
            "     5000 |     20 |    0 | ['the', 'sin', '##e', 'function', '$', 'sin', '(', 'x']\n",
            "    10000 |     20 |    0 | ['the', 'sin', '##e', 'function', '$', 'sin', '(', 'x']\n",
            "    25000 |     20 |    0 | ['the', 'sin', '##e', 'function', '$', 'sin', '(', 'x']\n",
            "\n",
            "Text 3: Find 2x + 3y = 15 when x = 4\n",
            "Vocab Size | Tokens | UNKs | Sample Tokens\n",
            "--------------------------------------------------------------------------------\n",
            "     1000 |     11 |    0 | ['find', '2x', '+', '3', '##y', '=', '15', 'when']\n",
            "     5000 |     10 |    0 | ['find', '2x', '+', '3y', '=', '15', 'when', 'x']\n",
            "    10000 |     10 |    0 | ['find', '2x', '+', '3y', '=', '15', 'when', 'x']\n",
            "    25000 |     10 |    0 | ['find', '2x', '+', '3y', '=', '15', 'when', 'x']\n"
          ]
        }
      ]
    },
    {
      "cell_type": "markdown",
      "source": [
        "4. **Domain-Specific Tokenizer**: Try building a tokenizer on a domain-specific corpus (e.g., medical texts, legal documents) and compare it with a general-purpose tokenizer."
      ],
      "metadata": {
        "id": "9OXPs1mKHztV"
      }
    },
    {
      "cell_type": "code",
      "source": [
        "def create_latex_tokenizer():\n",
        "    \"\"\"Create a tokenizer for LaTeX \"\"\"\n",
        "\n",
        "    # WordPiece appears to work well\n",
        "    tokenizer = Tokenizer(models.WordPiece(unk_token=\"[UNK]\"))\n",
        "\n",
        "    # Clean up text\n",
        "    tokenizer.normalizer = normalizers.Sequence([\n",
        "        normalizers.Replace(\"``\", '\"'),\n",
        "        normalizers.Replace(\"''\", '\"'),\n",
        "        normalizers.NFD(),\n",
        "        normalizers.Lowercase(),\n",
        "        normalizers.StripAccents(),\n",
        "        normalizers.Replace(Regex(r'\\s+'), ' '),\n",
        "    ])\n",
        "\n",
        "    # Preserve LaTeX\n",
        "    tokenizer.pre_tokenizer = pre_tokenizers.Sequence([\n",
        "        # Protect LaTeX math expressions\n",
        "        pre_tokenizers.Split(\n",
        "            Regex(r'(\\$\\$[^$]*\\$\\$|\\$[^$]*\\$)'),\n",
        "            behavior='isolated'\n",
        "        ),\n",
        "\n",
        "        # Protect LaTeX commands\n",
        "        pre_tokenizers.Split(\n",
        "            Regex(r'(\\\\[a-zA-Z]+(?:\\{[^}]*\\})?(?:\\[[^\\]]*\\])?)'),\n",
        "            behavior='isolated'\n",
        "        ),\n",
        "\n",
        "        # Keep functions together\n",
        "        pre_tokenizers.Split(\n",
        "            Regex(r'\\b(sin|cos|tan|log|ln|exp|sqrt|lim|max|min|sum|int)\\b'),\n",
        "            behavior='isolated'\n",
        "        ),\n",
        "\n",
        "        # Keep variable patterns together (such as \"2x\", \"x²\", etc.)\n",
        "        pre_tokenizers.Split(\n",
        "            Regex(r'(\\d*[a-zA-Z][²³⁴⁵⁶⁷⁸⁹⁰¹]*|\\d+[a-zA-Z]+)'),\n",
        "            behavior='isolated'\n",
        "        ),\n",
        "\n",
        "        # Keep mathematical symbols as single units\n",
        "        pre_tokenizers.Split(\n",
        "            Regex(r'([≤≥≠≈∞±×÷∑∏∫∂∇])'),\n",
        "            behavior='isolated'\n",
        "        ),\n",
        "\n",
        "        # Use BERT-style splitting for the rest\n",
        "        pre_tokenizers.BertPreTokenizer()\n",
        "    ])\n",
        "\n",
        "    # Add focused special tokens\n",
        "    special_tokens = [\n",
        "        \"[UNK]\", \"[PAD]\", \"[CLS]\", \"[SEP]\", \"[MASK]\",\n",
        "        \"[MATH]\", \"[LATEX]\", \"[FORMULA]\", \"[EQUATION]\"\n",
        "    ]\n",
        "\n",
        "    trainer = trainers.WordPieceTrainer(\n",
        "        vocab_size=25000,\n",
        "        special_tokens=special_tokens,\n",
        "        continuing_subword_prefix=\"##\",\n",
        "        min_frequency=2\n",
        "    )\n",
        "\n",
        "    return tokenizer, trainer\n",
        "\n",
        "def create_math_tokenizer():\n",
        "    \"\"\"Create a tokenizer for math \"\"\"\n",
        "\n",
        "    tokenizer = Tokenizer(models.WordPiece(unk_token=\"[UNK]\"))\n",
        "\n",
        "    # Normalization\n",
        "    tokenizer.normalizer = normalizers.Sequence([\n",
        "        normalizers.NFD(),\n",
        "        normalizers.Lowercase(),\n",
        "        normalizers.StripAccents(),\n",
        "    ])\n",
        "\n",
        "    # Pre-tokenization\n",
        "    tokenizer.pre_tokenizer = pre_tokenizers.Sequence([\n",
        "        # Isolate LaTeX expressions\n",
        "        pre_tokenizers.Split(\n",
        "            Regex(r'(\\$[^$]+\\$|\\\\\\([^)]*\\\\\\)|\\\\\\[[^\\]]*\\\\\\])'),\n",
        "            behavior='isolated'\n",
        "        ),\n",
        "\n",
        "        # Keep common math expressions together\n",
        "        pre_tokenizers.Split(\n",
        "            Regex(r'(\\d*[a-zA-Z][₀₁₂₃₄₅₆₇₈₉²³⁴⁵⁶⁷⁸⁹⁰¹]*|\\d+\\.\\d+|\\d+/\\d+)'),\n",
        "            behavior='isolated'\n",
        "        ),\n",
        "\n",
        "        # Whitespace + punctuation splitting\n",
        "        pre_tokenizers.Sequence([\n",
        "            pre_tokenizers.WhitespaceSplit(),\n",
        "            pre_tokenizers.Punctuation()\n",
        "        ])\n",
        "    ])\n",
        "\n",
        "    # Include mathematical Unicode in special tokens\n",
        "    special_tokens = [\n",
        "        \"[UNK]\", \"[PAD]\", \"[CLS]\", \"[SEP]\", \"[MASK]\",\n",
        "        # Preserve these symbols\n",
        "        \"π\", \"∞\", \"∑\", \"∏\", \"∫\", \"∂\", \"∇\", \"α\", \"β\", \"γ\", \"δ\", \"ε\", \"ζ\", \"η\",\n",
        "        \"θ\", \"λ\", \"μ\", \"ν\", \"ξ\", \"π\", \"ρ\", \"σ\", \"τ\", \"φ\", \"χ\", \"ψ\", \"ω\",\n",
        "        \"≤\", \"≥\", \"≠\", \"≈\", \"±\", \"×\", \"÷\", \"√\"\n",
        "    ]\n",
        "\n",
        "    trainer = trainers.WordPieceTrainer(\n",
        "        vocab_size=25000,\n",
        "        special_tokens=special_tokens,\n",
        "        continuing_subword_prefix=\"##\"\n",
        "    )\n",
        "\n",
        "    return tokenizer, trainer\n",
        "\n",
        "def test_tokenizers():\n",
        "    \"\"\"Test tokenizers\"\"\"\n",
        "\n",
        "    # Create tokenizers\n",
        "    latex_tokenizer, latex_trainer = create_latex_tokenizer()\n",
        "    math_tokenizer, math_trainer = create_math_tokenizer()\n",
        "\n",
        "    # Create training data\n",
        "    def get_math_corpus():\n",
        "        math_texts = [\n",
        "            \"The function f(x) = x² + 2x + 1 has derivative f'(x) = 2x + 2.\",\n",
        "            \"The integral ∫₀¹ x² dx = 1/3 by the fundamental theorem.\",\n",
        "            \"The Riemann zeta function ζ(s) converges for Re(s) > 1.\",\n",
        "            \"Euler's identity: e^(iπ) + 1 = 0 is beautiful.\",\n",
        "            \"The quadratic formula: x = (-b ± √(b²-4ac))/(2a).\",\n",
        "            \"The sine function sin(x) has period 2π.\",\n",
        "            \"The limit lim_{x→0} sin(x)/x = 1.\",\n",
        "            \"The series ∑_{n=1}^∞ 1/n² = π²/6.\",\n",
        "            \"The matrix equation Ax = b has solution x = A⁻¹b.\",\n",
        "            \"Complex numbers: z = a + bi where i² = -1.\",\n",
        "            math_ex,\n",
        "            math_ex_2,\n",
        "            math_ex_3\n",
        "        ]\n",
        "\n",
        "        # Repeat and batch the data\n",
        "        for i in range(0, len(math_texts) * 10, 2):\n",
        "            yield math_texts[(i//2) % len(math_texts):(i//2 + 2) % len(math_texts)]\n",
        "\n",
        "    # Train the tokenizers\n",
        "    latex_tokenizer.train_from_iterator(get_math_corpus(), trainer=latex_trainer)\n",
        "    math_tokenizer.train_from_iterator(get_math_corpus(), trainer=math_trainer)\n",
        "\n",
        "    # Compare tokenizers with a standard one\n",
        "    standard_tokenizer = Tokenizer(models.WordPiece(unk_token=\"[UNK]\"))\n",
        "    standard_tokenizer.normalizer = normalizers.BertNormalizer(lowercase=True)\n",
        "    standard_tokenizer.pre_tokenizer = pre_tokenizers.BertPreTokenizer()\n",
        "    standard_trainer = trainers.WordPieceTrainer(\n",
        "        vocab_size=25000,\n",
        "        special_tokens=[\"[UNK]\", \"[PAD]\", \"[CLS]\", \"[SEP]\", \"[MASK]\"]\n",
        "    )\n",
        "    standard_tokenizer.train_from_iterator(get_math_corpus(), trainer=standard_trainer)\n",
        "\n",
        "    test_examples = [\n",
        "        \"All non-trivial zeroes of the Riemann zeta function ζ(s) lie on the critical line Re(s)=1/2.\",\n",
        "        \"The sine function sin(x) has zeros at kπ.\",\n",
        "        \"Find 2x + 3y = 15 when x = 4\",\n",
        "        \"The integral ∫₀¹ x² dx = 1/3 by the fundamental theorem of calculus.\",\n",
        "        \"The quadratic formula is x = (-b ± √(b²-4ac))/(2a).\"\n",
        "    ]\n",
        "\n",
        "    for i, example in enumerate(test_examples):\n",
        "        print(f\"\\nExample {i+1}: {example}\")\n",
        "        print(\"-\" * 80)\n",
        "\n",
        "        # Test all three tokenizers\n",
        "        latex_encoding = latex_tokenizer.encode(example)\n",
        "        math_encoding = math_tokenizer.encode(example)\n",
        "        standard_encoding = standard_tokenizer.encode(example)\n",
        "\n",
        "        print(f\"LaTeX ({len(latex_encoding.tokens)} tokens):\")\n",
        "        print(f\"  {latex_encoding.tokens}\")\n",
        "\n",
        "        print(f\"Math ({len(math_encoding.tokens)} tokens):\")\n",
        "        print(f\"  {math_encoding.tokens}\")\n",
        "\n",
        "        print(f\"Standard ({len(standard_encoding.tokens)} tokens):\")\n",
        "        print(f\"  {standard_encoding.tokens}\")\n",
        "\n",
        "        # Count UNK tokens\n",
        "        latex_unks = latex_encoding.tokens.count('[UNK]')\n",
        "        math_unks = math_encoding.tokens.count('[UNK]')\n",
        "        standard_unks = standard_encoding.tokens.count('[UNK]')\n",
        "\n",
        "        print(f\"UNK counts - LaTeX: {latex_unks}, Math: {math_unks}, Standard: {standard_unks}\")\n",
        "\n",
        "    return latex_tokenizer, math_tokenizer, standard_tokenizer\n",
        "\n",
        "def analyze_vocabulary_learned(tokenizer, name):\n",
        "    \"\"\"Analyze what vocabulary the tokenizer learned\"\"\"\n",
        "\n",
        "    # Get the vocabulary\n",
        "    vocab = tokenizer.get_vocab()\n",
        "\n",
        "    # Mathematical functions and operations\n",
        "    math_terms = []\n",
        "    greek_letters = []\n",
        "    math_symbols = []\n",
        "    functions = []\n",
        "\n",
        "    for token in vocab.keys():\n",
        "        token_clean = token.replace('##', '')\n",
        "\n",
        "        if any(greek in token_clean for greek in ['alpha', 'beta', 'gamma', 'delta', 'pi', 'sigma', 'theta', 'lambda', 'mu', 'omega']):\n",
        "            greek_letters.append(token)\n",
        "        elif any(func in token_clean for func in ['sin', 'cos', 'tan', 'log', 'exp', 'sqrt', 'lim', 'max', 'min']):\n",
        "            functions.append(token)\n",
        "        elif any(symbol in token for symbol in ['∫', '∑', '∏', '∂', '∇', '±', '≤', '≥', '≠', '≈', '∞', 'π', 'α', 'β', 'γ', 'δ', 'ε', 'ζ', 'η', 'θ', 'λ', 'μ', 'ν', 'ξ', 'ρ', 'σ', 'τ', 'φ', 'χ', 'ψ', 'ω']):\n",
        "            math_symbols.append(token)\n",
        "        elif any(math_word in token_clean for math_word in ['integral', 'derivative', 'equation', 'formula', 'theorem', 'matrix', 'vector', 'function']):\n",
        "            math_terms.append(token)\n",
        "\n",
        "    print()\n",
        "    print(f\"Mathematical terms: {math_terms[:10]}...\")\n",
        "    print(f\"Greek letters: {greek_letters[:10]}...\")\n",
        "    print(f\"Math symbols: {math_symbols[:10]}...\")\n",
        "    print(f\"Functions: {functions[:10]}...\")\n",
        "    print(f\"Total math-related tokens: {len(math_terms + greek_letters + math_symbols + functions)}\")\n",
        "\n",
        "\n",
        "latex_tok, math_tok, standard_tok = test_tokenizers()\n",
        "\n",
        "# Analyze what each tokenizer learned\n",
        "analyze_vocabulary_learned(latex_tok, \"LaTeX Tokenizer\")\n",
        "analyze_vocabulary_learned(math_tok, \"Math Tokenizer\")\n",
        "analyze_vocabulary_learned(standard_tok, \"Standard Tokenizer\")\n"
      ],
      "metadata": {
        "id": "aHWHxQrTCVAD",
        "outputId": "d844c7dd-6387-4bad-e754-854470d5f3a4",
        "colab": {
          "base_uri": "https://localhost:8080/"
        }
      },
      "execution_count": 182,
      "outputs": [
        {
          "output_type": "stream",
          "name": "stdout",
          "text": [
            "\n",
            "Example 1: All non-trivial zeroes of the Riemann zeta function ζ(s) lie on the critical line Re(s)=1/2.\n",
            "--------------------------------------------------------------------------------\n",
            "LaTeX (78 tokens):\n",
            "  ['a', 'l', 'l', 'n', 'o', 'n', '-', 't', 'r', 'i', 'v', 'i', 'a', 'l', 'z', 'e', 'r', 'o', 'e', 's', 'o', 'f', 't', 'h', 'e', 'r', 'i', 'e', 'm', 'a', 'n', 'n', 'z', 'e', 't', 'a', 'f', 'u', 'n', 'c', 't', 'i', 'o', 'n', 'ζ', '(', 's', ')', 'l', 'i', 'e', 'o', 'n', 't', 'h', 'e', 'c', 'r', 'i', 't', 'i', 'c', 'a', 'l', 'l', 'i', 'n', 'e', 'r', 'e', '(', 's', ')', '=', '1', '/', '2', '.']\n",
            "Math (78 tokens):\n",
            "  ['a', 'l', 'l', 'n', 'o', 'n', '-', 't', 'r', 'i', 'v', 'i', 'a', 'l', 'z', 'e', 'r', 'o', 'e', 's', 'o', 'f', 't', 'h', 'e', 'r', 'i', 'e', 'm', 'a', 'n', 'n', 'z', 'e', 't', 'a', 'f', 'u', 'n', 'c', 't', 'i', 'o', 'n', 'ζ', '(', 's', ')', 'l', 'i', 'e', 'o', 'n', 't', 'h', 'e', 'c', 'r', 'i', 't', 'i', 'c', 'a', 'l', 'l', 'i', 'n', 'e', 'r', 'e', '(', 's', ')', '=', '1', '/', '2', '.']\n",
            "Standard (28 tokens):\n",
            "  ['all', 'non', '-', 'trivial', 'zeroes', 'of', 'the', 'riemann', 'zeta', 'function', 'ζ', '(', 's', ')', 'lie', 'on', 'the', 'critical', 'line', 're', '(', 's', ')', '=', '1', '/', '2', '.']\n",
            "UNK counts - LaTeX: 0, Math: 0, Standard: 0\n",
            "\n",
            "Example 2: The sine function sin(x) has zeros at kπ.\n",
            "--------------------------------------------------------------------------------\n",
            "LaTeX (34 tokens):\n",
            "  ['t', 'h', 'e', 's', 'i', 'n', 'e', 'f', 'u', 'n', 'c', 't', 'i', 'o', 'n', 's', 'i', 'n', '(', 'x', ')', 'h', 'a', 's', 'z', 'e', 'r', 'o', 's', 'a', 't', 'k', 'π', '.']\n",
            "Math (34 tokens):\n",
            "  ['t', 'h', 'e', 's', 'i', 'n', 'e', 'f', 'u', 'n', 'c', 't', 'i', 'o', 'n', 's', 'i', 'n', '(', 'x', ')', 'h', 'a', 's', 'z', 'e', 'r', 'o', 's', 'a', 't', 'k', 'π', '.']\n",
            "Standard (13 tokens):\n",
            "  ['the', 'sine', 'function', 'sin', '(', 'x', ')', 'has', 'zeros', 'at', 'k', '##π', '.']\n",
            "UNK counts - LaTeX: 0, Math: 0, Standard: 0\n",
            "\n",
            "Example 3: Find 2x + 3y = 15 when x = 4\n",
            "--------------------------------------------------------------------------------\n",
            "LaTeX (16 tokens):\n",
            "  ['f', 'i', 'n', 'd', '2x', '+', '[UNK]', '=', '[UNK]', 'w', 'h', 'e', 'n', 'x', '=', '4']\n",
            "Math (16 tokens):\n",
            "  ['f', 'i', 'n', 'd', '2x', '+', '[UNK]', '=', '[UNK]', 'w', 'h', 'e', 'n', 'x', '=', '4']\n",
            "Standard (14 tokens):\n",
            "  ['f', '##in', '##d', '2x', '+', '3', '##y', '=', '[UNK]', 'whe', '##n', 'x', '=', '4']\n",
            "UNK counts - LaTeX: 2, Math: 2, Standard: 1\n",
            "\n",
            "Example 4: The integral ∫₀¹ x² dx = 1/3 by the fundamental theorem of calculus.\n",
            "--------------------------------------------------------------------------------\n",
            "LaTeX (54 tokens):\n",
            "  ['t', 'h', 'e', 'i', 'n', 't', 'e', 'g', 'r', 'a', 'l', '∫', '₀¹', 'x²', 'd', 'x', '=', '1', '/', '3', 'b', 'y', 't', 'h', 'e', 'f', 'u', 'n', 'd', 'a', 'm', 'e', 'n', 't', 'a', 'l', 't', 'h', 'e', 'o', 'r', 'e', 'm', 'o', 'f', 'c', 'a', 'l', 'c', 'u', 'l', 'u', 's', '.']\n",
            "Math (55 tokens):\n",
            "  ['t', 'h', 'e', 'i', 'n', 't', 'e', 'g', 'r', 'a', 'l', '∫', '₀', '##¹', 'x²', 'd', 'x', '=', '1', '/', '3', 'b', 'y', 't', 'h', 'e', 'f', 'u', 'n', 'd', 'a', 'm', 'e', 'n', 't', 'a', 'l', 't', 'h', 'e', 'o', 'r', 'e', 'm', 'o', 'f', 'c', 'a', 'l', 'c', 'u', 'l', 'u', 's', '.']\n",
            "Standard (21 tokens):\n",
            "  ['the', 'integral', '∫₀¹', 'x²', 'dx', '=', '1', '/', '3', 'by', 'the', 'fundamental', 'theorem', 'of', 'c', '##al', '##c', '##ul', '##u', '##s', '.']\n",
            "UNK counts - LaTeX: 0, Math: 0, Standard: 0\n",
            "\n",
            "Example 5: The quadratic formula is x = (-b ± √(b²-4ac))/(2a).\n",
            "--------------------------------------------------------------------------------\n",
            "LaTeX (40 tokens):\n",
            "  ['t', 'h', 'e', 'q', 'u', 'a', 'd', 'r', 'a', 't', 'i', 'c', 'f', 'o', 'r', 'm', 'u', 'l', 'a', 'i', 's', 'x', '=', '(', '-', 'b', '±', '√', '(', 'b²', '-', '4a', 'c', ')', ')', '/', '(', '2a', ')', '.']\n",
            "Math (40 tokens):\n",
            "  ['t', 'h', 'e', 'q', 'u', 'a', 'd', 'r', 'a', 't', 'i', 'c', 'f', 'o', 'r', 'm', 'u', 'l', 'a', 'i', 's', 'x', '=', '(', '-', 'b', '±', '√', '(', 'b²', '-', '4a', 'c', ')', ')', '/', '(', '2a', ')', '.']\n",
            "Standard (22 tokens):\n",
            "  ['the', 'quadratic', 'formula', 'is', 'x', '=', '(', '-', 'b', '±', '√', '(', 'b²', '-', '4ac', ')', ')', '/', '(', '2a', ')', '.']\n",
            "UNK counts - LaTeX: 0, Math: 0, Standard: 0\n",
            "\n",
            "Mathematical terms: []...\n",
            "Greek letters: []...\n",
            "Math symbols: ['ζ', 'π', '∞', '2π', '∫', 'π²', '∑', '±', '##π']...\n",
            "Functions: []...\n",
            "Total math-related tokens: 9\n",
            "\n",
            "Mathematical terms: []...\n",
            "Greek letters: []...\n",
            "Math symbols: ['ω', 'σ', 'τ', 'ζ', 'η', '##π', 'μ', '∑', 'φ', 'χ']...\n",
            "Functions: []...\n",
            "Total math-related tokens: 36\n",
            "\n",
            "Mathematical terms: ['function', 'theorem', 'equation', 'matrix', 'integral', 'derivative']...\n",
            "Greek letters: ['formula', '##mul', 'pi', 'formul']...\n",
            "Math symbols: ['##π', '±', '∞', '∫', '∑', 'π²', 'ζ', '∫₀¹', '2π', 'iπ']...\n",
            "Functions: ['sine', 'limit', 'sin', 'lim']...\n",
            "Total math-related tokens: 26\n"
          ]
        }
      ]
    },
    {
      "cell_type": "markdown",
      "source": [
        "5. **Special Token Handling**: Experiment with different special tokens and see how they affect the model's behavior."
      ],
      "metadata": {
        "id": "mSSeXmfZSK-N"
      }
    },
    {
      "cell_type": "code",
      "source": [
        "import re\n",
        "\n",
        "def create_latex_specific_tokenizer():\n",
        "    \"\"\"\n",
        "    A tokenizer for LaTeX documents which focuses on preserving LaTeX command\n",
        "    structure and mathematical expressions.\n",
        "    \"\"\"\n",
        "\n",
        "    tokenizer = Tokenizer(models.WordPiece(unk_token=\"[UNK]\"))\n",
        "\n",
        "    # Normalization\n",
        "    tokenizer.normalizer = normalizers.Sequence([\n",
        "        normalizers.NFD(),\n",
        "        normalizers.Replace(Regex(r'\\s+'), ' '),  # Clean up whitespace\n",
        "    ])\n",
        "\n",
        "    # Pre-tokenization\n",
        "    tokenizer.pre_tokenizer = pre_tokenizers.Sequence([\n",
        "        # Isolate LaTeX environments\n",
        "        pre_tokenizers.Split(\n",
        "            Regex(r'(\\\\begin\\{[^}]+\\}.*?\\\\end\\{[^}]+\\})'),\n",
        "            behavior='isolated'\n",
        "        ),\n",
        "\n",
        "        # Isolate display math environments\n",
        "        pre_tokenizers.Split(\n",
        "            Regex(r'(\\$\\$[^$]*\\$\\$|\\\\\\[[^\\]]*\\\\\\])'),\n",
        "            behavior='isolated'\n",
        "        ),\n",
        "\n",
        "        # Isolate inline math\n",
        "        pre_tokenizers.Split(\n",
        "            Regex(r'(\\$[^$]*\\$|\\\\\\([^)]*\\\\\\))'),\n",
        "            behavior='isolated'\n",
        "        ),\n",
        "\n",
        "        # Isolate LaTeX commands with their arguments\n",
        "        pre_tokenizers.Split(\n",
        "            Regex(r'(\\\\[a-zA-Z]+(?:\\*)?(?:\\[[^\\]]*\\])?(?:\\{[^}]*\\})*(?:\\{[^}]*\\})*)'),\n",
        "            behavior='isolated'\n",
        "        ),\n",
        "\n",
        "        # Isolate standalone braces and their contents\n",
        "        pre_tokenizers.Split(\n",
        "            Regex(r'(\\{[^{}]*\\})'),\n",
        "            behavior='isolated'\n",
        "        ),\n",
        "\n",
        "        # Standard split regular text\n",
        "        pre_tokenizers.WhitespaceSplit(),\n",
        "        pre_tokenizers.Punctuation()\n",
        "    ])\n",
        "\n",
        "    # LaTeX vocabulary\n",
        "    latex_special_tokens = [\n",
        "        \"[UNK]\", \"[PAD]\", \"[CLS]\", \"[SEP]\", \"[MASK]\",\n",
        "\n",
        "        # Document structure\n",
        "        \"[DOCUMENT]\", \"[SECTION]\", \"[SUBSECTION]\", \"[PARAGRAPH]\",\n",
        "        \"[MATH_DISPLAY]\", \"[MATH_INLINE]\", \"[EQUATION]\", \"[ALIGN]\",\n",
        "\n",
        "        # LaTeX commands as single tokens\n",
        "        \"\\\\documentclass\", \"\\\\usepackage\", \"\\\\begin\", \"\\\\end\",\n",
        "        \"\\\\section\", \"\\\\subsection\", \"\\\\paragraph\", \"\\\\item\",\n",
        "        \"\\\\label\", \"\\\\ref\", \"\\\\cite\", \"\\\\bibliography\",\n",
        "\n",
        "        # Mathematical commands\n",
        "        \"\\\\frac\", \"\\\\sqrt\", \"\\\\sum\", \"\\\\int\", \"\\\\prod\", \"\\\\lim\",\n",
        "        \"\\\\partial\", \"\\\\nabla\", \"\\\\infty\", \"\\\\alpha\", \"\\\\beta\", \"\\\\gamma\",\n",
        "        \"\\\\delta\", \"\\\\epsilon\", \"\\\\zeta\", \"\\\\eta\", \"\\\\theta\", \"\\\\iota\",\n",
        "        \"\\\\kappa\", \"\\\\lambda\", \"\\\\mu\", \"\\\\nu\", \"\\\\xi\", \"\\\\pi\", \"\\\\rho\",\n",
        "        \"\\\\sigma\", \"\\\\tau\", \"\\\\upsilon\", \"\\\\phi\", \"\\\\chi\", \"\\\\psi\", \"\\\\omega\",\n",
        "\n",
        "        # Mathematical environments\n",
        "        \"\\\\equation\", \"\\\\align\", \"\\\\gather\", \"\\\\split\", \"\\\\cases\",\n",
        "        \"\\\\matrix\", \"\\\\pmatrix\", \"\\\\bmatrix\", \"\\\\vmatrix\",\n",
        "\n",
        "        # Formatting\n",
        "        \"\\\\textbf\", \"\\\\textit\", \"\\\\emph\", \"\\\\underline\", \"\\\\overline\",\n",
        "        \"\\\\left\", \"\\\\right\", \"\\\\big\", \"\\\\Big\", \"\\\\bigg\", \"\\\\Bigg\",\n",
        "\n",
        "        # Symbols that should never be split\n",
        "        \"\\\\leq\", \"\\\\geq\", \"\\\\neq\", \"\\\\approx\", \"\\\\equiv\", \"\\\\propto\",\n",
        "        \"\\\\in\", \"\\\\notin\", \"\\\\subset\", \"\\\\supset\", \"\\\\cup\", \"\\\\cap\",\n",
        "        \"\\\\times\", \"\\\\div\", \"\\\\pm\", \"\\\\mp\", \"\\\\cdot\", \"\\\\circ\",\n",
        "    ]\n",
        "\n",
        "    trainer = trainers.WordPieceTrainer(\n",
        "        vocab_size=50000,\n",
        "        special_tokens=latex_special_tokens,\n",
        "        continuing_subword_prefix=\"##\",\n",
        "        min_frequency=1,  # Include rare LaTeX commands\n",
        "    )\n",
        "\n",
        "    return tokenizer, trainer\n",
        "\n",
        "def create_latex_training_corpus():\n",
        "    \"\"\"Generate LaTeX-rich training data\"\"\"\n",
        "\n",
        "    latex_documents = [\n",
        "        # Basic document structure\n",
        "        \"\\\\documentclass{article} \\\\usepackage{amsmath} \\\\begin{document} Hello World \\\\end{document}\",\n",
        "\n",
        "        # Mathematical expressions\n",
        "        \"The quadratic formula is \\\\begin{equation} x = \\\\frac{-b \\\\pm \\\\sqrt{b^2 - 4ac}}{2a} \\\\end{equation}\",\n",
        "\n",
        "        # Inline and display math\n",
        "        \"We have $f(x) = x^2$ and \\\\[g(x) = \\\\int_0^x f(t) dt\\\\]\",\n",
        "\n",
        "        # Complex mathematical structures\n",
        "        \"\\\\begin{align} \\\\nabla \\\\times \\\\mathbf{E} &= -\\\\frac{\\\\partial \\\\mathbf{B}}{\\\\partial t} \\\\\\\\ \\\\nabla \\\\times \\\\mathbf{B} &= \\\\mu_0 \\\\mathbf{J} + \\\\mu_0 \\\\epsilon_0 \\\\frac{\\\\partial \\\\mathbf{E}}{\\\\partial t} \\\\end{align}\",\n",
        "\n",
        "        # Matrices and arrays\n",
        "        \"\\\\begin{pmatrix} a & b \\\\\\\\ c & d \\\\end{pmatrix} \\\\begin{bmatrix} x \\\\\\\\ y \\\\end{bmatrix} = \\\\begin{bmatrix} ax + by \\\\\\\\ cx + dy \\\\end{bmatrix}\",\n",
        "\n",
        "        # Greek letters and symbols\n",
        "        \"Let $\\\\alpha, \\\\beta, \\\\gamma$ be angles such that $\\\\alpha + \\\\beta + \\\\gamma = \\\\pi$\",\n",
        "\n",
        "        # Fractions and radicals\n",
        "        \"\\\\frac{\\\\sqrt{a + b}}{\\\\sqrt{c - d}} = \\\\sqrt{\\\\frac{a + b}{c - d}}\",\n",
        "\n",
        "        # Summations and integrals\n",
        "        \"\\\\sum_{n=1}^{\\\\infty} \\\\frac{1}{n^2} = \\\\frac{\\\\pi^2}{6} \\\\quad \\\\text{and} \\\\quad \\\\int_0^{\\\\infty} e^{-x^2} dx = \\\\frac{\\\\sqrt{\\\\pi}}{2}\",\n",
        "\n",
        "        # Function definitions\n",
        "        \"Let $f: \\\\mathbb{R} \\\\to \\\\mathbb{R}$ be defined by $f(x) = \\\\sin(x) + \\\\cos(x)$\",\n",
        "\n",
        "        # Limits and derivatives\n",
        "        \"\\\\lim_{x \\\\to 0} \\\\frac{\\\\sin(x)}{x} = 1 \\\\quad \\\\text{and} \\\\quad \\\\frac{d}{dx}[x^n] = nx^{n-1}\",\n",
        "\n",
        "        # Set theory\n",
        "        \"For sets $A, B \\\\subset \\\\mathbb{R}$, we have $A \\\\cup B = \\\\{x : x \\\\in A \\\\text{ or } x \\\\in B\\\\}$\",\n",
        "\n",
        "        # Probability\n",
        "        \"If $X \\\\sim \\\\mathcal{N}(\\\\mu, \\\\sigma^2)$, then $\\\\mathbb{E}[X] = \\\\mu$ and $\\\\text{Var}(X) = \\\\sigma^2$\",\n",
        "\n",
        "        # Linear algebra\n",
        "        \"The eigenvalues of matrix $A$ satisfy $\\\\det(A - \\\\lambda I) = 0$\",\n",
        "\n",
        "        # Complex analysis\n",
        "        \"The Cauchy-Riemann equations: $\\\\frac{\\\\partial u}{\\\\partial x} = \\\\frac{\\\\partial v}{\\\\partial y}$ and $\\\\frac{\\\\partial u}{\\\\partial y} = -\\\\frac{\\\\partial v}{\\\\partial x}$\",\n",
        "\n",
        "        # Document sections\n",
        "        \"\\\\section{Introduction} \\\\subsection{Background} \\\\paragraph{Motivation} This work studies...\",\n",
        "\n",
        "        # References and citations\n",
        "        \"As shown in \\\\cite{einstein1905} and \\\\ref{eq:main}, we conclude that...\",\n",
        "\n",
        "        # Environments\n",
        "        \"\\\\begin{theorem} \\\\label{thm:main} Every continuous function on $[a,b]$ is uniformly continuous. \\\\end{theorem}\",\n",
        "\n",
        "        # Cases and piecewise functions\n",
        "        \"\\\\begin{equation} f(x) = \\\\begin{cases} x^2 & \\\\text{if } x \\\\geq 0 \\\\\\\\ -x^2 & \\\\text{if } x < 0 \\\\end{cases} \\\\end{equation}\",\n",
        "\n",
        "        # Tables and formatting\n",
        "        \"\\\\begin{table} \\\\begin{tabular}{|c|c|} \\\\hline $x$ & $f(x)$ \\\\\\\\ \\\\hline 1 & 2 \\\\\\\\ 2 & 4 \\\\\\\\ \\\\hline \\\\end{tabular} \\\\end{table}\",\n",
        "    ]\n",
        "\n",
        "    # Expand the corpus\n",
        "    expanded_corpus = latex_documents * 1000  # Repeat for more training data\n",
        "\n",
        "    def latex_corpus_generator():\n",
        "        for i in range(0, len(expanded_corpus), 10):\n",
        "            yield expanded_corpus[i:i+10]\n",
        "\n",
        "    return latex_corpus_generator\n",
        "\n",
        "def test_latex_tokenizer():\n",
        "    \"\"\"Test the LaTeX-specific tokenizer\"\"\"\n",
        "\n",
        "    latex_tokenizer, trainer = create_latex_specific_tokenizer()\n",
        "\n",
        "    # Train on LaTeX corpus\n",
        "    latex_corpus = create_latex_training_corpus()\n",
        "    latex_tokenizer.train_from_iterator(latex_corpus(), trainer=trainer)\n",
        "\n",
        "    # Create standard tokenizer for comparison\n",
        "    standard_tokenizer = Tokenizer(models.WordPiece(unk_token=\"[UNK]\"))\n",
        "    standard_tokenizer.normalizer = normalizers.BertNormalizer(lowercase=True)\n",
        "    standard_tokenizer.pre_tokenizer = pre_tokenizers.BertPreTokenizer()\n",
        "    standard_trainer = trainers.WordPieceTrainer(\n",
        "        vocab_size=50000,\n",
        "        special_tokens=[\"[UNK]\", \"[PAD]\", \"[CLS]\", \"[SEP]\", \"[MASK]\"]\n",
        "    )\n",
        "    standard_tokenizer.train_from_iterator(latex_corpus(), trainer=standard_trainer)\n",
        "\n",
        "    # Test on LaTeX examples\n",
        "    latex_test_examples = [\n",
        "        \"\\\\frac{\\\\sqrt{b^2 - 4ac}}{2a}\",\n",
        "        \"\\\\begin{equation} \\\\sum_{n=1}^{\\\\infty} \\\\frac{1}{n^2} = \\\\frac{\\\\pi^2}{6} \\\\end{equation}\",\n",
        "        \"\\\\int_0^{\\\\infty} e^{-x^2} dx = \\\\frac{\\\\sqrt{\\\\pi}}{2}\",\n",
        "        \"\\\\begin{pmatrix} a & b \\\\\\\\ c & d \\\\end{pmatrix}\",\n",
        "        \"\\\\lim_{x \\\\to 0} \\\\frac{\\\\sin(x)}{x} = 1\",\n",
        "        \"\\\\alpha + \\\\beta + \\\\gamma = \\\\pi\",\n",
        "        \"\\\\documentclass{article} \\\\usepackage{amsmath}\",\n",
        "        \"\\\\begin{align} f(x) &= x^2 \\\\\\\\ g(x) &= 2x \\\\end{align}\",\n",
        "    ]\n",
        "\n",
        "    for i, example in enumerate(latex_test_examples):\n",
        "        print(f\"\\nExample {i+1}: {example}\")\n",
        "        print(\"-\" * 80)\n",
        "\n",
        "        latex_encoding = latex_tokenizer.encode(example)\n",
        "        standard_encoding = standard_tokenizer.encode(example)\n",
        "\n",
        "        latex_unks = latex_encoding.tokens.count('[UNK]')\n",
        "        standard_unks = standard_encoding.tokens.count('[UNK]')\n",
        "\n",
        "        print(f\"LaTeX-specific ({len(latex_encoding.tokens)} tokens, {latex_unks} UNKs):\")\n",
        "        print(f\"  {latex_encoding.tokens}\")\n",
        "\n",
        "        print(f\"Standard ({len(standard_encoding.tokens)} tokens, {standard_unks} UNKs):\")\n",
        "        print(f\"  {standard_encoding.tokens}\")\n",
        "\n",
        "        # Check LaTeX command preservation\n",
        "        latex_commands_intact = sum(1 for token in latex_encoding.tokens if token.startswith('\\\\') and len(token) > 2)\n",
        "        standard_commands_intact = sum(1 for token in standard_encoding.tokens if token.startswith('\\\\') and len(token) > 2)\n",
        "\n",
        "        print(f\"LaTeX commands preserved intact - LaTeX: {latex_commands_intact}, Standard: {standard_commands_intact}\")\n",
        "\n",
        "    return latex_tokenizer, standard_tokenizer\n",
        "\n",
        "def analyze_latex_vocabulary(tokenizer, name):\n",
        "    \"\"\"Analyze LaTeX-specific vocabulary learned\"\"\"\n",
        "    print(f\"\\n=== LaTeX Vocabulary Analysis: {name} ===\")\n",
        "\n",
        "    vocab = tokenizer.get_vocab()\n",
        "\n",
        "    # Categorize LaTeX vocabulary\n",
        "    latex_commands = [token for token in vocab.keys() if token.startswith('\\\\') and len(token) > 2]\n",
        "    math_environments = [token for token in vocab.keys() if any(env in token for env in ['equation', 'align', 'matrix', 'cases'])]\n",
        "    greek_letters = [token for token in vocab.keys() if any(greek in token for greek in ['alpha', 'beta', 'gamma', 'delta', 'pi', 'sigma', 'theta', 'lambda'])]\n",
        "    document_structure = [token for token in vocab.keys() if any(struct in token for struct in ['section', 'chapter', 'document', 'usepackage'])]\n",
        "\n",
        "    print(f\"LaTeX commands: {len(latex_commands)} (e.g., {latex_commands[:10]})\")\n",
        "    print(f\"Math environments: {len(math_environments)} (e.g., {math_environments[:5]})\")\n",
        "    print(f\"Greek letters: {len(greek_letters)} (e.g., {greek_letters[:10]})\")\n",
        "    print(f\"Document structure: {len(document_structure)} (e.g., {document_structure[:5]})\")\n",
        "\n",
        "    return {\n",
        "        'commands': len(latex_commands),\n",
        "        'environments': len(math_environments),\n",
        "        'greek': len(greek_letters),\n",
        "        'structure': len(document_structure)\n",
        "    }\n",
        "\n",
        "\n",
        "latex_tok, standard_tok = test_latex_tokenizer()\n",
        "\n",
        "# Analyze vocabularies\n",
        "latex_stats = analyze_latex_vocabulary(latex_tok, \"LaTeX-Specific Tokenizer\")\n",
        "standard_stats = analyze_latex_vocabulary(standard_tok, \"Standard Tokenizer\")\n"
      ],
      "metadata": {
        "id": "ryoZy1pQCZSN",
        "outputId": "ad27fda4-7408-441c-82d9-39bd29842aca",
        "colab": {
          "base_uri": "https://localhost:8080/"
        }
      },
      "execution_count": 186,
      "outputs": [
        {
          "output_type": "stream",
          "name": "stdout",
          "text": [
            "\n",
            "Example 1: \\frac{\\sqrt{b^2 - 4ac}}{2a}\n",
            "--------------------------------------------------------------------------------\n",
            "LaTeX-specific (14 tokens, 0 UNKs):\n",
            "  ['\\\\frac', '{', '\\\\sqrt', '{', 'b', '^', '2', '-', '4ac', '}', '}', '{', '2a', '}']\n",
            "Standard (16 tokens, 0 UNKs):\n",
            "  ['\\\\', 'frac', '{', '\\\\', 'sqrt', '{', 'b', '^', '2', '-', '4ac', '}', '}', '{', '2a', '}']\n",
            "LaTeX commands preserved intact - LaTeX: 2, Standard: 0\n",
            "\n",
            "Example 2: \\begin{equation} \\sum_{n=1}^{\\infty} \\frac{1}{n^2} = \\frac{\\pi^2}{6} \\end{equation}\n",
            "--------------------------------------------------------------------------------\n",
            "LaTeX-specific (38 tokens, 0 UNKs):\n",
            "  ['\\\\begin', '{', 'equation', '}', '\\\\sum', '_', '{', 'n', '=', '1', '}', '^', '{', '\\\\infty', '}', '\\\\frac', '{', '1', '}', '{', 'n', '^', '2', '}', '=', '\\\\frac', '{', '\\\\pi', '^', '2', '}', '{', '6', '}', '\\\\end', '{', 'equation', '}']\n",
            "Standard (45 tokens, 0 UNKs):\n",
            "  ['\\\\', 'begin', '{', 'equation', '}', '\\\\', 'sum', '_', '{', 'n', '=', '1', '}', '^', '{', '\\\\', 'infty', '}', '\\\\', 'frac', '{', '1', '}', '{', 'n', '^', '2', '}', '=', '\\\\', 'frac', '{', '\\\\', 'pi', '^', '2', '}', '{', '6', '}', '\\\\', 'end', '{', 'equation', '}']\n",
            "LaTeX commands preserved intact - LaTeX: 7, Standard: 0\n",
            "\n",
            "Example 3: \\int_0^{\\infty} e^{-x^2} dx = \\frac{\\sqrt{\\pi}}{2}\n",
            "--------------------------------------------------------------------------------\n",
            "LaTeX-specific (27 tokens, 0 UNKs):\n",
            "  ['\\\\int', '_', '0', '^', '{', '\\\\infty', '}', 'e', '^', '{', '-', 'x', '^', '2', '}', 'dx', '=', '\\\\frac', '{', '\\\\sqrt', '{', '\\\\pi', '}', '}', '{', '2', '}']\n",
            "Standard (32 tokens, 0 UNKs):\n",
            "  ['\\\\', 'int', '_', '0', '^', '{', '\\\\', 'infty', '}', 'e', '^', '{', '-', 'x', '^', '2', '}', 'dx', '=', '\\\\', 'frac', '{', '\\\\', 'sqrt', '{', '\\\\', 'pi', '}', '}', '{', '2', '}']\n",
            "LaTeX commands preserved intact - LaTeX: 5, Standard: 0\n",
            "\n",
            "Example 4: \\begin{pmatrix} a & b \\\\ c & d \\end{pmatrix}\n",
            "--------------------------------------------------------------------------------\n",
            "LaTeX-specific (16 tokens, 0 UNKs):\n",
            "  ['\\\\begin', '{', 'pmatrix', '}', 'a', '&', 'b', '\\\\', '\\\\', 'c', '&', 'd', '\\\\end', '{', 'pmatrix', '}']\n",
            "Standard (18 tokens, 0 UNKs):\n",
            "  ['\\\\', 'begin', '{', 'pmatrix', '}', 'a', '&', 'b', '\\\\', '\\\\', 'c', '&', 'd', '\\\\', 'end', '{', 'pmatrix', '}']\n",
            "LaTeX commands preserved intact - LaTeX: 2, Standard: 0\n",
            "\n",
            "Example 5: \\lim_{x \\to 0} \\frac{\\sin(x)}{x} = 1\n",
            "--------------------------------------------------------------------------------\n",
            "LaTeX-specific (21 tokens, 0 UNKs):\n",
            "  ['\\\\lim', '_', '{', 'x', '\\\\', 'to', '0', '}', '\\\\frac', '{', '\\\\', 'sin', '(', 'x', ')', '}', '{', 'x', '}', '=', '1']\n",
            "Standard (23 tokens, 0 UNKs):\n",
            "  ['\\\\', 'lim', '_', '{', 'x', '\\\\', 'to', '0', '}', '\\\\', 'frac', '{', '\\\\', 'sin', '(', 'x', ')', '}', '{', 'x', '}', '=', '1']\n",
            "LaTeX commands preserved intact - LaTeX: 2, Standard: 0\n",
            "\n",
            "Example 6: \\alpha + \\beta + \\gamma = \\pi\n",
            "--------------------------------------------------------------------------------\n",
            "LaTeX-specific (7 tokens, 0 UNKs):\n",
            "  ['\\\\alpha', '+', '\\\\beta', '+', '\\\\gamma', '=', '\\\\pi']\n",
            "Standard (11 tokens, 0 UNKs):\n",
            "  ['\\\\', 'alpha', '+', '\\\\', 'beta', '+', '\\\\', 'gamma', '=', '\\\\', 'pi']\n",
            "LaTeX commands preserved intact - LaTeX: 4, Standard: 0\n",
            "\n",
            "Example 7: \\documentclass{article} \\usepackage{amsmath}\n",
            "--------------------------------------------------------------------------------\n",
            "LaTeX-specific (8 tokens, 0 UNKs):\n",
            "  ['\\\\documentclass', '{', 'article', '}', '\\\\usepackage', '{', 'amsmath', '}']\n",
            "Standard (10 tokens, 0 UNKs):\n",
            "  ['\\\\', 'documentclass', '{', 'article', '}', '\\\\', 'usepackage', '{', 'amsmath', '}']\n",
            "LaTeX commands preserved intact - LaTeX: 2, Standard: 0\n",
            "\n",
            "Example 8: \\begin{align} f(x) &= x^2 \\\\ g(x) &= 2x \\end{align}\n",
            "--------------------------------------------------------------------------------\n",
            "LaTeX-specific (27 tokens, 0 UNKs):\n",
            "  ['\\\\begin', '{', 'align', '}', 'f', '(', 'x', ')', '&', '=', 'x', '^', '2', '\\\\', '\\\\', 'g', '(', 'x', ')', '&', '=', '2', '##x', '\\\\end', '{', 'align', '}']\n",
            "Standard (29 tokens, 0 UNKs):\n",
            "  ['\\\\', 'begin', '{', 'align', '}', 'f', '(', 'x', ')', '&', '=', 'x', '^', '2', '\\\\', '\\\\', 'g', '(', 'x', ')', '&', '=', '2', '##x', '\\\\', 'end', '{', 'align', '}']\n",
            "LaTeX commands preserved intact - LaTeX: 2, Standard: 0\n",
            "\n",
            "=== LaTeX Vocabulary Analysis: LaTeX-Specific Tokenizer ===\n",
            "LaTeX commands: 82 (e.g., ['\\\\Bigg', '\\\\supset', '\\\\gather', '\\\\gamma', '\\\\cases', '\\\\matrix', '\\\\circ', '\\\\lim', '\\\\end', '\\\\omega'])\n",
            "Math environments: 15 (e.g., ['\\\\cases', '\\\\matrix', 'pmatrix', 'cases', 'equation'])\n",
            "Greek letters: 14 (e.g., ['alpha', '\\\\gamma', 'pi', '\\\\pi', '\\\\alpha', 'lambda', '\\\\theta', 'beta', '\\\\sigma', 'sigma'])\n",
            "Document structure: 10 (e.g., ['\\\\section', 'subsection', 'usepackage', '\\\\usepackage', 'documentcla'])\n",
            "\n",
            "=== LaTeX Vocabulary Analysis: Standard Tokenizer ===\n",
            "LaTeX commands: 0 (e.g., [])\n",
            "Math environments: 8 (e.g., ['pmatrix', '##matrix', 'align', 'cases', 'equation'])\n",
            "Greek letters: 6 (e.g., ['beta', 'alpha', 'lambda', 'gamma', 'sigma', 'pi'])\n",
            "Document structure: 6 (e.g., ['section', 'documentcla', 'documentclass', 'subsection', 'document'])\n"
          ]
        }
      ]
    }
  ],
  "metadata": {
    "accelerator": "GPU",
    "colab": {
      "gpuType": "T4",
      "provenance": []
    },
    "kernelspec": {
      "display_name": "Python 3",
      "name": "python3"
    },
    "language_info": {
      "codemirror_mode": {
        "name": "ipython",
        "version": 3
      },
      "file_extension": ".py",
      "name": "python",
      "nbconvert_exporter": "python",
      "pygments_lexer": "ipython3",
      "version": "3.8.5"
    },
    "widgets": {
      "application/vnd.jupyter.widget-state+json": {
        "1be0baf1d64e49c38414f8be2518088f": {
          "model_module": "@jupyter-widgets/controls",
          "model_name": "VBoxModel",
          "model_module_version": "1.5.0",
          "state": {
            "_dom_classes": [],
            "_model_module": "@jupyter-widgets/controls",
            "_model_module_version": "1.5.0",
            "_model_name": "VBoxModel",
            "_view_count": null,
            "_view_module": "@jupyter-widgets/controls",
            "_view_module_version": "1.5.0",
            "_view_name": "VBoxView",
            "box_style": "",
            "children": [],
            "layout": "IPY_MODEL_cfc6588b99344ac0ba6bff37db3c7114"
          }
        },
        "218973b482f14aea83ad7c381cd373da": {
          "model_module": "@jupyter-widgets/controls",
          "model_name": "HTMLModel",
          "model_module_version": "1.5.0",
          "state": {
            "_dom_classes": [],
            "_model_module": "@jupyter-widgets/controls",
            "_model_module_version": "1.5.0",
            "_model_name": "HTMLModel",
            "_view_count": null,
            "_view_module": "@jupyter-widgets/controls",
            "_view_module_version": "1.5.0",
            "_view_name": "HTMLView",
            "description": "",
            "description_tooltip": null,
            "layout": "IPY_MODEL_1c31985ab48149aabb0c325203f7b983",
            "placeholder": "​",
            "style": "IPY_MODEL_1a65aff4bfea49ab8e7aff3bd953f2bf",
            "value": "<center> <img\nsrc=https://huggingface.co/front/assets/huggingface_logo-noborder.svg\nalt='Hugging Face'> <br> Copy a token from <a\nhref=\"https://huggingface.co/settings/tokens\" target=\"_blank\">your Hugging Face\ntokens page</a> and paste it below. <br> Immediately click login after copying\nyour token or it might be stored in plain text in this notebook file. </center>"
          }
        },
        "5a946c231569410492f96f9a9e0ef7c3": {
          "model_module": "@jupyter-widgets/controls",
          "model_name": "PasswordModel",
          "model_module_version": "1.5.0",
          "state": {
            "_dom_classes": [],
            "_model_module": "@jupyter-widgets/controls",
            "_model_module_version": "1.5.0",
            "_model_name": "PasswordModel",
            "_view_count": null,
            "_view_module": "@jupyter-widgets/controls",
            "_view_module_version": "1.5.0",
            "_view_name": "PasswordView",
            "continuous_update": true,
            "description": "Token:",
            "description_tooltip": null,
            "disabled": false,
            "layout": "IPY_MODEL_53b55dd617c541b2abc85884ad758b42",
            "placeholder": "​",
            "style": "IPY_MODEL_cc810ce238e74b879f286d201bd020c1",
            "value": ""
          }
        },
        "96f7afdada174daba5b53ca79f767ad5": {
          "model_module": "@jupyter-widgets/controls",
          "model_name": "CheckboxModel",
          "model_module_version": "1.5.0",
          "state": {
            "_dom_classes": [],
            "_model_module": "@jupyter-widgets/controls",
            "_model_module_version": "1.5.0",
            "_model_name": "CheckboxModel",
            "_view_count": null,
            "_view_module": "@jupyter-widgets/controls",
            "_view_module_version": "1.5.0",
            "_view_name": "CheckboxView",
            "description": "Add token as git credential?",
            "description_tooltip": null,
            "disabled": false,
            "indent": true,
            "layout": "IPY_MODEL_901de875ac1f4b6784f1d50e49c6462e",
            "style": "IPY_MODEL_d844dddc235344b8b915a7e032784fe5",
            "value": true
          }
        },
        "512ad007d86143e790606616ee9eb8f3": {
          "model_module": "@jupyter-widgets/controls",
          "model_name": "ButtonModel",
          "model_module_version": "1.5.0",
          "state": {
            "_dom_classes": [],
            "_model_module": "@jupyter-widgets/controls",
            "_model_module_version": "1.5.0",
            "_model_name": "ButtonModel",
            "_view_count": null,
            "_view_module": "@jupyter-widgets/controls",
            "_view_module_version": "1.5.0",
            "_view_name": "ButtonView",
            "button_style": "",
            "description": "Login",
            "disabled": false,
            "icon": "",
            "layout": "IPY_MODEL_8df8fddd1b124c22a5f9ba4178b1daea",
            "style": "IPY_MODEL_0fd65fefbe8a46779d442ecebf3c3047",
            "tooltip": ""
          }
        },
        "97860ba69a72466e8c09cecd775ddebb": {
          "model_module": "@jupyter-widgets/controls",
          "model_name": "HTMLModel",
          "model_module_version": "1.5.0",
          "state": {
            "_dom_classes": [],
            "_model_module": "@jupyter-widgets/controls",
            "_model_module_version": "1.5.0",
            "_model_name": "HTMLModel",
            "_view_count": null,
            "_view_module": "@jupyter-widgets/controls",
            "_view_module_version": "1.5.0",
            "_view_name": "HTMLView",
            "description": "",
            "description_tooltip": null,
            "layout": "IPY_MODEL_aeb9362e5ef14998823bade62a6cf347",
            "placeholder": "​",
            "style": "IPY_MODEL_4f716f2d3117426b976b27256943d17e",
            "value": "\n<b>Pro Tip:</b> If you don't already have one, you can create a dedicated\n'notebooks' token with 'write' access, that you can then easily reuse for all\nnotebooks. </center>"
          }
        },
        "cfc6588b99344ac0ba6bff37db3c7114": {
          "model_module": "@jupyter-widgets/base",
          "model_name": "LayoutModel",
          "model_module_version": "1.2.0",
          "state": {
            "_model_module": "@jupyter-widgets/base",
            "_model_module_version": "1.2.0",
            "_model_name": "LayoutModel",
            "_view_count": null,
            "_view_module": "@jupyter-widgets/base",
            "_view_module_version": "1.2.0",
            "_view_name": "LayoutView",
            "align_content": null,
            "align_items": "center",
            "align_self": null,
            "border": null,
            "bottom": null,
            "display": "flex",
            "flex": null,
            "flex_flow": "column",
            "grid_area": null,
            "grid_auto_columns": null,
            "grid_auto_flow": null,
            "grid_auto_rows": null,
            "grid_column": null,
            "grid_gap": null,
            "grid_row": null,
            "grid_template_areas": null,
            "grid_template_columns": null,
            "grid_template_rows": null,
            "height": null,
            "justify_content": null,
            "justify_items": null,
            "left": null,
            "margin": null,
            "max_height": null,
            "max_width": null,
            "min_height": null,
            "min_width": null,
            "object_fit": null,
            "object_position": null,
            "order": null,
            "overflow": null,
            "overflow_x": null,
            "overflow_y": null,
            "padding": null,
            "right": null,
            "top": null,
            "visibility": null,
            "width": "50%"
          }
        },
        "1c31985ab48149aabb0c325203f7b983": {
          "model_module": "@jupyter-widgets/base",
          "model_name": "LayoutModel",
          "model_module_version": "1.2.0",
          "state": {
            "_model_module": "@jupyter-widgets/base",
            "_model_module_version": "1.2.0",
            "_model_name": "LayoutModel",
            "_view_count": null,
            "_view_module": "@jupyter-widgets/base",
            "_view_module_version": "1.2.0",
            "_view_name": "LayoutView",
            "align_content": null,
            "align_items": null,
            "align_self": null,
            "border": null,
            "bottom": null,
            "display": null,
            "flex": null,
            "flex_flow": null,
            "grid_area": null,
            "grid_auto_columns": null,
            "grid_auto_flow": null,
            "grid_auto_rows": null,
            "grid_column": null,
            "grid_gap": null,
            "grid_row": null,
            "grid_template_areas": null,
            "grid_template_columns": null,
            "grid_template_rows": null,
            "height": null,
            "justify_content": null,
            "justify_items": null,
            "left": null,
            "margin": null,
            "max_height": null,
            "max_width": null,
            "min_height": null,
            "min_width": null,
            "object_fit": null,
            "object_position": null,
            "order": null,
            "overflow": null,
            "overflow_x": null,
            "overflow_y": null,
            "padding": null,
            "right": null,
            "top": null,
            "visibility": null,
            "width": null
          }
        },
        "1a65aff4bfea49ab8e7aff3bd953f2bf": {
          "model_module": "@jupyter-widgets/controls",
          "model_name": "DescriptionStyleModel",
          "model_module_version": "1.5.0",
          "state": {
            "_model_module": "@jupyter-widgets/controls",
            "_model_module_version": "1.5.0",
            "_model_name": "DescriptionStyleModel",
            "_view_count": null,
            "_view_module": "@jupyter-widgets/base",
            "_view_module_version": "1.2.0",
            "_view_name": "StyleView",
            "description_width": ""
          }
        },
        "53b55dd617c541b2abc85884ad758b42": {
          "model_module": "@jupyter-widgets/base",
          "model_name": "LayoutModel",
          "model_module_version": "1.2.0",
          "state": {
            "_model_module": "@jupyter-widgets/base",
            "_model_module_version": "1.2.0",
            "_model_name": "LayoutModel",
            "_view_count": null,
            "_view_module": "@jupyter-widgets/base",
            "_view_module_version": "1.2.0",
            "_view_name": "LayoutView",
            "align_content": null,
            "align_items": null,
            "align_self": null,
            "border": null,
            "bottom": null,
            "display": null,
            "flex": null,
            "flex_flow": null,
            "grid_area": null,
            "grid_auto_columns": null,
            "grid_auto_flow": null,
            "grid_auto_rows": null,
            "grid_column": null,
            "grid_gap": null,
            "grid_row": null,
            "grid_template_areas": null,
            "grid_template_columns": null,
            "grid_template_rows": null,
            "height": null,
            "justify_content": null,
            "justify_items": null,
            "left": null,
            "margin": null,
            "max_height": null,
            "max_width": null,
            "min_height": null,
            "min_width": null,
            "object_fit": null,
            "object_position": null,
            "order": null,
            "overflow": null,
            "overflow_x": null,
            "overflow_y": null,
            "padding": null,
            "right": null,
            "top": null,
            "visibility": null,
            "width": null
          }
        },
        "cc810ce238e74b879f286d201bd020c1": {
          "model_module": "@jupyter-widgets/controls",
          "model_name": "DescriptionStyleModel",
          "model_module_version": "1.5.0",
          "state": {
            "_model_module": "@jupyter-widgets/controls",
            "_model_module_version": "1.5.0",
            "_model_name": "DescriptionStyleModel",
            "_view_count": null,
            "_view_module": "@jupyter-widgets/base",
            "_view_module_version": "1.2.0",
            "_view_name": "StyleView",
            "description_width": ""
          }
        },
        "901de875ac1f4b6784f1d50e49c6462e": {
          "model_module": "@jupyter-widgets/base",
          "model_name": "LayoutModel",
          "model_module_version": "1.2.0",
          "state": {
            "_model_module": "@jupyter-widgets/base",
            "_model_module_version": "1.2.0",
            "_model_name": "LayoutModel",
            "_view_count": null,
            "_view_module": "@jupyter-widgets/base",
            "_view_module_version": "1.2.0",
            "_view_name": "LayoutView",
            "align_content": null,
            "align_items": null,
            "align_self": null,
            "border": null,
            "bottom": null,
            "display": null,
            "flex": null,
            "flex_flow": null,
            "grid_area": null,
            "grid_auto_columns": null,
            "grid_auto_flow": null,
            "grid_auto_rows": null,
            "grid_column": null,
            "grid_gap": null,
            "grid_row": null,
            "grid_template_areas": null,
            "grid_template_columns": null,
            "grid_template_rows": null,
            "height": null,
            "justify_content": null,
            "justify_items": null,
            "left": null,
            "margin": null,
            "max_height": null,
            "max_width": null,
            "min_height": null,
            "min_width": null,
            "object_fit": null,
            "object_position": null,
            "order": null,
            "overflow": null,
            "overflow_x": null,
            "overflow_y": null,
            "padding": null,
            "right": null,
            "top": null,
            "visibility": null,
            "width": null
          }
        },
        "d844dddc235344b8b915a7e032784fe5": {
          "model_module": "@jupyter-widgets/controls",
          "model_name": "DescriptionStyleModel",
          "model_module_version": "1.5.0",
          "state": {
            "_model_module": "@jupyter-widgets/controls",
            "_model_module_version": "1.5.0",
            "_model_name": "DescriptionStyleModel",
            "_view_count": null,
            "_view_module": "@jupyter-widgets/base",
            "_view_module_version": "1.2.0",
            "_view_name": "StyleView",
            "description_width": ""
          }
        },
        "8df8fddd1b124c22a5f9ba4178b1daea": {
          "model_module": "@jupyter-widgets/base",
          "model_name": "LayoutModel",
          "model_module_version": "1.2.0",
          "state": {
            "_model_module": "@jupyter-widgets/base",
            "_model_module_version": "1.2.0",
            "_model_name": "LayoutModel",
            "_view_count": null,
            "_view_module": "@jupyter-widgets/base",
            "_view_module_version": "1.2.0",
            "_view_name": "LayoutView",
            "align_content": null,
            "align_items": null,
            "align_self": null,
            "border": null,
            "bottom": null,
            "display": null,
            "flex": null,
            "flex_flow": null,
            "grid_area": null,
            "grid_auto_columns": null,
            "grid_auto_flow": null,
            "grid_auto_rows": null,
            "grid_column": null,
            "grid_gap": null,
            "grid_row": null,
            "grid_template_areas": null,
            "grid_template_columns": null,
            "grid_template_rows": null,
            "height": null,
            "justify_content": null,
            "justify_items": null,
            "left": null,
            "margin": null,
            "max_height": null,
            "max_width": null,
            "min_height": null,
            "min_width": null,
            "object_fit": null,
            "object_position": null,
            "order": null,
            "overflow": null,
            "overflow_x": null,
            "overflow_y": null,
            "padding": null,
            "right": null,
            "top": null,
            "visibility": null,
            "width": null
          }
        },
        "0fd65fefbe8a46779d442ecebf3c3047": {
          "model_module": "@jupyter-widgets/controls",
          "model_name": "ButtonStyleModel",
          "model_module_version": "1.5.0",
          "state": {
            "_model_module": "@jupyter-widgets/controls",
            "_model_module_version": "1.5.0",
            "_model_name": "ButtonStyleModel",
            "_view_count": null,
            "_view_module": "@jupyter-widgets/base",
            "_view_module_version": "1.2.0",
            "_view_name": "StyleView",
            "button_color": null,
            "font_weight": ""
          }
        },
        "aeb9362e5ef14998823bade62a6cf347": {
          "model_module": "@jupyter-widgets/base",
          "model_name": "LayoutModel",
          "model_module_version": "1.2.0",
          "state": {
            "_model_module": "@jupyter-widgets/base",
            "_model_module_version": "1.2.0",
            "_model_name": "LayoutModel",
            "_view_count": null,
            "_view_module": "@jupyter-widgets/base",
            "_view_module_version": "1.2.0",
            "_view_name": "LayoutView",
            "align_content": null,
            "align_items": null,
            "align_self": null,
            "border": null,
            "bottom": null,
            "display": null,
            "flex": null,
            "flex_flow": null,
            "grid_area": null,
            "grid_auto_columns": null,
            "grid_auto_flow": null,
            "grid_auto_rows": null,
            "grid_column": null,
            "grid_gap": null,
            "grid_row": null,
            "grid_template_areas": null,
            "grid_template_columns": null,
            "grid_template_rows": null,
            "height": null,
            "justify_content": null,
            "justify_items": null,
            "left": null,
            "margin": null,
            "max_height": null,
            "max_width": null,
            "min_height": null,
            "min_width": null,
            "object_fit": null,
            "object_position": null,
            "order": null,
            "overflow": null,
            "overflow_x": null,
            "overflow_y": null,
            "padding": null,
            "right": null,
            "top": null,
            "visibility": null,
            "width": null
          }
        },
        "4f716f2d3117426b976b27256943d17e": {
          "model_module": "@jupyter-widgets/controls",
          "model_name": "DescriptionStyleModel",
          "model_module_version": "1.5.0",
          "state": {
            "_model_module": "@jupyter-widgets/controls",
            "_model_module_version": "1.5.0",
            "_model_name": "DescriptionStyleModel",
            "_view_count": null,
            "_view_module": "@jupyter-widgets/base",
            "_view_module_version": "1.2.0",
            "_view_name": "StyleView",
            "description_width": ""
          }
        },
        "6f867176fc624578b3478f2aabd762a2": {
          "model_module": "@jupyter-widgets/controls",
          "model_name": "LabelModel",
          "model_module_version": "1.5.0",
          "state": {
            "_dom_classes": [],
            "_model_module": "@jupyter-widgets/controls",
            "_model_module_version": "1.5.0",
            "_model_name": "LabelModel",
            "_view_count": null,
            "_view_module": "@jupyter-widgets/controls",
            "_view_module_version": "1.5.0",
            "_view_name": "LabelView",
            "description": "",
            "description_tooltip": null,
            "layout": "IPY_MODEL_24751bdde0f646aba8a811a112a56f28",
            "placeholder": "​",
            "style": "IPY_MODEL_6952565774ca464a82829f22b2bfebad",
            "value": "Connecting..."
          }
        },
        "24751bdde0f646aba8a811a112a56f28": {
          "model_module": "@jupyter-widgets/base",
          "model_name": "LayoutModel",
          "model_module_version": "1.2.0",
          "state": {
            "_model_module": "@jupyter-widgets/base",
            "_model_module_version": "1.2.0",
            "_model_name": "LayoutModel",
            "_view_count": null,
            "_view_module": "@jupyter-widgets/base",
            "_view_module_version": "1.2.0",
            "_view_name": "LayoutView",
            "align_content": null,
            "align_items": null,
            "align_self": null,
            "border": null,
            "bottom": null,
            "display": null,
            "flex": null,
            "flex_flow": null,
            "grid_area": null,
            "grid_auto_columns": null,
            "grid_auto_flow": null,
            "grid_auto_rows": null,
            "grid_column": null,
            "grid_gap": null,
            "grid_row": null,
            "grid_template_areas": null,
            "grid_template_columns": null,
            "grid_template_rows": null,
            "height": null,
            "justify_content": null,
            "justify_items": null,
            "left": null,
            "margin": null,
            "max_height": null,
            "max_width": null,
            "min_height": null,
            "min_width": null,
            "object_fit": null,
            "object_position": null,
            "order": null,
            "overflow": null,
            "overflow_x": null,
            "overflow_y": null,
            "padding": null,
            "right": null,
            "top": null,
            "visibility": null,
            "width": null
          }
        },
        "6952565774ca464a82829f22b2bfebad": {
          "model_module": "@jupyter-widgets/controls",
          "model_name": "DescriptionStyleModel",
          "model_module_version": "1.5.0",
          "state": {
            "_model_module": "@jupyter-widgets/controls",
            "_model_module_version": "1.5.0",
            "_model_name": "DescriptionStyleModel",
            "_view_count": null,
            "_view_module": "@jupyter-widgets/base",
            "_view_module_version": "1.2.0",
            "_view_name": "StyleView",
            "description_width": ""
          }
        },
        "d4162166df59466ab42dac1f8821985d": {
          "model_module": "@jupyter-widgets/controls",
          "model_name": "HBoxModel",
          "model_module_version": "1.5.0",
          "state": {
            "_dom_classes": [],
            "_model_module": "@jupyter-widgets/controls",
            "_model_module_version": "1.5.0",
            "_model_name": "HBoxModel",
            "_view_count": null,
            "_view_module": "@jupyter-widgets/controls",
            "_view_module_version": "1.5.0",
            "_view_name": "HBoxView",
            "box_style": "",
            "children": [
              "IPY_MODEL_28a5193ed37d40d889be80a19ccfe0d5",
              "IPY_MODEL_006f54367c7a4359bf040de240788d7e",
              "IPY_MODEL_d86bf0d1d8254b5aa8d35892d6e5fe8b"
            ],
            "layout": "IPY_MODEL_b4bb6a26e0514f9bb1bb9f68c7a1591a"
          }
        },
        "28a5193ed37d40d889be80a19ccfe0d5": {
          "model_module": "@jupyter-widgets/controls",
          "model_name": "HTMLModel",
          "model_module_version": "1.5.0",
          "state": {
            "_dom_classes": [],
            "_model_module": "@jupyter-widgets/controls",
            "_model_module_version": "1.5.0",
            "_model_name": "HTMLModel",
            "_view_count": null,
            "_view_module": "@jupyter-widgets/controls",
            "_view_module_version": "1.5.0",
            "_view_name": "HTMLView",
            "description": "",
            "description_tooltip": null,
            "layout": "IPY_MODEL_eb864e3c216f4ec69eb79b4f476ec729",
            "placeholder": "​",
            "style": "IPY_MODEL_95958f71e43e46f29f9d30c3a206cf97",
            "value": "README.md: "
          }
        },
        "006f54367c7a4359bf040de240788d7e": {
          "model_module": "@jupyter-widgets/controls",
          "model_name": "FloatProgressModel",
          "model_module_version": "1.5.0",
          "state": {
            "_dom_classes": [],
            "_model_module": "@jupyter-widgets/controls",
            "_model_module_version": "1.5.0",
            "_model_name": "FloatProgressModel",
            "_view_count": null,
            "_view_module": "@jupyter-widgets/controls",
            "_view_module_version": "1.5.0",
            "_view_name": "ProgressView",
            "bar_style": "success",
            "description": "",
            "description_tooltip": null,
            "layout": "IPY_MODEL_d5318a1a6a8d4285b16ea1ab464b6ce6",
            "max": 1,
            "min": 0,
            "orientation": "horizontal",
            "style": "IPY_MODEL_f30594864cc648a181faad2f7bce2177",
            "value": 1
          }
        },
        "d86bf0d1d8254b5aa8d35892d6e5fe8b": {
          "model_module": "@jupyter-widgets/controls",
          "model_name": "HTMLModel",
          "model_module_version": "1.5.0",
          "state": {
            "_dom_classes": [],
            "_model_module": "@jupyter-widgets/controls",
            "_model_module_version": "1.5.0",
            "_model_name": "HTMLModel",
            "_view_count": null,
            "_view_module": "@jupyter-widgets/controls",
            "_view_module_version": "1.5.0",
            "_view_name": "HTMLView",
            "description": "",
            "description_tooltip": null,
            "layout": "IPY_MODEL_bb208a895da248ab85ae98554282aa03",
            "placeholder": "​",
            "style": "IPY_MODEL_27d340fc52ea42a89e6c10011ab98c9d",
            "value": " 1.82k/? [00:00&lt;00:00, 191kB/s]"
          }
        },
        "b4bb6a26e0514f9bb1bb9f68c7a1591a": {
          "model_module": "@jupyter-widgets/base",
          "model_name": "LayoutModel",
          "model_module_version": "1.2.0",
          "state": {
            "_model_module": "@jupyter-widgets/base",
            "_model_module_version": "1.2.0",
            "_model_name": "LayoutModel",
            "_view_count": null,
            "_view_module": "@jupyter-widgets/base",
            "_view_module_version": "1.2.0",
            "_view_name": "LayoutView",
            "align_content": null,
            "align_items": null,
            "align_self": null,
            "border": null,
            "bottom": null,
            "display": null,
            "flex": null,
            "flex_flow": null,
            "grid_area": null,
            "grid_auto_columns": null,
            "grid_auto_flow": null,
            "grid_auto_rows": null,
            "grid_column": null,
            "grid_gap": null,
            "grid_row": null,
            "grid_template_areas": null,
            "grid_template_columns": null,
            "grid_template_rows": null,
            "height": null,
            "justify_content": null,
            "justify_items": null,
            "left": null,
            "margin": null,
            "max_height": null,
            "max_width": null,
            "min_height": null,
            "min_width": null,
            "object_fit": null,
            "object_position": null,
            "order": null,
            "overflow": null,
            "overflow_x": null,
            "overflow_y": null,
            "padding": null,
            "right": null,
            "top": null,
            "visibility": null,
            "width": null
          }
        },
        "eb864e3c216f4ec69eb79b4f476ec729": {
          "model_module": "@jupyter-widgets/base",
          "model_name": "LayoutModel",
          "model_module_version": "1.2.0",
          "state": {
            "_model_module": "@jupyter-widgets/base",
            "_model_module_version": "1.2.0",
            "_model_name": "LayoutModel",
            "_view_count": null,
            "_view_module": "@jupyter-widgets/base",
            "_view_module_version": "1.2.0",
            "_view_name": "LayoutView",
            "align_content": null,
            "align_items": null,
            "align_self": null,
            "border": null,
            "bottom": null,
            "display": null,
            "flex": null,
            "flex_flow": null,
            "grid_area": null,
            "grid_auto_columns": null,
            "grid_auto_flow": null,
            "grid_auto_rows": null,
            "grid_column": null,
            "grid_gap": null,
            "grid_row": null,
            "grid_template_areas": null,
            "grid_template_columns": null,
            "grid_template_rows": null,
            "height": null,
            "justify_content": null,
            "justify_items": null,
            "left": null,
            "margin": null,
            "max_height": null,
            "max_width": null,
            "min_height": null,
            "min_width": null,
            "object_fit": null,
            "object_position": null,
            "order": null,
            "overflow": null,
            "overflow_x": null,
            "overflow_y": null,
            "padding": null,
            "right": null,
            "top": null,
            "visibility": null,
            "width": null
          }
        },
        "95958f71e43e46f29f9d30c3a206cf97": {
          "model_module": "@jupyter-widgets/controls",
          "model_name": "DescriptionStyleModel",
          "model_module_version": "1.5.0",
          "state": {
            "_model_module": "@jupyter-widgets/controls",
            "_model_module_version": "1.5.0",
            "_model_name": "DescriptionStyleModel",
            "_view_count": null,
            "_view_module": "@jupyter-widgets/base",
            "_view_module_version": "1.2.0",
            "_view_name": "StyleView",
            "description_width": ""
          }
        },
        "d5318a1a6a8d4285b16ea1ab464b6ce6": {
          "model_module": "@jupyter-widgets/base",
          "model_name": "LayoutModel",
          "model_module_version": "1.2.0",
          "state": {
            "_model_module": "@jupyter-widgets/base",
            "_model_module_version": "1.2.0",
            "_model_name": "LayoutModel",
            "_view_count": null,
            "_view_module": "@jupyter-widgets/base",
            "_view_module_version": "1.2.0",
            "_view_name": "LayoutView",
            "align_content": null,
            "align_items": null,
            "align_self": null,
            "border": null,
            "bottom": null,
            "display": null,
            "flex": null,
            "flex_flow": null,
            "grid_area": null,
            "grid_auto_columns": null,
            "grid_auto_flow": null,
            "grid_auto_rows": null,
            "grid_column": null,
            "grid_gap": null,
            "grid_row": null,
            "grid_template_areas": null,
            "grid_template_columns": null,
            "grid_template_rows": null,
            "height": null,
            "justify_content": null,
            "justify_items": null,
            "left": null,
            "margin": null,
            "max_height": null,
            "max_width": null,
            "min_height": null,
            "min_width": null,
            "object_fit": null,
            "object_position": null,
            "order": null,
            "overflow": null,
            "overflow_x": null,
            "overflow_y": null,
            "padding": null,
            "right": null,
            "top": null,
            "visibility": null,
            "width": "20px"
          }
        },
        "f30594864cc648a181faad2f7bce2177": {
          "model_module": "@jupyter-widgets/controls",
          "model_name": "ProgressStyleModel",
          "model_module_version": "1.5.0",
          "state": {
            "_model_module": "@jupyter-widgets/controls",
            "_model_module_version": "1.5.0",
            "_model_name": "ProgressStyleModel",
            "_view_count": null,
            "_view_module": "@jupyter-widgets/base",
            "_view_module_version": "1.2.0",
            "_view_name": "StyleView",
            "bar_color": null,
            "description_width": ""
          }
        },
        "bb208a895da248ab85ae98554282aa03": {
          "model_module": "@jupyter-widgets/base",
          "model_name": "LayoutModel",
          "model_module_version": "1.2.0",
          "state": {
            "_model_module": "@jupyter-widgets/base",
            "_model_module_version": "1.2.0",
            "_model_name": "LayoutModel",
            "_view_count": null,
            "_view_module": "@jupyter-widgets/base",
            "_view_module_version": "1.2.0",
            "_view_name": "LayoutView",
            "align_content": null,
            "align_items": null,
            "align_self": null,
            "border": null,
            "bottom": null,
            "display": null,
            "flex": null,
            "flex_flow": null,
            "grid_area": null,
            "grid_auto_columns": null,
            "grid_auto_flow": null,
            "grid_auto_rows": null,
            "grid_column": null,
            "grid_gap": null,
            "grid_row": null,
            "grid_template_areas": null,
            "grid_template_columns": null,
            "grid_template_rows": null,
            "height": null,
            "justify_content": null,
            "justify_items": null,
            "left": null,
            "margin": null,
            "max_height": null,
            "max_width": null,
            "min_height": null,
            "min_width": null,
            "object_fit": null,
            "object_position": null,
            "order": null,
            "overflow": null,
            "overflow_x": null,
            "overflow_y": null,
            "padding": null,
            "right": null,
            "top": null,
            "visibility": null,
            "width": null
          }
        },
        "27d340fc52ea42a89e6c10011ab98c9d": {
          "model_module": "@jupyter-widgets/controls",
          "model_name": "DescriptionStyleModel",
          "model_module_version": "1.5.0",
          "state": {
            "_model_module": "@jupyter-widgets/controls",
            "_model_module_version": "1.5.0",
            "_model_name": "DescriptionStyleModel",
            "_view_count": null,
            "_view_module": "@jupyter-widgets/base",
            "_view_module_version": "1.2.0",
            "_view_name": "StyleView",
            "description_width": ""
          }
        },
        "9236986749934194b96e0a4bf0a1f96d": {
          "model_module": "@jupyter-widgets/controls",
          "model_name": "HBoxModel",
          "model_module_version": "1.5.0",
          "state": {
            "_dom_classes": [],
            "_model_module": "@jupyter-widgets/controls",
            "_model_module_version": "1.5.0",
            "_model_name": "HBoxModel",
            "_view_count": null,
            "_view_module": "@jupyter-widgets/controls",
            "_view_module_version": "1.5.0",
            "_view_name": "HBoxView",
            "box_style": "",
            "children": [
              "IPY_MODEL_c9316e41e7ff46bea58288df5660c65c",
              "IPY_MODEL_e7dbcad2818b483ebb1ecca609c80639",
              "IPY_MODEL_ef5bbe27b42b49f2a4015b2f1b6e4f04"
            ],
            "layout": "IPY_MODEL_394695ec71f04d7d95e5dbd0d472e21e"
          }
        },
        "c9316e41e7ff46bea58288df5660c65c": {
          "model_module": "@jupyter-widgets/controls",
          "model_name": "HTMLModel",
          "model_module_version": "1.5.0",
          "state": {
            "_dom_classes": [],
            "_model_module": "@jupyter-widgets/controls",
            "_model_module_version": "1.5.0",
            "_model_name": "HTMLModel",
            "_view_count": null,
            "_view_module": "@jupyter-widgets/controls",
            "_view_module_version": "1.5.0",
            "_view_name": "HTMLView",
            "description": "",
            "description_tooltip": null,
            "layout": "IPY_MODEL_982a53864dc34448a368ad222144aaca",
            "placeholder": "​",
            "style": "IPY_MODEL_11a637bdd0eb43fda5b456a6a03e52e0",
            "value": "data/train-00000-of-00011-1bad7e0c80eec6(…): 100%"
          }
        },
        "e7dbcad2818b483ebb1ecca609c80639": {
          "model_module": "@jupyter-widgets/controls",
          "model_name": "FloatProgressModel",
          "model_module_version": "1.5.0",
          "state": {
            "_dom_classes": [],
            "_model_module": "@jupyter-widgets/controls",
            "_model_module_version": "1.5.0",
            "_model_name": "FloatProgressModel",
            "_view_count": null,
            "_view_module": "@jupyter-widgets/controls",
            "_view_module_version": "1.5.0",
            "_view_name": "ProgressView",
            "bar_style": "success",
            "description": "",
            "description_tooltip": null,
            "layout": "IPY_MODEL_4bb250dac1b24ce183339c36f4983748",
            "max": 276604826,
            "min": 0,
            "orientation": "horizontal",
            "style": "IPY_MODEL_f0afa9afd6c2400cabf1cd222b1f4822",
            "value": 276604826
          }
        },
        "ef5bbe27b42b49f2a4015b2f1b6e4f04": {
          "model_module": "@jupyter-widgets/controls",
          "model_name": "HTMLModel",
          "model_module_version": "1.5.0",
          "state": {
            "_dom_classes": [],
            "_model_module": "@jupyter-widgets/controls",
            "_model_module_version": "1.5.0",
            "_model_name": "HTMLModel",
            "_view_count": null,
            "_view_module": "@jupyter-widgets/controls",
            "_view_module_version": "1.5.0",
            "_view_name": "HTMLView",
            "description": "",
            "description_tooltip": null,
            "layout": "IPY_MODEL_31ed1f1dc54a45bdab20d0e1b3c170fc",
            "placeholder": "​",
            "style": "IPY_MODEL_31913f98ad4a4092a829c5e2e063960e",
            "value": " 277M/277M [00:05&lt;00:00, 51.5MB/s]"
          }
        },
        "394695ec71f04d7d95e5dbd0d472e21e": {
          "model_module": "@jupyter-widgets/base",
          "model_name": "LayoutModel",
          "model_module_version": "1.2.0",
          "state": {
            "_model_module": "@jupyter-widgets/base",
            "_model_module_version": "1.2.0",
            "_model_name": "LayoutModel",
            "_view_count": null,
            "_view_module": "@jupyter-widgets/base",
            "_view_module_version": "1.2.0",
            "_view_name": "LayoutView",
            "align_content": null,
            "align_items": null,
            "align_self": null,
            "border": null,
            "bottom": null,
            "display": null,
            "flex": null,
            "flex_flow": null,
            "grid_area": null,
            "grid_auto_columns": null,
            "grid_auto_flow": null,
            "grid_auto_rows": null,
            "grid_column": null,
            "grid_gap": null,
            "grid_row": null,
            "grid_template_areas": null,
            "grid_template_columns": null,
            "grid_template_rows": null,
            "height": null,
            "justify_content": null,
            "justify_items": null,
            "left": null,
            "margin": null,
            "max_height": null,
            "max_width": null,
            "min_height": null,
            "min_width": null,
            "object_fit": null,
            "object_position": null,
            "order": null,
            "overflow": null,
            "overflow_x": null,
            "overflow_y": null,
            "padding": null,
            "right": null,
            "top": null,
            "visibility": null,
            "width": null
          }
        },
        "982a53864dc34448a368ad222144aaca": {
          "model_module": "@jupyter-widgets/base",
          "model_name": "LayoutModel",
          "model_module_version": "1.2.0",
          "state": {
            "_model_module": "@jupyter-widgets/base",
            "_model_module_version": "1.2.0",
            "_model_name": "LayoutModel",
            "_view_count": null,
            "_view_module": "@jupyter-widgets/base",
            "_view_module_version": "1.2.0",
            "_view_name": "LayoutView",
            "align_content": null,
            "align_items": null,
            "align_self": null,
            "border": null,
            "bottom": null,
            "display": null,
            "flex": null,
            "flex_flow": null,
            "grid_area": null,
            "grid_auto_columns": null,
            "grid_auto_flow": null,
            "grid_auto_rows": null,
            "grid_column": null,
            "grid_gap": null,
            "grid_row": null,
            "grid_template_areas": null,
            "grid_template_columns": null,
            "grid_template_rows": null,
            "height": null,
            "justify_content": null,
            "justify_items": null,
            "left": null,
            "margin": null,
            "max_height": null,
            "max_width": null,
            "min_height": null,
            "min_width": null,
            "object_fit": null,
            "object_position": null,
            "order": null,
            "overflow": null,
            "overflow_x": null,
            "overflow_y": null,
            "padding": null,
            "right": null,
            "top": null,
            "visibility": null,
            "width": null
          }
        },
        "11a637bdd0eb43fda5b456a6a03e52e0": {
          "model_module": "@jupyter-widgets/controls",
          "model_name": "DescriptionStyleModel",
          "model_module_version": "1.5.0",
          "state": {
            "_model_module": "@jupyter-widgets/controls",
            "_model_module_version": "1.5.0",
            "_model_name": "DescriptionStyleModel",
            "_view_count": null,
            "_view_module": "@jupyter-widgets/base",
            "_view_module_version": "1.2.0",
            "_view_name": "StyleView",
            "description_width": ""
          }
        },
        "4bb250dac1b24ce183339c36f4983748": {
          "model_module": "@jupyter-widgets/base",
          "model_name": "LayoutModel",
          "model_module_version": "1.2.0",
          "state": {
            "_model_module": "@jupyter-widgets/base",
            "_model_module_version": "1.2.0",
            "_model_name": "LayoutModel",
            "_view_count": null,
            "_view_module": "@jupyter-widgets/base",
            "_view_module_version": "1.2.0",
            "_view_name": "LayoutView",
            "align_content": null,
            "align_items": null,
            "align_self": null,
            "border": null,
            "bottom": null,
            "display": null,
            "flex": null,
            "flex_flow": null,
            "grid_area": null,
            "grid_auto_columns": null,
            "grid_auto_flow": null,
            "grid_auto_rows": null,
            "grid_column": null,
            "grid_gap": null,
            "grid_row": null,
            "grid_template_areas": null,
            "grid_template_columns": null,
            "grid_template_rows": null,
            "height": null,
            "justify_content": null,
            "justify_items": null,
            "left": null,
            "margin": null,
            "max_height": null,
            "max_width": null,
            "min_height": null,
            "min_width": null,
            "object_fit": null,
            "object_position": null,
            "order": null,
            "overflow": null,
            "overflow_x": null,
            "overflow_y": null,
            "padding": null,
            "right": null,
            "top": null,
            "visibility": null,
            "width": null
          }
        },
        "f0afa9afd6c2400cabf1cd222b1f4822": {
          "model_module": "@jupyter-widgets/controls",
          "model_name": "ProgressStyleModel",
          "model_module_version": "1.5.0",
          "state": {
            "_model_module": "@jupyter-widgets/controls",
            "_model_module_version": "1.5.0",
            "_model_name": "ProgressStyleModel",
            "_view_count": null,
            "_view_module": "@jupyter-widgets/base",
            "_view_module_version": "1.2.0",
            "_view_name": "StyleView",
            "bar_color": null,
            "description_width": ""
          }
        },
        "31ed1f1dc54a45bdab20d0e1b3c170fc": {
          "model_module": "@jupyter-widgets/base",
          "model_name": "LayoutModel",
          "model_module_version": "1.2.0",
          "state": {
            "_model_module": "@jupyter-widgets/base",
            "_model_module_version": "1.2.0",
            "_model_name": "LayoutModel",
            "_view_count": null,
            "_view_module": "@jupyter-widgets/base",
            "_view_module_version": "1.2.0",
            "_view_name": "LayoutView",
            "align_content": null,
            "align_items": null,
            "align_self": null,
            "border": null,
            "bottom": null,
            "display": null,
            "flex": null,
            "flex_flow": null,
            "grid_area": null,
            "grid_auto_columns": null,
            "grid_auto_flow": null,
            "grid_auto_rows": null,
            "grid_column": null,
            "grid_gap": null,
            "grid_row": null,
            "grid_template_areas": null,
            "grid_template_columns": null,
            "grid_template_rows": null,
            "height": null,
            "justify_content": null,
            "justify_items": null,
            "left": null,
            "margin": null,
            "max_height": null,
            "max_width": null,
            "min_height": null,
            "min_width": null,
            "object_fit": null,
            "object_position": null,
            "order": null,
            "overflow": null,
            "overflow_x": null,
            "overflow_y": null,
            "padding": null,
            "right": null,
            "top": null,
            "visibility": null,
            "width": null
          }
        },
        "31913f98ad4a4092a829c5e2e063960e": {
          "model_module": "@jupyter-widgets/controls",
          "model_name": "DescriptionStyleModel",
          "model_module_version": "1.5.0",
          "state": {
            "_model_module": "@jupyter-widgets/controls",
            "_model_module_version": "1.5.0",
            "_model_name": "DescriptionStyleModel",
            "_view_count": null,
            "_view_module": "@jupyter-widgets/base",
            "_view_module_version": "1.2.0",
            "_view_name": "StyleView",
            "description_width": ""
          }
        },
        "b6c3de8c45894850a19843f1fbfcb9ed": {
          "model_module": "@jupyter-widgets/controls",
          "model_name": "HBoxModel",
          "model_module_version": "1.5.0",
          "state": {
            "_dom_classes": [],
            "_model_module": "@jupyter-widgets/controls",
            "_model_module_version": "1.5.0",
            "_model_name": "HBoxModel",
            "_view_count": null,
            "_view_module": "@jupyter-widgets/controls",
            "_view_module_version": "1.5.0",
            "_view_name": "HBoxView",
            "box_style": "",
            "children": [
              "IPY_MODEL_555826ec84e9419b9b8d9af138b8ea1f",
              "IPY_MODEL_4bf19f7725a74cf0b2a125f2e78dfcda",
              "IPY_MODEL_e8ea93d27b4c4aa780179e1bcf544baa"
            ],
            "layout": "IPY_MODEL_dd1d5cc30a5a4cb0bac5357caab38311"
          }
        },
        "555826ec84e9419b9b8d9af138b8ea1f": {
          "model_module": "@jupyter-widgets/controls",
          "model_name": "HTMLModel",
          "model_module_version": "1.5.0",
          "state": {
            "_dom_classes": [],
            "_model_module": "@jupyter-widgets/controls",
            "_model_module_version": "1.5.0",
            "_model_name": "HTMLModel",
            "_view_count": null,
            "_view_module": "@jupyter-widgets/controls",
            "_view_module_version": "1.5.0",
            "_view_name": "HTMLView",
            "description": "",
            "description_tooltip": null,
            "layout": "IPY_MODEL_dd3f927850014d33827de241a9112ada",
            "placeholder": "​",
            "style": "IPY_MODEL_de8b4d87ef554d82b3a5a89293ffb66c",
            "value": "data/train-00001-of-00011-6054fb3cdc4e32(…): 100%"
          }
        },
        "4bf19f7725a74cf0b2a125f2e78dfcda": {
          "model_module": "@jupyter-widgets/controls",
          "model_name": "FloatProgressModel",
          "model_module_version": "1.5.0",
          "state": {
            "_dom_classes": [],
            "_model_module": "@jupyter-widgets/controls",
            "_model_module_version": "1.5.0",
            "_model_name": "FloatProgressModel",
            "_view_count": null,
            "_view_module": "@jupyter-widgets/controls",
            "_view_module_version": "1.5.0",
            "_view_name": "ProgressView",
            "bar_style": "success",
            "description": "",
            "description_tooltip": null,
            "layout": "IPY_MODEL_15f4ec47e3af42219ba1334d2a6ea780",
            "max": 277033678,
            "min": 0,
            "orientation": "horizontal",
            "style": "IPY_MODEL_6ba43e8088eb4055bb233b7ea3138138",
            "value": 277033678
          }
        },
        "e8ea93d27b4c4aa780179e1bcf544baa": {
          "model_module": "@jupyter-widgets/controls",
          "model_name": "HTMLModel",
          "model_module_version": "1.5.0",
          "state": {
            "_dom_classes": [],
            "_model_module": "@jupyter-widgets/controls",
            "_model_module_version": "1.5.0",
            "_model_name": "HTMLModel",
            "_view_count": null,
            "_view_module": "@jupyter-widgets/controls",
            "_view_module_version": "1.5.0",
            "_view_name": "HTMLView",
            "description": "",
            "description_tooltip": null,
            "layout": "IPY_MODEL_0a1297f01edd43aa92bd822e6c37ed87",
            "placeholder": "​",
            "style": "IPY_MODEL_6167ba73d6094210bf3b269131702542",
            "value": " 277M/277M [00:05&lt;00:00, 72.0MB/s]"
          }
        },
        "dd1d5cc30a5a4cb0bac5357caab38311": {
          "model_module": "@jupyter-widgets/base",
          "model_name": "LayoutModel",
          "model_module_version": "1.2.0",
          "state": {
            "_model_module": "@jupyter-widgets/base",
            "_model_module_version": "1.2.0",
            "_model_name": "LayoutModel",
            "_view_count": null,
            "_view_module": "@jupyter-widgets/base",
            "_view_module_version": "1.2.0",
            "_view_name": "LayoutView",
            "align_content": null,
            "align_items": null,
            "align_self": null,
            "border": null,
            "bottom": null,
            "display": null,
            "flex": null,
            "flex_flow": null,
            "grid_area": null,
            "grid_auto_columns": null,
            "grid_auto_flow": null,
            "grid_auto_rows": null,
            "grid_column": null,
            "grid_gap": null,
            "grid_row": null,
            "grid_template_areas": null,
            "grid_template_columns": null,
            "grid_template_rows": null,
            "height": null,
            "justify_content": null,
            "justify_items": null,
            "left": null,
            "margin": null,
            "max_height": null,
            "max_width": null,
            "min_height": null,
            "min_width": null,
            "object_fit": null,
            "object_position": null,
            "order": null,
            "overflow": null,
            "overflow_x": null,
            "overflow_y": null,
            "padding": null,
            "right": null,
            "top": null,
            "visibility": null,
            "width": null
          }
        },
        "dd3f927850014d33827de241a9112ada": {
          "model_module": "@jupyter-widgets/base",
          "model_name": "LayoutModel",
          "model_module_version": "1.2.0",
          "state": {
            "_model_module": "@jupyter-widgets/base",
            "_model_module_version": "1.2.0",
            "_model_name": "LayoutModel",
            "_view_count": null,
            "_view_module": "@jupyter-widgets/base",
            "_view_module_version": "1.2.0",
            "_view_name": "LayoutView",
            "align_content": null,
            "align_items": null,
            "align_self": null,
            "border": null,
            "bottom": null,
            "display": null,
            "flex": null,
            "flex_flow": null,
            "grid_area": null,
            "grid_auto_columns": null,
            "grid_auto_flow": null,
            "grid_auto_rows": null,
            "grid_column": null,
            "grid_gap": null,
            "grid_row": null,
            "grid_template_areas": null,
            "grid_template_columns": null,
            "grid_template_rows": null,
            "height": null,
            "justify_content": null,
            "justify_items": null,
            "left": null,
            "margin": null,
            "max_height": null,
            "max_width": null,
            "min_height": null,
            "min_width": null,
            "object_fit": null,
            "object_position": null,
            "order": null,
            "overflow": null,
            "overflow_x": null,
            "overflow_y": null,
            "padding": null,
            "right": null,
            "top": null,
            "visibility": null,
            "width": null
          }
        },
        "de8b4d87ef554d82b3a5a89293ffb66c": {
          "model_module": "@jupyter-widgets/controls",
          "model_name": "DescriptionStyleModel",
          "model_module_version": "1.5.0",
          "state": {
            "_model_module": "@jupyter-widgets/controls",
            "_model_module_version": "1.5.0",
            "_model_name": "DescriptionStyleModel",
            "_view_count": null,
            "_view_module": "@jupyter-widgets/base",
            "_view_module_version": "1.2.0",
            "_view_name": "StyleView",
            "description_width": ""
          }
        },
        "15f4ec47e3af42219ba1334d2a6ea780": {
          "model_module": "@jupyter-widgets/base",
          "model_name": "LayoutModel",
          "model_module_version": "1.2.0",
          "state": {
            "_model_module": "@jupyter-widgets/base",
            "_model_module_version": "1.2.0",
            "_model_name": "LayoutModel",
            "_view_count": null,
            "_view_module": "@jupyter-widgets/base",
            "_view_module_version": "1.2.0",
            "_view_name": "LayoutView",
            "align_content": null,
            "align_items": null,
            "align_self": null,
            "border": null,
            "bottom": null,
            "display": null,
            "flex": null,
            "flex_flow": null,
            "grid_area": null,
            "grid_auto_columns": null,
            "grid_auto_flow": null,
            "grid_auto_rows": null,
            "grid_column": null,
            "grid_gap": null,
            "grid_row": null,
            "grid_template_areas": null,
            "grid_template_columns": null,
            "grid_template_rows": null,
            "height": null,
            "justify_content": null,
            "justify_items": null,
            "left": null,
            "margin": null,
            "max_height": null,
            "max_width": null,
            "min_height": null,
            "min_width": null,
            "object_fit": null,
            "object_position": null,
            "order": null,
            "overflow": null,
            "overflow_x": null,
            "overflow_y": null,
            "padding": null,
            "right": null,
            "top": null,
            "visibility": null,
            "width": null
          }
        },
        "6ba43e8088eb4055bb233b7ea3138138": {
          "model_module": "@jupyter-widgets/controls",
          "model_name": "ProgressStyleModel",
          "model_module_version": "1.5.0",
          "state": {
            "_model_module": "@jupyter-widgets/controls",
            "_model_module_version": "1.5.0",
            "_model_name": "ProgressStyleModel",
            "_view_count": null,
            "_view_module": "@jupyter-widgets/base",
            "_view_module_version": "1.2.0",
            "_view_name": "StyleView",
            "bar_color": null,
            "description_width": ""
          }
        },
        "0a1297f01edd43aa92bd822e6c37ed87": {
          "model_module": "@jupyter-widgets/base",
          "model_name": "LayoutModel",
          "model_module_version": "1.2.0",
          "state": {
            "_model_module": "@jupyter-widgets/base",
            "_model_module_version": "1.2.0",
            "_model_name": "LayoutModel",
            "_view_count": null,
            "_view_module": "@jupyter-widgets/base",
            "_view_module_version": "1.2.0",
            "_view_name": "LayoutView",
            "align_content": null,
            "align_items": null,
            "align_self": null,
            "border": null,
            "bottom": null,
            "display": null,
            "flex": null,
            "flex_flow": null,
            "grid_area": null,
            "grid_auto_columns": null,
            "grid_auto_flow": null,
            "grid_auto_rows": null,
            "grid_column": null,
            "grid_gap": null,
            "grid_row": null,
            "grid_template_areas": null,
            "grid_template_columns": null,
            "grid_template_rows": null,
            "height": null,
            "justify_content": null,
            "justify_items": null,
            "left": null,
            "margin": null,
            "max_height": null,
            "max_width": null,
            "min_height": null,
            "min_width": null,
            "object_fit": null,
            "object_position": null,
            "order": null,
            "overflow": null,
            "overflow_x": null,
            "overflow_y": null,
            "padding": null,
            "right": null,
            "top": null,
            "visibility": null,
            "width": null
          }
        },
        "6167ba73d6094210bf3b269131702542": {
          "model_module": "@jupyter-widgets/controls",
          "model_name": "DescriptionStyleModel",
          "model_module_version": "1.5.0",
          "state": {
            "_model_module": "@jupyter-widgets/controls",
            "_model_module_version": "1.5.0",
            "_model_name": "DescriptionStyleModel",
            "_view_count": null,
            "_view_module": "@jupyter-widgets/base",
            "_view_module_version": "1.2.0",
            "_view_name": "StyleView",
            "description_width": ""
          }
        },
        "63c80b91238b4500a014e083367259b4": {
          "model_module": "@jupyter-widgets/controls",
          "model_name": "HBoxModel",
          "model_module_version": "1.5.0",
          "state": {
            "_dom_classes": [],
            "_model_module": "@jupyter-widgets/controls",
            "_model_module_version": "1.5.0",
            "_model_name": "HBoxModel",
            "_view_count": null,
            "_view_module": "@jupyter-widgets/controls",
            "_view_module_version": "1.5.0",
            "_view_name": "HBoxView",
            "box_style": "",
            "children": [
              "IPY_MODEL_6bccc7363420458dbd6f85249c6790b4",
              "IPY_MODEL_d73d2a6f378045c2bcf561bc5b160f71",
              "IPY_MODEL_0a6e8ed3ea86406c899dfd88993ea9ee"
            ],
            "layout": "IPY_MODEL_02bdf912852a424f81e04729871884f1"
          }
        },
        "6bccc7363420458dbd6f85249c6790b4": {
          "model_module": "@jupyter-widgets/controls",
          "model_name": "HTMLModel",
          "model_module_version": "1.5.0",
          "state": {
            "_dom_classes": [],
            "_model_module": "@jupyter-widgets/controls",
            "_model_module_version": "1.5.0",
            "_model_name": "HTMLModel",
            "_view_count": null,
            "_view_module": "@jupyter-widgets/controls",
            "_view_module_version": "1.5.0",
            "_view_name": "HTMLView",
            "description": "",
            "description_tooltip": null,
            "layout": "IPY_MODEL_db51ea27e53a45e38f7b943553e62888",
            "placeholder": "​",
            "style": "IPY_MODEL_0596b4b96b704b629e528697817c01a1",
            "value": "data/train-00002-of-00011-a127d6ce69a897(…): 100%"
          }
        },
        "d73d2a6f378045c2bcf561bc5b160f71": {
          "model_module": "@jupyter-widgets/controls",
          "model_name": "FloatProgressModel",
          "model_module_version": "1.5.0",
          "state": {
            "_dom_classes": [],
            "_model_module": "@jupyter-widgets/controls",
            "_model_module_version": "1.5.0",
            "_model_name": "FloatProgressModel",
            "_view_count": null,
            "_view_module": "@jupyter-widgets/controls",
            "_view_module_version": "1.5.0",
            "_view_name": "ProgressView",
            "bar_style": "success",
            "description": "",
            "description_tooltip": null,
            "layout": "IPY_MODEL_9af644969c9e4617a885f99dbbabc73f",
            "max": 276689126,
            "min": 0,
            "orientation": "horizontal",
            "style": "IPY_MODEL_c3646dabadd74fb7bb33ae9f561bb59d",
            "value": 276689126
          }
        },
        "0a6e8ed3ea86406c899dfd88993ea9ee": {
          "model_module": "@jupyter-widgets/controls",
          "model_name": "HTMLModel",
          "model_module_version": "1.5.0",
          "state": {
            "_dom_classes": [],
            "_model_module": "@jupyter-widgets/controls",
            "_model_module_version": "1.5.0",
            "_model_name": "HTMLModel",
            "_view_count": null,
            "_view_module": "@jupyter-widgets/controls",
            "_view_module_version": "1.5.0",
            "_view_name": "HTMLView",
            "description": "",
            "description_tooltip": null,
            "layout": "IPY_MODEL_6d204ae4a2044794a8bf4d8c9fc2ee3e",
            "placeholder": "​",
            "style": "IPY_MODEL_1f734d424a9d423bbe8b8e6cec6487ee",
            "value": " 277M/277M [00:08&lt;00:00, 45.1MB/s]"
          }
        },
        "02bdf912852a424f81e04729871884f1": {
          "model_module": "@jupyter-widgets/base",
          "model_name": "LayoutModel",
          "model_module_version": "1.2.0",
          "state": {
            "_model_module": "@jupyter-widgets/base",
            "_model_module_version": "1.2.0",
            "_model_name": "LayoutModel",
            "_view_count": null,
            "_view_module": "@jupyter-widgets/base",
            "_view_module_version": "1.2.0",
            "_view_name": "LayoutView",
            "align_content": null,
            "align_items": null,
            "align_self": null,
            "border": null,
            "bottom": null,
            "display": null,
            "flex": null,
            "flex_flow": null,
            "grid_area": null,
            "grid_auto_columns": null,
            "grid_auto_flow": null,
            "grid_auto_rows": null,
            "grid_column": null,
            "grid_gap": null,
            "grid_row": null,
            "grid_template_areas": null,
            "grid_template_columns": null,
            "grid_template_rows": null,
            "height": null,
            "justify_content": null,
            "justify_items": null,
            "left": null,
            "margin": null,
            "max_height": null,
            "max_width": null,
            "min_height": null,
            "min_width": null,
            "object_fit": null,
            "object_position": null,
            "order": null,
            "overflow": null,
            "overflow_x": null,
            "overflow_y": null,
            "padding": null,
            "right": null,
            "top": null,
            "visibility": null,
            "width": null
          }
        },
        "db51ea27e53a45e38f7b943553e62888": {
          "model_module": "@jupyter-widgets/base",
          "model_name": "LayoutModel",
          "model_module_version": "1.2.0",
          "state": {
            "_model_module": "@jupyter-widgets/base",
            "_model_module_version": "1.2.0",
            "_model_name": "LayoutModel",
            "_view_count": null,
            "_view_module": "@jupyter-widgets/base",
            "_view_module_version": "1.2.0",
            "_view_name": "LayoutView",
            "align_content": null,
            "align_items": null,
            "align_self": null,
            "border": null,
            "bottom": null,
            "display": null,
            "flex": null,
            "flex_flow": null,
            "grid_area": null,
            "grid_auto_columns": null,
            "grid_auto_flow": null,
            "grid_auto_rows": null,
            "grid_column": null,
            "grid_gap": null,
            "grid_row": null,
            "grid_template_areas": null,
            "grid_template_columns": null,
            "grid_template_rows": null,
            "height": null,
            "justify_content": null,
            "justify_items": null,
            "left": null,
            "margin": null,
            "max_height": null,
            "max_width": null,
            "min_height": null,
            "min_width": null,
            "object_fit": null,
            "object_position": null,
            "order": null,
            "overflow": null,
            "overflow_x": null,
            "overflow_y": null,
            "padding": null,
            "right": null,
            "top": null,
            "visibility": null,
            "width": null
          }
        },
        "0596b4b96b704b629e528697817c01a1": {
          "model_module": "@jupyter-widgets/controls",
          "model_name": "DescriptionStyleModel",
          "model_module_version": "1.5.0",
          "state": {
            "_model_module": "@jupyter-widgets/controls",
            "_model_module_version": "1.5.0",
            "_model_name": "DescriptionStyleModel",
            "_view_count": null,
            "_view_module": "@jupyter-widgets/base",
            "_view_module_version": "1.2.0",
            "_view_name": "StyleView",
            "description_width": ""
          }
        },
        "9af644969c9e4617a885f99dbbabc73f": {
          "model_module": "@jupyter-widgets/base",
          "model_name": "LayoutModel",
          "model_module_version": "1.2.0",
          "state": {
            "_model_module": "@jupyter-widgets/base",
            "_model_module_version": "1.2.0",
            "_model_name": "LayoutModel",
            "_view_count": null,
            "_view_module": "@jupyter-widgets/base",
            "_view_module_version": "1.2.0",
            "_view_name": "LayoutView",
            "align_content": null,
            "align_items": null,
            "align_self": null,
            "border": null,
            "bottom": null,
            "display": null,
            "flex": null,
            "flex_flow": null,
            "grid_area": null,
            "grid_auto_columns": null,
            "grid_auto_flow": null,
            "grid_auto_rows": null,
            "grid_column": null,
            "grid_gap": null,
            "grid_row": null,
            "grid_template_areas": null,
            "grid_template_columns": null,
            "grid_template_rows": null,
            "height": null,
            "justify_content": null,
            "justify_items": null,
            "left": null,
            "margin": null,
            "max_height": null,
            "max_width": null,
            "min_height": null,
            "min_width": null,
            "object_fit": null,
            "object_position": null,
            "order": null,
            "overflow": null,
            "overflow_x": null,
            "overflow_y": null,
            "padding": null,
            "right": null,
            "top": null,
            "visibility": null,
            "width": null
          }
        },
        "c3646dabadd74fb7bb33ae9f561bb59d": {
          "model_module": "@jupyter-widgets/controls",
          "model_name": "ProgressStyleModel",
          "model_module_version": "1.5.0",
          "state": {
            "_model_module": "@jupyter-widgets/controls",
            "_model_module_version": "1.5.0",
            "_model_name": "ProgressStyleModel",
            "_view_count": null,
            "_view_module": "@jupyter-widgets/base",
            "_view_module_version": "1.2.0",
            "_view_name": "StyleView",
            "bar_color": null,
            "description_width": ""
          }
        },
        "6d204ae4a2044794a8bf4d8c9fc2ee3e": {
          "model_module": "@jupyter-widgets/base",
          "model_name": "LayoutModel",
          "model_module_version": "1.2.0",
          "state": {
            "_model_module": "@jupyter-widgets/base",
            "_model_module_version": "1.2.0",
            "_model_name": "LayoutModel",
            "_view_count": null,
            "_view_module": "@jupyter-widgets/base",
            "_view_module_version": "1.2.0",
            "_view_name": "LayoutView",
            "align_content": null,
            "align_items": null,
            "align_self": null,
            "border": null,
            "bottom": null,
            "display": null,
            "flex": null,
            "flex_flow": null,
            "grid_area": null,
            "grid_auto_columns": null,
            "grid_auto_flow": null,
            "grid_auto_rows": null,
            "grid_column": null,
            "grid_gap": null,
            "grid_row": null,
            "grid_template_areas": null,
            "grid_template_columns": null,
            "grid_template_rows": null,
            "height": null,
            "justify_content": null,
            "justify_items": null,
            "left": null,
            "margin": null,
            "max_height": null,
            "max_width": null,
            "min_height": null,
            "min_width": null,
            "object_fit": null,
            "object_position": null,
            "order": null,
            "overflow": null,
            "overflow_x": null,
            "overflow_y": null,
            "padding": null,
            "right": null,
            "top": null,
            "visibility": null,
            "width": null
          }
        },
        "1f734d424a9d423bbe8b8e6cec6487ee": {
          "model_module": "@jupyter-widgets/controls",
          "model_name": "DescriptionStyleModel",
          "model_module_version": "1.5.0",
          "state": {
            "_model_module": "@jupyter-widgets/controls",
            "_model_module_version": "1.5.0",
            "_model_name": "DescriptionStyleModel",
            "_view_count": null,
            "_view_module": "@jupyter-widgets/base",
            "_view_module_version": "1.2.0",
            "_view_name": "StyleView",
            "description_width": ""
          }
        },
        "5ba014bbc2884794826b3e1c596e4939": {
          "model_module": "@jupyter-widgets/controls",
          "model_name": "HBoxModel",
          "model_module_version": "1.5.0",
          "state": {
            "_dom_classes": [],
            "_model_module": "@jupyter-widgets/controls",
            "_model_module_version": "1.5.0",
            "_model_name": "HBoxModel",
            "_view_count": null,
            "_view_module": "@jupyter-widgets/controls",
            "_view_module_version": "1.5.0",
            "_view_name": "HBoxView",
            "box_style": "",
            "children": [
              "IPY_MODEL_82f55f124f97414db5226cc1ca5199e1",
              "IPY_MODEL_da2cb88ef2064b458575c136e9d79c5d",
              "IPY_MODEL_8b338ab8f62e4748865be754e33299a4"
            ],
            "layout": "IPY_MODEL_83a4144dd1e14077a7a5bf261d13ece3"
          }
        },
        "82f55f124f97414db5226cc1ca5199e1": {
          "model_module": "@jupyter-widgets/controls",
          "model_name": "HTMLModel",
          "model_module_version": "1.5.0",
          "state": {
            "_dom_classes": [],
            "_model_module": "@jupyter-widgets/controls",
            "_model_module_version": "1.5.0",
            "_model_name": "HTMLModel",
            "_view_count": null,
            "_view_module": "@jupyter-widgets/controls",
            "_view_module_version": "1.5.0",
            "_view_name": "HTMLView",
            "description": "",
            "description_tooltip": null,
            "layout": "IPY_MODEL_d6a585b589a4458087a6eb5b7f4fccba",
            "placeholder": "​",
            "style": "IPY_MODEL_cb97e5b412b44f2b924cc7572e5ce640",
            "value": "data/train-00003-of-00011-21f909d3674ae6(…): 100%"
          }
        },
        "da2cb88ef2064b458575c136e9d79c5d": {
          "model_module": "@jupyter-widgets/controls",
          "model_name": "FloatProgressModel",
          "model_module_version": "1.5.0",
          "state": {
            "_dom_classes": [],
            "_model_module": "@jupyter-widgets/controls",
            "_model_module_version": "1.5.0",
            "_model_name": "FloatProgressModel",
            "_view_count": null,
            "_view_module": "@jupyter-widgets/controls",
            "_view_module_version": "1.5.0",
            "_view_name": "ProgressView",
            "bar_style": "success",
            "description": "",
            "description_tooltip": null,
            "layout": "IPY_MODEL_f80eaecf0fc545e883d451aee58e590c",
            "max": 276614403,
            "min": 0,
            "orientation": "horizontal",
            "style": "IPY_MODEL_0c9b387e73e845c8bdfb9aa45a2516f7",
            "value": 276614403
          }
        },
        "8b338ab8f62e4748865be754e33299a4": {
          "model_module": "@jupyter-widgets/controls",
          "model_name": "HTMLModel",
          "model_module_version": "1.5.0",
          "state": {
            "_dom_classes": [],
            "_model_module": "@jupyter-widgets/controls",
            "_model_module_version": "1.5.0",
            "_model_name": "HTMLModel",
            "_view_count": null,
            "_view_module": "@jupyter-widgets/controls",
            "_view_module_version": "1.5.0",
            "_view_name": "HTMLView",
            "description": "",
            "description_tooltip": null,
            "layout": "IPY_MODEL_bbb3970baa8c43d2b68edccb648d63a1",
            "placeholder": "​",
            "style": "IPY_MODEL_f986ee571cb846a4ba6fca8708e1d363",
            "value": " 277M/277M [00:05&lt;00:00, 63.4MB/s]"
          }
        },
        "83a4144dd1e14077a7a5bf261d13ece3": {
          "model_module": "@jupyter-widgets/base",
          "model_name": "LayoutModel",
          "model_module_version": "1.2.0",
          "state": {
            "_model_module": "@jupyter-widgets/base",
            "_model_module_version": "1.2.0",
            "_model_name": "LayoutModel",
            "_view_count": null,
            "_view_module": "@jupyter-widgets/base",
            "_view_module_version": "1.2.0",
            "_view_name": "LayoutView",
            "align_content": null,
            "align_items": null,
            "align_self": null,
            "border": null,
            "bottom": null,
            "display": null,
            "flex": null,
            "flex_flow": null,
            "grid_area": null,
            "grid_auto_columns": null,
            "grid_auto_flow": null,
            "grid_auto_rows": null,
            "grid_column": null,
            "grid_gap": null,
            "grid_row": null,
            "grid_template_areas": null,
            "grid_template_columns": null,
            "grid_template_rows": null,
            "height": null,
            "justify_content": null,
            "justify_items": null,
            "left": null,
            "margin": null,
            "max_height": null,
            "max_width": null,
            "min_height": null,
            "min_width": null,
            "object_fit": null,
            "object_position": null,
            "order": null,
            "overflow": null,
            "overflow_x": null,
            "overflow_y": null,
            "padding": null,
            "right": null,
            "top": null,
            "visibility": null,
            "width": null
          }
        },
        "d6a585b589a4458087a6eb5b7f4fccba": {
          "model_module": "@jupyter-widgets/base",
          "model_name": "LayoutModel",
          "model_module_version": "1.2.0",
          "state": {
            "_model_module": "@jupyter-widgets/base",
            "_model_module_version": "1.2.0",
            "_model_name": "LayoutModel",
            "_view_count": null,
            "_view_module": "@jupyter-widgets/base",
            "_view_module_version": "1.2.0",
            "_view_name": "LayoutView",
            "align_content": null,
            "align_items": null,
            "align_self": null,
            "border": null,
            "bottom": null,
            "display": null,
            "flex": null,
            "flex_flow": null,
            "grid_area": null,
            "grid_auto_columns": null,
            "grid_auto_flow": null,
            "grid_auto_rows": null,
            "grid_column": null,
            "grid_gap": null,
            "grid_row": null,
            "grid_template_areas": null,
            "grid_template_columns": null,
            "grid_template_rows": null,
            "height": null,
            "justify_content": null,
            "justify_items": null,
            "left": null,
            "margin": null,
            "max_height": null,
            "max_width": null,
            "min_height": null,
            "min_width": null,
            "object_fit": null,
            "object_position": null,
            "order": null,
            "overflow": null,
            "overflow_x": null,
            "overflow_y": null,
            "padding": null,
            "right": null,
            "top": null,
            "visibility": null,
            "width": null
          }
        },
        "cb97e5b412b44f2b924cc7572e5ce640": {
          "model_module": "@jupyter-widgets/controls",
          "model_name": "DescriptionStyleModel",
          "model_module_version": "1.5.0",
          "state": {
            "_model_module": "@jupyter-widgets/controls",
            "_model_module_version": "1.5.0",
            "_model_name": "DescriptionStyleModel",
            "_view_count": null,
            "_view_module": "@jupyter-widgets/base",
            "_view_module_version": "1.2.0",
            "_view_name": "StyleView",
            "description_width": ""
          }
        },
        "f80eaecf0fc545e883d451aee58e590c": {
          "model_module": "@jupyter-widgets/base",
          "model_name": "LayoutModel",
          "model_module_version": "1.2.0",
          "state": {
            "_model_module": "@jupyter-widgets/base",
            "_model_module_version": "1.2.0",
            "_model_name": "LayoutModel",
            "_view_count": null,
            "_view_module": "@jupyter-widgets/base",
            "_view_module_version": "1.2.0",
            "_view_name": "LayoutView",
            "align_content": null,
            "align_items": null,
            "align_self": null,
            "border": null,
            "bottom": null,
            "display": null,
            "flex": null,
            "flex_flow": null,
            "grid_area": null,
            "grid_auto_columns": null,
            "grid_auto_flow": null,
            "grid_auto_rows": null,
            "grid_column": null,
            "grid_gap": null,
            "grid_row": null,
            "grid_template_areas": null,
            "grid_template_columns": null,
            "grid_template_rows": null,
            "height": null,
            "justify_content": null,
            "justify_items": null,
            "left": null,
            "margin": null,
            "max_height": null,
            "max_width": null,
            "min_height": null,
            "min_width": null,
            "object_fit": null,
            "object_position": null,
            "order": null,
            "overflow": null,
            "overflow_x": null,
            "overflow_y": null,
            "padding": null,
            "right": null,
            "top": null,
            "visibility": null,
            "width": null
          }
        },
        "0c9b387e73e845c8bdfb9aa45a2516f7": {
          "model_module": "@jupyter-widgets/controls",
          "model_name": "ProgressStyleModel",
          "model_module_version": "1.5.0",
          "state": {
            "_model_module": "@jupyter-widgets/controls",
            "_model_module_version": "1.5.0",
            "_model_name": "ProgressStyleModel",
            "_view_count": null,
            "_view_module": "@jupyter-widgets/base",
            "_view_module_version": "1.2.0",
            "_view_name": "StyleView",
            "bar_color": null,
            "description_width": ""
          }
        },
        "bbb3970baa8c43d2b68edccb648d63a1": {
          "model_module": "@jupyter-widgets/base",
          "model_name": "LayoutModel",
          "model_module_version": "1.2.0",
          "state": {
            "_model_module": "@jupyter-widgets/base",
            "_model_module_version": "1.2.0",
            "_model_name": "LayoutModel",
            "_view_count": null,
            "_view_module": "@jupyter-widgets/base",
            "_view_module_version": "1.2.0",
            "_view_name": "LayoutView",
            "align_content": null,
            "align_items": null,
            "align_self": null,
            "border": null,
            "bottom": null,
            "display": null,
            "flex": null,
            "flex_flow": null,
            "grid_area": null,
            "grid_auto_columns": null,
            "grid_auto_flow": null,
            "grid_auto_rows": null,
            "grid_column": null,
            "grid_gap": null,
            "grid_row": null,
            "grid_template_areas": null,
            "grid_template_columns": null,
            "grid_template_rows": null,
            "height": null,
            "justify_content": null,
            "justify_items": null,
            "left": null,
            "margin": null,
            "max_height": null,
            "max_width": null,
            "min_height": null,
            "min_width": null,
            "object_fit": null,
            "object_position": null,
            "order": null,
            "overflow": null,
            "overflow_x": null,
            "overflow_y": null,
            "padding": null,
            "right": null,
            "top": null,
            "visibility": null,
            "width": null
          }
        },
        "f986ee571cb846a4ba6fca8708e1d363": {
          "model_module": "@jupyter-widgets/controls",
          "model_name": "DescriptionStyleModel",
          "model_module_version": "1.5.0",
          "state": {
            "_model_module": "@jupyter-widgets/controls",
            "_model_module_version": "1.5.0",
            "_model_name": "DescriptionStyleModel",
            "_view_count": null,
            "_view_module": "@jupyter-widgets/base",
            "_view_module_version": "1.2.0",
            "_view_name": "StyleView",
            "description_width": ""
          }
        },
        "d3edc718eaf14968907e673ffeac372d": {
          "model_module": "@jupyter-widgets/controls",
          "model_name": "HBoxModel",
          "model_module_version": "1.5.0",
          "state": {
            "_dom_classes": [],
            "_model_module": "@jupyter-widgets/controls",
            "_model_module_version": "1.5.0",
            "_model_name": "HBoxModel",
            "_view_count": null,
            "_view_module": "@jupyter-widgets/controls",
            "_view_module_version": "1.5.0",
            "_view_name": "HBoxView",
            "box_style": "",
            "children": [
              "IPY_MODEL_6c6655e4ac87469fac01c0fe1a9a386c",
              "IPY_MODEL_db1988cca2eb42c29b8b20e0e6bde3e5",
              "IPY_MODEL_1ddd076d57f04ed48fc05bb3590d64f5"
            ],
            "layout": "IPY_MODEL_a440fa2b0f29432aac6a7209651e2f4b"
          }
        },
        "6c6655e4ac87469fac01c0fe1a9a386c": {
          "model_module": "@jupyter-widgets/controls",
          "model_name": "HTMLModel",
          "model_module_version": "1.5.0",
          "state": {
            "_dom_classes": [],
            "_model_module": "@jupyter-widgets/controls",
            "_model_module_version": "1.5.0",
            "_model_name": "HTMLModel",
            "_view_count": null,
            "_view_module": "@jupyter-widgets/controls",
            "_view_module_version": "1.5.0",
            "_view_name": "HTMLView",
            "description": "",
            "description_tooltip": null,
            "layout": "IPY_MODEL_014dcc3969c64a9095e868efe99493e1",
            "placeholder": "​",
            "style": "IPY_MODEL_ee76f3e9887f4513850292c64b8e17d4",
            "value": "data/train-00004-of-00011-a1f39061ea377e(…): 100%"
          }
        },
        "db1988cca2eb42c29b8b20e0e6bde3e5": {
          "model_module": "@jupyter-widgets/controls",
          "model_name": "FloatProgressModel",
          "model_module_version": "1.5.0",
          "state": {
            "_dom_classes": [],
            "_model_module": "@jupyter-widgets/controls",
            "_model_module_version": "1.5.0",
            "_model_name": "FloatProgressModel",
            "_view_count": null,
            "_view_module": "@jupyter-widgets/controls",
            "_view_module_version": "1.5.0",
            "_view_name": "ProgressView",
            "bar_style": "success",
            "description": "",
            "description_tooltip": null,
            "layout": "IPY_MODEL_bf5115e16ebe4b21bf6a11c52f90690b",
            "max": 277314935,
            "min": 0,
            "orientation": "horizontal",
            "style": "IPY_MODEL_c44f5d73c3134349a1792e7012e3881c",
            "value": 277314935
          }
        },
        "1ddd076d57f04ed48fc05bb3590d64f5": {
          "model_module": "@jupyter-widgets/controls",
          "model_name": "HTMLModel",
          "model_module_version": "1.5.0",
          "state": {
            "_dom_classes": [],
            "_model_module": "@jupyter-widgets/controls",
            "_model_module_version": "1.5.0",
            "_model_name": "HTMLModel",
            "_view_count": null,
            "_view_module": "@jupyter-widgets/controls",
            "_view_module_version": "1.5.0",
            "_view_name": "HTMLView",
            "description": "",
            "description_tooltip": null,
            "layout": "IPY_MODEL_bda758ffd7644122a325e151ba2003bf",
            "placeholder": "​",
            "style": "IPY_MODEL_22c1c2bc2e2848b7b0ae80df8282bd1a",
            "value": " 277M/277M [00:05&lt;00:00, 38.2MB/s]"
          }
        },
        "a440fa2b0f29432aac6a7209651e2f4b": {
          "model_module": "@jupyter-widgets/base",
          "model_name": "LayoutModel",
          "model_module_version": "1.2.0",
          "state": {
            "_model_module": "@jupyter-widgets/base",
            "_model_module_version": "1.2.0",
            "_model_name": "LayoutModel",
            "_view_count": null,
            "_view_module": "@jupyter-widgets/base",
            "_view_module_version": "1.2.0",
            "_view_name": "LayoutView",
            "align_content": null,
            "align_items": null,
            "align_self": null,
            "border": null,
            "bottom": null,
            "display": null,
            "flex": null,
            "flex_flow": null,
            "grid_area": null,
            "grid_auto_columns": null,
            "grid_auto_flow": null,
            "grid_auto_rows": null,
            "grid_column": null,
            "grid_gap": null,
            "grid_row": null,
            "grid_template_areas": null,
            "grid_template_columns": null,
            "grid_template_rows": null,
            "height": null,
            "justify_content": null,
            "justify_items": null,
            "left": null,
            "margin": null,
            "max_height": null,
            "max_width": null,
            "min_height": null,
            "min_width": null,
            "object_fit": null,
            "object_position": null,
            "order": null,
            "overflow": null,
            "overflow_x": null,
            "overflow_y": null,
            "padding": null,
            "right": null,
            "top": null,
            "visibility": null,
            "width": null
          }
        },
        "014dcc3969c64a9095e868efe99493e1": {
          "model_module": "@jupyter-widgets/base",
          "model_name": "LayoutModel",
          "model_module_version": "1.2.0",
          "state": {
            "_model_module": "@jupyter-widgets/base",
            "_model_module_version": "1.2.0",
            "_model_name": "LayoutModel",
            "_view_count": null,
            "_view_module": "@jupyter-widgets/base",
            "_view_module_version": "1.2.0",
            "_view_name": "LayoutView",
            "align_content": null,
            "align_items": null,
            "align_self": null,
            "border": null,
            "bottom": null,
            "display": null,
            "flex": null,
            "flex_flow": null,
            "grid_area": null,
            "grid_auto_columns": null,
            "grid_auto_flow": null,
            "grid_auto_rows": null,
            "grid_column": null,
            "grid_gap": null,
            "grid_row": null,
            "grid_template_areas": null,
            "grid_template_columns": null,
            "grid_template_rows": null,
            "height": null,
            "justify_content": null,
            "justify_items": null,
            "left": null,
            "margin": null,
            "max_height": null,
            "max_width": null,
            "min_height": null,
            "min_width": null,
            "object_fit": null,
            "object_position": null,
            "order": null,
            "overflow": null,
            "overflow_x": null,
            "overflow_y": null,
            "padding": null,
            "right": null,
            "top": null,
            "visibility": null,
            "width": null
          }
        },
        "ee76f3e9887f4513850292c64b8e17d4": {
          "model_module": "@jupyter-widgets/controls",
          "model_name": "DescriptionStyleModel",
          "model_module_version": "1.5.0",
          "state": {
            "_model_module": "@jupyter-widgets/controls",
            "_model_module_version": "1.5.0",
            "_model_name": "DescriptionStyleModel",
            "_view_count": null,
            "_view_module": "@jupyter-widgets/base",
            "_view_module_version": "1.2.0",
            "_view_name": "StyleView",
            "description_width": ""
          }
        },
        "bf5115e16ebe4b21bf6a11c52f90690b": {
          "model_module": "@jupyter-widgets/base",
          "model_name": "LayoutModel",
          "model_module_version": "1.2.0",
          "state": {
            "_model_module": "@jupyter-widgets/base",
            "_model_module_version": "1.2.0",
            "_model_name": "LayoutModel",
            "_view_count": null,
            "_view_module": "@jupyter-widgets/base",
            "_view_module_version": "1.2.0",
            "_view_name": "LayoutView",
            "align_content": null,
            "align_items": null,
            "align_self": null,
            "border": null,
            "bottom": null,
            "display": null,
            "flex": null,
            "flex_flow": null,
            "grid_area": null,
            "grid_auto_columns": null,
            "grid_auto_flow": null,
            "grid_auto_rows": null,
            "grid_column": null,
            "grid_gap": null,
            "grid_row": null,
            "grid_template_areas": null,
            "grid_template_columns": null,
            "grid_template_rows": null,
            "height": null,
            "justify_content": null,
            "justify_items": null,
            "left": null,
            "margin": null,
            "max_height": null,
            "max_width": null,
            "min_height": null,
            "min_width": null,
            "object_fit": null,
            "object_position": null,
            "order": null,
            "overflow": null,
            "overflow_x": null,
            "overflow_y": null,
            "padding": null,
            "right": null,
            "top": null,
            "visibility": null,
            "width": null
          }
        },
        "c44f5d73c3134349a1792e7012e3881c": {
          "model_module": "@jupyter-widgets/controls",
          "model_name": "ProgressStyleModel",
          "model_module_version": "1.5.0",
          "state": {
            "_model_module": "@jupyter-widgets/controls",
            "_model_module_version": "1.5.0",
            "_model_name": "ProgressStyleModel",
            "_view_count": null,
            "_view_module": "@jupyter-widgets/base",
            "_view_module_version": "1.2.0",
            "_view_name": "StyleView",
            "bar_color": null,
            "description_width": ""
          }
        },
        "bda758ffd7644122a325e151ba2003bf": {
          "model_module": "@jupyter-widgets/base",
          "model_name": "LayoutModel",
          "model_module_version": "1.2.0",
          "state": {
            "_model_module": "@jupyter-widgets/base",
            "_model_module_version": "1.2.0",
            "_model_name": "LayoutModel",
            "_view_count": null,
            "_view_module": "@jupyter-widgets/base",
            "_view_module_version": "1.2.0",
            "_view_name": "LayoutView",
            "align_content": null,
            "align_items": null,
            "align_self": null,
            "border": null,
            "bottom": null,
            "display": null,
            "flex": null,
            "flex_flow": null,
            "grid_area": null,
            "grid_auto_columns": null,
            "grid_auto_flow": null,
            "grid_auto_rows": null,
            "grid_column": null,
            "grid_gap": null,
            "grid_row": null,
            "grid_template_areas": null,
            "grid_template_columns": null,
            "grid_template_rows": null,
            "height": null,
            "justify_content": null,
            "justify_items": null,
            "left": null,
            "margin": null,
            "max_height": null,
            "max_width": null,
            "min_height": null,
            "min_width": null,
            "object_fit": null,
            "object_position": null,
            "order": null,
            "overflow": null,
            "overflow_x": null,
            "overflow_y": null,
            "padding": null,
            "right": null,
            "top": null,
            "visibility": null,
            "width": null
          }
        },
        "22c1c2bc2e2848b7b0ae80df8282bd1a": {
          "model_module": "@jupyter-widgets/controls",
          "model_name": "DescriptionStyleModel",
          "model_module_version": "1.5.0",
          "state": {
            "_model_module": "@jupyter-widgets/controls",
            "_model_module_version": "1.5.0",
            "_model_name": "DescriptionStyleModel",
            "_view_count": null,
            "_view_module": "@jupyter-widgets/base",
            "_view_module_version": "1.2.0",
            "_view_name": "StyleView",
            "description_width": ""
          }
        },
        "fbb3817987cd401ea1bfc9d718e04557": {
          "model_module": "@jupyter-widgets/controls",
          "model_name": "HBoxModel",
          "model_module_version": "1.5.0",
          "state": {
            "_dom_classes": [],
            "_model_module": "@jupyter-widgets/controls",
            "_model_module_version": "1.5.0",
            "_model_name": "HBoxModel",
            "_view_count": null,
            "_view_module": "@jupyter-widgets/controls",
            "_view_module_version": "1.5.0",
            "_view_name": "HBoxView",
            "box_style": "",
            "children": [
              "IPY_MODEL_ef089716e2ff4509b9d9f63a4a6ff59d",
              "IPY_MODEL_3c6bc92a92b84f218f5df0b92ff57288",
              "IPY_MODEL_9ec2920a0fa14298af40b9bb753707f2"
            ],
            "layout": "IPY_MODEL_eb048944840b491a84f17e31349bbdc9"
          }
        },
        "ef089716e2ff4509b9d9f63a4a6ff59d": {
          "model_module": "@jupyter-widgets/controls",
          "model_name": "HTMLModel",
          "model_module_version": "1.5.0",
          "state": {
            "_dom_classes": [],
            "_model_module": "@jupyter-widgets/controls",
            "_model_module_version": "1.5.0",
            "_model_name": "HTMLModel",
            "_view_count": null,
            "_view_module": "@jupyter-widgets/controls",
            "_view_module_version": "1.5.0",
            "_view_name": "HTMLView",
            "description": "",
            "description_tooltip": null,
            "layout": "IPY_MODEL_1b6bbe6b473942919ac0c2e6f884f157",
            "placeholder": "​",
            "style": "IPY_MODEL_0a0829548f304f4794dc9d35d74fd6fb",
            "value": "data/train-00005-of-00011-82690ea34a3fea(…): 100%"
          }
        },
        "3c6bc92a92b84f218f5df0b92ff57288": {
          "model_module": "@jupyter-widgets/controls",
          "model_name": "FloatProgressModel",
          "model_module_version": "1.5.0",
          "state": {
            "_dom_classes": [],
            "_model_module": "@jupyter-widgets/controls",
            "_model_module_version": "1.5.0",
            "_model_name": "FloatProgressModel",
            "_view_count": null,
            "_view_module": "@jupyter-widgets/controls",
            "_view_module_version": "1.5.0",
            "_view_name": "ProgressView",
            "bar_style": "success",
            "description": "",
            "description_tooltip": null,
            "layout": "IPY_MODEL_e98a7a787ead456ba2da36281c772e88",
            "max": 276329390,
            "min": 0,
            "orientation": "horizontal",
            "style": "IPY_MODEL_9668021e7816465ab829bd479ffd29ba",
            "value": 276329390
          }
        },
        "9ec2920a0fa14298af40b9bb753707f2": {
          "model_module": "@jupyter-widgets/controls",
          "model_name": "HTMLModel",
          "model_module_version": "1.5.0",
          "state": {
            "_dom_classes": [],
            "_model_module": "@jupyter-widgets/controls",
            "_model_module_version": "1.5.0",
            "_model_name": "HTMLModel",
            "_view_count": null,
            "_view_module": "@jupyter-widgets/controls",
            "_view_module_version": "1.5.0",
            "_view_name": "HTMLView",
            "description": "",
            "description_tooltip": null,
            "layout": "IPY_MODEL_5e7dd36409b74c839c906d56023ef3ce",
            "placeholder": "​",
            "style": "IPY_MODEL_88db32de1c6e47858c1da28f24190e2f",
            "value": " 276M/276M [00:04&lt;00:00, 84.7MB/s]"
          }
        },
        "eb048944840b491a84f17e31349bbdc9": {
          "model_module": "@jupyter-widgets/base",
          "model_name": "LayoutModel",
          "model_module_version": "1.2.0",
          "state": {
            "_model_module": "@jupyter-widgets/base",
            "_model_module_version": "1.2.0",
            "_model_name": "LayoutModel",
            "_view_count": null,
            "_view_module": "@jupyter-widgets/base",
            "_view_module_version": "1.2.0",
            "_view_name": "LayoutView",
            "align_content": null,
            "align_items": null,
            "align_self": null,
            "border": null,
            "bottom": null,
            "display": null,
            "flex": null,
            "flex_flow": null,
            "grid_area": null,
            "grid_auto_columns": null,
            "grid_auto_flow": null,
            "grid_auto_rows": null,
            "grid_column": null,
            "grid_gap": null,
            "grid_row": null,
            "grid_template_areas": null,
            "grid_template_columns": null,
            "grid_template_rows": null,
            "height": null,
            "justify_content": null,
            "justify_items": null,
            "left": null,
            "margin": null,
            "max_height": null,
            "max_width": null,
            "min_height": null,
            "min_width": null,
            "object_fit": null,
            "object_position": null,
            "order": null,
            "overflow": null,
            "overflow_x": null,
            "overflow_y": null,
            "padding": null,
            "right": null,
            "top": null,
            "visibility": null,
            "width": null
          }
        },
        "1b6bbe6b473942919ac0c2e6f884f157": {
          "model_module": "@jupyter-widgets/base",
          "model_name": "LayoutModel",
          "model_module_version": "1.2.0",
          "state": {
            "_model_module": "@jupyter-widgets/base",
            "_model_module_version": "1.2.0",
            "_model_name": "LayoutModel",
            "_view_count": null,
            "_view_module": "@jupyter-widgets/base",
            "_view_module_version": "1.2.0",
            "_view_name": "LayoutView",
            "align_content": null,
            "align_items": null,
            "align_self": null,
            "border": null,
            "bottom": null,
            "display": null,
            "flex": null,
            "flex_flow": null,
            "grid_area": null,
            "grid_auto_columns": null,
            "grid_auto_flow": null,
            "grid_auto_rows": null,
            "grid_column": null,
            "grid_gap": null,
            "grid_row": null,
            "grid_template_areas": null,
            "grid_template_columns": null,
            "grid_template_rows": null,
            "height": null,
            "justify_content": null,
            "justify_items": null,
            "left": null,
            "margin": null,
            "max_height": null,
            "max_width": null,
            "min_height": null,
            "min_width": null,
            "object_fit": null,
            "object_position": null,
            "order": null,
            "overflow": null,
            "overflow_x": null,
            "overflow_y": null,
            "padding": null,
            "right": null,
            "top": null,
            "visibility": null,
            "width": null
          }
        },
        "0a0829548f304f4794dc9d35d74fd6fb": {
          "model_module": "@jupyter-widgets/controls",
          "model_name": "DescriptionStyleModel",
          "model_module_version": "1.5.0",
          "state": {
            "_model_module": "@jupyter-widgets/controls",
            "_model_module_version": "1.5.0",
            "_model_name": "DescriptionStyleModel",
            "_view_count": null,
            "_view_module": "@jupyter-widgets/base",
            "_view_module_version": "1.2.0",
            "_view_name": "StyleView",
            "description_width": ""
          }
        },
        "e98a7a787ead456ba2da36281c772e88": {
          "model_module": "@jupyter-widgets/base",
          "model_name": "LayoutModel",
          "model_module_version": "1.2.0",
          "state": {
            "_model_module": "@jupyter-widgets/base",
            "_model_module_version": "1.2.0",
            "_model_name": "LayoutModel",
            "_view_count": null,
            "_view_module": "@jupyter-widgets/base",
            "_view_module_version": "1.2.0",
            "_view_name": "LayoutView",
            "align_content": null,
            "align_items": null,
            "align_self": null,
            "border": null,
            "bottom": null,
            "display": null,
            "flex": null,
            "flex_flow": null,
            "grid_area": null,
            "grid_auto_columns": null,
            "grid_auto_flow": null,
            "grid_auto_rows": null,
            "grid_column": null,
            "grid_gap": null,
            "grid_row": null,
            "grid_template_areas": null,
            "grid_template_columns": null,
            "grid_template_rows": null,
            "height": null,
            "justify_content": null,
            "justify_items": null,
            "left": null,
            "margin": null,
            "max_height": null,
            "max_width": null,
            "min_height": null,
            "min_width": null,
            "object_fit": null,
            "object_position": null,
            "order": null,
            "overflow": null,
            "overflow_x": null,
            "overflow_y": null,
            "padding": null,
            "right": null,
            "top": null,
            "visibility": null,
            "width": null
          }
        },
        "9668021e7816465ab829bd479ffd29ba": {
          "model_module": "@jupyter-widgets/controls",
          "model_name": "ProgressStyleModel",
          "model_module_version": "1.5.0",
          "state": {
            "_model_module": "@jupyter-widgets/controls",
            "_model_module_version": "1.5.0",
            "_model_name": "ProgressStyleModel",
            "_view_count": null,
            "_view_module": "@jupyter-widgets/base",
            "_view_module_version": "1.2.0",
            "_view_name": "StyleView",
            "bar_color": null,
            "description_width": ""
          }
        },
        "5e7dd36409b74c839c906d56023ef3ce": {
          "model_module": "@jupyter-widgets/base",
          "model_name": "LayoutModel",
          "model_module_version": "1.2.0",
          "state": {
            "_model_module": "@jupyter-widgets/base",
            "_model_module_version": "1.2.0",
            "_model_name": "LayoutModel",
            "_view_count": null,
            "_view_module": "@jupyter-widgets/base",
            "_view_module_version": "1.2.0",
            "_view_name": "LayoutView",
            "align_content": null,
            "align_items": null,
            "align_self": null,
            "border": null,
            "bottom": null,
            "display": null,
            "flex": null,
            "flex_flow": null,
            "grid_area": null,
            "grid_auto_columns": null,
            "grid_auto_flow": null,
            "grid_auto_rows": null,
            "grid_column": null,
            "grid_gap": null,
            "grid_row": null,
            "grid_template_areas": null,
            "grid_template_columns": null,
            "grid_template_rows": null,
            "height": null,
            "justify_content": null,
            "justify_items": null,
            "left": null,
            "margin": null,
            "max_height": null,
            "max_width": null,
            "min_height": null,
            "min_width": null,
            "object_fit": null,
            "object_position": null,
            "order": null,
            "overflow": null,
            "overflow_x": null,
            "overflow_y": null,
            "padding": null,
            "right": null,
            "top": null,
            "visibility": null,
            "width": null
          }
        },
        "88db32de1c6e47858c1da28f24190e2f": {
          "model_module": "@jupyter-widgets/controls",
          "model_name": "DescriptionStyleModel",
          "model_module_version": "1.5.0",
          "state": {
            "_model_module": "@jupyter-widgets/controls",
            "_model_module_version": "1.5.0",
            "_model_name": "DescriptionStyleModel",
            "_view_count": null,
            "_view_module": "@jupyter-widgets/base",
            "_view_module_version": "1.2.0",
            "_view_name": "StyleView",
            "description_width": ""
          }
        },
        "e94c8aab2837415facdbc4df80276fec": {
          "model_module": "@jupyter-widgets/controls",
          "model_name": "HBoxModel",
          "model_module_version": "1.5.0",
          "state": {
            "_dom_classes": [],
            "_model_module": "@jupyter-widgets/controls",
            "_model_module_version": "1.5.0",
            "_model_name": "HBoxModel",
            "_view_count": null,
            "_view_module": "@jupyter-widgets/controls",
            "_view_module_version": "1.5.0",
            "_view_name": "HBoxView",
            "box_style": "",
            "children": [
              "IPY_MODEL_737e499a01584efea451d5addd987861",
              "IPY_MODEL_955c12a06ee04b8e8a95d6bc3852dec2",
              "IPY_MODEL_cb2dde8188ec4b80b71ef6bacda04371"
            ],
            "layout": "IPY_MODEL_016f657e61ee4e0a96c2c8be38e2cc5d"
          }
        },
        "737e499a01584efea451d5addd987861": {
          "model_module": "@jupyter-widgets/controls",
          "model_name": "HTMLModel",
          "model_module_version": "1.5.0",
          "state": {
            "_dom_classes": [],
            "_model_module": "@jupyter-widgets/controls",
            "_model_module_version": "1.5.0",
            "_model_name": "HTMLModel",
            "_view_count": null,
            "_view_module": "@jupyter-widgets/controls",
            "_view_module_version": "1.5.0",
            "_view_name": "HTMLView",
            "description": "",
            "description_tooltip": null,
            "layout": "IPY_MODEL_67f867d44ab44eb5bf64ebf6035313ba",
            "placeholder": "​",
            "style": "IPY_MODEL_5e7e40bdf28e4b2b880bd0d7a1f289e1",
            "value": "data/train-00006-of-00011-7bec0b65691d3e(…): 100%"
          }
        },
        "955c12a06ee04b8e8a95d6bc3852dec2": {
          "model_module": "@jupyter-widgets/controls",
          "model_name": "FloatProgressModel",
          "model_module_version": "1.5.0",
          "state": {
            "_dom_classes": [],
            "_model_module": "@jupyter-widgets/controls",
            "_model_module_version": "1.5.0",
            "_model_name": "FloatProgressModel",
            "_view_count": null,
            "_view_module": "@jupyter-widgets/controls",
            "_view_module_version": "1.5.0",
            "_view_name": "ProgressView",
            "bar_style": "success",
            "description": "",
            "description_tooltip": null,
            "layout": "IPY_MODEL_c48582fb1ede47e08d8db5343520359c",
            "max": 276634287,
            "min": 0,
            "orientation": "horizontal",
            "style": "IPY_MODEL_8e743ff138324cce85e6686f8ca6f1b3",
            "value": 276634287
          }
        },
        "cb2dde8188ec4b80b71ef6bacda04371": {
          "model_module": "@jupyter-widgets/controls",
          "model_name": "HTMLModel",
          "model_module_version": "1.5.0",
          "state": {
            "_dom_classes": [],
            "_model_module": "@jupyter-widgets/controls",
            "_model_module_version": "1.5.0",
            "_model_name": "HTMLModel",
            "_view_count": null,
            "_view_module": "@jupyter-widgets/controls",
            "_view_module_version": "1.5.0",
            "_view_name": "HTMLView",
            "description": "",
            "description_tooltip": null,
            "layout": "IPY_MODEL_7395ee1bd49749e8acedaf58655d6f20",
            "placeholder": "​",
            "style": "IPY_MODEL_d00832857d694349aaebd26853801967",
            "value": " 277M/277M [00:05&lt;00:00, 40.5MB/s]"
          }
        },
        "016f657e61ee4e0a96c2c8be38e2cc5d": {
          "model_module": "@jupyter-widgets/base",
          "model_name": "LayoutModel",
          "model_module_version": "1.2.0",
          "state": {
            "_model_module": "@jupyter-widgets/base",
            "_model_module_version": "1.2.0",
            "_model_name": "LayoutModel",
            "_view_count": null,
            "_view_module": "@jupyter-widgets/base",
            "_view_module_version": "1.2.0",
            "_view_name": "LayoutView",
            "align_content": null,
            "align_items": null,
            "align_self": null,
            "border": null,
            "bottom": null,
            "display": null,
            "flex": null,
            "flex_flow": null,
            "grid_area": null,
            "grid_auto_columns": null,
            "grid_auto_flow": null,
            "grid_auto_rows": null,
            "grid_column": null,
            "grid_gap": null,
            "grid_row": null,
            "grid_template_areas": null,
            "grid_template_columns": null,
            "grid_template_rows": null,
            "height": null,
            "justify_content": null,
            "justify_items": null,
            "left": null,
            "margin": null,
            "max_height": null,
            "max_width": null,
            "min_height": null,
            "min_width": null,
            "object_fit": null,
            "object_position": null,
            "order": null,
            "overflow": null,
            "overflow_x": null,
            "overflow_y": null,
            "padding": null,
            "right": null,
            "top": null,
            "visibility": null,
            "width": null
          }
        },
        "67f867d44ab44eb5bf64ebf6035313ba": {
          "model_module": "@jupyter-widgets/base",
          "model_name": "LayoutModel",
          "model_module_version": "1.2.0",
          "state": {
            "_model_module": "@jupyter-widgets/base",
            "_model_module_version": "1.2.0",
            "_model_name": "LayoutModel",
            "_view_count": null,
            "_view_module": "@jupyter-widgets/base",
            "_view_module_version": "1.2.0",
            "_view_name": "LayoutView",
            "align_content": null,
            "align_items": null,
            "align_self": null,
            "border": null,
            "bottom": null,
            "display": null,
            "flex": null,
            "flex_flow": null,
            "grid_area": null,
            "grid_auto_columns": null,
            "grid_auto_flow": null,
            "grid_auto_rows": null,
            "grid_column": null,
            "grid_gap": null,
            "grid_row": null,
            "grid_template_areas": null,
            "grid_template_columns": null,
            "grid_template_rows": null,
            "height": null,
            "justify_content": null,
            "justify_items": null,
            "left": null,
            "margin": null,
            "max_height": null,
            "max_width": null,
            "min_height": null,
            "min_width": null,
            "object_fit": null,
            "object_position": null,
            "order": null,
            "overflow": null,
            "overflow_x": null,
            "overflow_y": null,
            "padding": null,
            "right": null,
            "top": null,
            "visibility": null,
            "width": null
          }
        },
        "5e7e40bdf28e4b2b880bd0d7a1f289e1": {
          "model_module": "@jupyter-widgets/controls",
          "model_name": "DescriptionStyleModel",
          "model_module_version": "1.5.0",
          "state": {
            "_model_module": "@jupyter-widgets/controls",
            "_model_module_version": "1.5.0",
            "_model_name": "DescriptionStyleModel",
            "_view_count": null,
            "_view_module": "@jupyter-widgets/base",
            "_view_module_version": "1.2.0",
            "_view_name": "StyleView",
            "description_width": ""
          }
        },
        "c48582fb1ede47e08d8db5343520359c": {
          "model_module": "@jupyter-widgets/base",
          "model_name": "LayoutModel",
          "model_module_version": "1.2.0",
          "state": {
            "_model_module": "@jupyter-widgets/base",
            "_model_module_version": "1.2.0",
            "_model_name": "LayoutModel",
            "_view_count": null,
            "_view_module": "@jupyter-widgets/base",
            "_view_module_version": "1.2.0",
            "_view_name": "LayoutView",
            "align_content": null,
            "align_items": null,
            "align_self": null,
            "border": null,
            "bottom": null,
            "display": null,
            "flex": null,
            "flex_flow": null,
            "grid_area": null,
            "grid_auto_columns": null,
            "grid_auto_flow": null,
            "grid_auto_rows": null,
            "grid_column": null,
            "grid_gap": null,
            "grid_row": null,
            "grid_template_areas": null,
            "grid_template_columns": null,
            "grid_template_rows": null,
            "height": null,
            "justify_content": null,
            "justify_items": null,
            "left": null,
            "margin": null,
            "max_height": null,
            "max_width": null,
            "min_height": null,
            "min_width": null,
            "object_fit": null,
            "object_position": null,
            "order": null,
            "overflow": null,
            "overflow_x": null,
            "overflow_y": null,
            "padding": null,
            "right": null,
            "top": null,
            "visibility": null,
            "width": null
          }
        },
        "8e743ff138324cce85e6686f8ca6f1b3": {
          "model_module": "@jupyter-widgets/controls",
          "model_name": "ProgressStyleModel",
          "model_module_version": "1.5.0",
          "state": {
            "_model_module": "@jupyter-widgets/controls",
            "_model_module_version": "1.5.0",
            "_model_name": "ProgressStyleModel",
            "_view_count": null,
            "_view_module": "@jupyter-widgets/base",
            "_view_module_version": "1.2.0",
            "_view_name": "StyleView",
            "bar_color": null,
            "description_width": ""
          }
        },
        "7395ee1bd49749e8acedaf58655d6f20": {
          "model_module": "@jupyter-widgets/base",
          "model_name": "LayoutModel",
          "model_module_version": "1.2.0",
          "state": {
            "_model_module": "@jupyter-widgets/base",
            "_model_module_version": "1.2.0",
            "_model_name": "LayoutModel",
            "_view_count": null,
            "_view_module": "@jupyter-widgets/base",
            "_view_module_version": "1.2.0",
            "_view_name": "LayoutView",
            "align_content": null,
            "align_items": null,
            "align_self": null,
            "border": null,
            "bottom": null,
            "display": null,
            "flex": null,
            "flex_flow": null,
            "grid_area": null,
            "grid_auto_columns": null,
            "grid_auto_flow": null,
            "grid_auto_rows": null,
            "grid_column": null,
            "grid_gap": null,
            "grid_row": null,
            "grid_template_areas": null,
            "grid_template_columns": null,
            "grid_template_rows": null,
            "height": null,
            "justify_content": null,
            "justify_items": null,
            "left": null,
            "margin": null,
            "max_height": null,
            "max_width": null,
            "min_height": null,
            "min_width": null,
            "object_fit": null,
            "object_position": null,
            "order": null,
            "overflow": null,
            "overflow_x": null,
            "overflow_y": null,
            "padding": null,
            "right": null,
            "top": null,
            "visibility": null,
            "width": null
          }
        },
        "d00832857d694349aaebd26853801967": {
          "model_module": "@jupyter-widgets/controls",
          "model_name": "DescriptionStyleModel",
          "model_module_version": "1.5.0",
          "state": {
            "_model_module": "@jupyter-widgets/controls",
            "_model_module_version": "1.5.0",
            "_model_name": "DescriptionStyleModel",
            "_view_count": null,
            "_view_module": "@jupyter-widgets/base",
            "_view_module_version": "1.2.0",
            "_view_name": "StyleView",
            "description_width": ""
          }
        },
        "e3e987df0c47408e8d4f04ee740d03f7": {
          "model_module": "@jupyter-widgets/controls",
          "model_name": "HBoxModel",
          "model_module_version": "1.5.0",
          "state": {
            "_dom_classes": [],
            "_model_module": "@jupyter-widgets/controls",
            "_model_module_version": "1.5.0",
            "_model_name": "HBoxModel",
            "_view_count": null,
            "_view_module": "@jupyter-widgets/controls",
            "_view_module_version": "1.5.0",
            "_view_name": "HBoxView",
            "box_style": "",
            "children": [
              "IPY_MODEL_390c23c1f06444ea9e59a5d2df3d93a3",
              "IPY_MODEL_07e3266e7d5c4f8ebe2d0b74a5802fc0",
              "IPY_MODEL_d41ed2eb00b44690b73458dea2e65cad"
            ],
            "layout": "IPY_MODEL_63764001bd2f46d7ac611b8b9330a7c9"
          }
        },
        "390c23c1f06444ea9e59a5d2df3d93a3": {
          "model_module": "@jupyter-widgets/controls",
          "model_name": "HTMLModel",
          "model_module_version": "1.5.0",
          "state": {
            "_dom_classes": [],
            "_model_module": "@jupyter-widgets/controls",
            "_model_module_version": "1.5.0",
            "_model_name": "HTMLModel",
            "_view_count": null,
            "_view_module": "@jupyter-widgets/controls",
            "_view_module_version": "1.5.0",
            "_view_name": "HTMLView",
            "description": "",
            "description_tooltip": null,
            "layout": "IPY_MODEL_4a960963ba72427ca53524b278f95f00",
            "placeholder": "​",
            "style": "IPY_MODEL_2fdc6a807feb458e8ef307831bc0a6cf",
            "value": "data/train-00007-of-00011-e781d94c7434f2(…): 100%"
          }
        },
        "07e3266e7d5c4f8ebe2d0b74a5802fc0": {
          "model_module": "@jupyter-widgets/controls",
          "model_name": "FloatProgressModel",
          "model_module_version": "1.5.0",
          "state": {
            "_dom_classes": [],
            "_model_module": "@jupyter-widgets/controls",
            "_model_module_version": "1.5.0",
            "_model_name": "FloatProgressModel",
            "_view_count": null,
            "_view_module": "@jupyter-widgets/controls",
            "_view_module_version": "1.5.0",
            "_view_name": "ProgressView",
            "bar_style": "success",
            "description": "",
            "description_tooltip": null,
            "layout": "IPY_MODEL_9d000fd3d76d4183be32027b11cd5350",
            "max": 276546035,
            "min": 0,
            "orientation": "horizontal",
            "style": "IPY_MODEL_368a7d18b824433d9451a743f8f4561a",
            "value": 276546035
          }
        },
        "d41ed2eb00b44690b73458dea2e65cad": {
          "model_module": "@jupyter-widgets/controls",
          "model_name": "HTMLModel",
          "model_module_version": "1.5.0",
          "state": {
            "_dom_classes": [],
            "_model_module": "@jupyter-widgets/controls",
            "_model_module_version": "1.5.0",
            "_model_name": "HTMLModel",
            "_view_count": null,
            "_view_module": "@jupyter-widgets/controls",
            "_view_module_version": "1.5.0",
            "_view_name": "HTMLView",
            "description": "",
            "description_tooltip": null,
            "layout": "IPY_MODEL_990f46f1f9754831b45820da843cd59f",
            "placeholder": "​",
            "style": "IPY_MODEL_e7f0efba90104cbab8dc103765181269",
            "value": " 277M/277M [00:04&lt;00:00, 70.0MB/s]"
          }
        },
        "63764001bd2f46d7ac611b8b9330a7c9": {
          "model_module": "@jupyter-widgets/base",
          "model_name": "LayoutModel",
          "model_module_version": "1.2.0",
          "state": {
            "_model_module": "@jupyter-widgets/base",
            "_model_module_version": "1.2.0",
            "_model_name": "LayoutModel",
            "_view_count": null,
            "_view_module": "@jupyter-widgets/base",
            "_view_module_version": "1.2.0",
            "_view_name": "LayoutView",
            "align_content": null,
            "align_items": null,
            "align_self": null,
            "border": null,
            "bottom": null,
            "display": null,
            "flex": null,
            "flex_flow": null,
            "grid_area": null,
            "grid_auto_columns": null,
            "grid_auto_flow": null,
            "grid_auto_rows": null,
            "grid_column": null,
            "grid_gap": null,
            "grid_row": null,
            "grid_template_areas": null,
            "grid_template_columns": null,
            "grid_template_rows": null,
            "height": null,
            "justify_content": null,
            "justify_items": null,
            "left": null,
            "margin": null,
            "max_height": null,
            "max_width": null,
            "min_height": null,
            "min_width": null,
            "object_fit": null,
            "object_position": null,
            "order": null,
            "overflow": null,
            "overflow_x": null,
            "overflow_y": null,
            "padding": null,
            "right": null,
            "top": null,
            "visibility": null,
            "width": null
          }
        },
        "4a960963ba72427ca53524b278f95f00": {
          "model_module": "@jupyter-widgets/base",
          "model_name": "LayoutModel",
          "model_module_version": "1.2.0",
          "state": {
            "_model_module": "@jupyter-widgets/base",
            "_model_module_version": "1.2.0",
            "_model_name": "LayoutModel",
            "_view_count": null,
            "_view_module": "@jupyter-widgets/base",
            "_view_module_version": "1.2.0",
            "_view_name": "LayoutView",
            "align_content": null,
            "align_items": null,
            "align_self": null,
            "border": null,
            "bottom": null,
            "display": null,
            "flex": null,
            "flex_flow": null,
            "grid_area": null,
            "grid_auto_columns": null,
            "grid_auto_flow": null,
            "grid_auto_rows": null,
            "grid_column": null,
            "grid_gap": null,
            "grid_row": null,
            "grid_template_areas": null,
            "grid_template_columns": null,
            "grid_template_rows": null,
            "height": null,
            "justify_content": null,
            "justify_items": null,
            "left": null,
            "margin": null,
            "max_height": null,
            "max_width": null,
            "min_height": null,
            "min_width": null,
            "object_fit": null,
            "object_position": null,
            "order": null,
            "overflow": null,
            "overflow_x": null,
            "overflow_y": null,
            "padding": null,
            "right": null,
            "top": null,
            "visibility": null,
            "width": null
          }
        },
        "2fdc6a807feb458e8ef307831bc0a6cf": {
          "model_module": "@jupyter-widgets/controls",
          "model_name": "DescriptionStyleModel",
          "model_module_version": "1.5.0",
          "state": {
            "_model_module": "@jupyter-widgets/controls",
            "_model_module_version": "1.5.0",
            "_model_name": "DescriptionStyleModel",
            "_view_count": null,
            "_view_module": "@jupyter-widgets/base",
            "_view_module_version": "1.2.0",
            "_view_name": "StyleView",
            "description_width": ""
          }
        },
        "9d000fd3d76d4183be32027b11cd5350": {
          "model_module": "@jupyter-widgets/base",
          "model_name": "LayoutModel",
          "model_module_version": "1.2.0",
          "state": {
            "_model_module": "@jupyter-widgets/base",
            "_model_module_version": "1.2.0",
            "_model_name": "LayoutModel",
            "_view_count": null,
            "_view_module": "@jupyter-widgets/base",
            "_view_module_version": "1.2.0",
            "_view_name": "LayoutView",
            "align_content": null,
            "align_items": null,
            "align_self": null,
            "border": null,
            "bottom": null,
            "display": null,
            "flex": null,
            "flex_flow": null,
            "grid_area": null,
            "grid_auto_columns": null,
            "grid_auto_flow": null,
            "grid_auto_rows": null,
            "grid_column": null,
            "grid_gap": null,
            "grid_row": null,
            "grid_template_areas": null,
            "grid_template_columns": null,
            "grid_template_rows": null,
            "height": null,
            "justify_content": null,
            "justify_items": null,
            "left": null,
            "margin": null,
            "max_height": null,
            "max_width": null,
            "min_height": null,
            "min_width": null,
            "object_fit": null,
            "object_position": null,
            "order": null,
            "overflow": null,
            "overflow_x": null,
            "overflow_y": null,
            "padding": null,
            "right": null,
            "top": null,
            "visibility": null,
            "width": null
          }
        },
        "368a7d18b824433d9451a743f8f4561a": {
          "model_module": "@jupyter-widgets/controls",
          "model_name": "ProgressStyleModel",
          "model_module_version": "1.5.0",
          "state": {
            "_model_module": "@jupyter-widgets/controls",
            "_model_module_version": "1.5.0",
            "_model_name": "ProgressStyleModel",
            "_view_count": null,
            "_view_module": "@jupyter-widgets/base",
            "_view_module_version": "1.2.0",
            "_view_name": "StyleView",
            "bar_color": null,
            "description_width": ""
          }
        },
        "990f46f1f9754831b45820da843cd59f": {
          "model_module": "@jupyter-widgets/base",
          "model_name": "LayoutModel",
          "model_module_version": "1.2.0",
          "state": {
            "_model_module": "@jupyter-widgets/base",
            "_model_module_version": "1.2.0",
            "_model_name": "LayoutModel",
            "_view_count": null,
            "_view_module": "@jupyter-widgets/base",
            "_view_module_version": "1.2.0",
            "_view_name": "LayoutView",
            "align_content": null,
            "align_items": null,
            "align_self": null,
            "border": null,
            "bottom": null,
            "display": null,
            "flex": null,
            "flex_flow": null,
            "grid_area": null,
            "grid_auto_columns": null,
            "grid_auto_flow": null,
            "grid_auto_rows": null,
            "grid_column": null,
            "grid_gap": null,
            "grid_row": null,
            "grid_template_areas": null,
            "grid_template_columns": null,
            "grid_template_rows": null,
            "height": null,
            "justify_content": null,
            "justify_items": null,
            "left": null,
            "margin": null,
            "max_height": null,
            "max_width": null,
            "min_height": null,
            "min_width": null,
            "object_fit": null,
            "object_position": null,
            "order": null,
            "overflow": null,
            "overflow_x": null,
            "overflow_y": null,
            "padding": null,
            "right": null,
            "top": null,
            "visibility": null,
            "width": null
          }
        },
        "e7f0efba90104cbab8dc103765181269": {
          "model_module": "@jupyter-widgets/controls",
          "model_name": "DescriptionStyleModel",
          "model_module_version": "1.5.0",
          "state": {
            "_model_module": "@jupyter-widgets/controls",
            "_model_module_version": "1.5.0",
            "_model_name": "DescriptionStyleModel",
            "_view_count": null,
            "_view_module": "@jupyter-widgets/base",
            "_view_module_version": "1.2.0",
            "_view_name": "StyleView",
            "description_width": ""
          }
        },
        "28b59786d0674a058ca30f48c14fbc99": {
          "model_module": "@jupyter-widgets/controls",
          "model_name": "HBoxModel",
          "model_module_version": "1.5.0",
          "state": {
            "_dom_classes": [],
            "_model_module": "@jupyter-widgets/controls",
            "_model_module_version": "1.5.0",
            "_model_name": "HBoxModel",
            "_view_count": null,
            "_view_module": "@jupyter-widgets/controls",
            "_view_module_version": "1.5.0",
            "_view_name": "HBoxView",
            "box_style": "",
            "children": [
              "IPY_MODEL_0b3e07cb39204d6c84d667e2593e639d",
              "IPY_MODEL_e44a2a7dedaa4a25bc77743f13f2df2a",
              "IPY_MODEL_133a5bf8a6a04b2c998e88408ad4d00b"
            ],
            "layout": "IPY_MODEL_8a144e55c92c4745b76f7a76b7c6eb88"
          }
        },
        "0b3e07cb39204d6c84d667e2593e639d": {
          "model_module": "@jupyter-widgets/controls",
          "model_name": "HTMLModel",
          "model_module_version": "1.5.0",
          "state": {
            "_dom_classes": [],
            "_model_module": "@jupyter-widgets/controls",
            "_model_module_version": "1.5.0",
            "_model_name": "HTMLModel",
            "_view_count": null,
            "_view_module": "@jupyter-widgets/controls",
            "_view_module_version": "1.5.0",
            "_view_name": "HTMLView",
            "description": "",
            "description_tooltip": null,
            "layout": "IPY_MODEL_502db61d01eb41198636b12db0cd746f",
            "placeholder": "​",
            "style": "IPY_MODEL_62b68f7067c249e79a2a9aa3041d8936",
            "value": "data/train-00008-of-00011-dd59671427660d(…): 100%"
          }
        },
        "e44a2a7dedaa4a25bc77743f13f2df2a": {
          "model_module": "@jupyter-widgets/controls",
          "model_name": "FloatProgressModel",
          "model_module_version": "1.5.0",
          "state": {
            "_dom_classes": [],
            "_model_module": "@jupyter-widgets/controls",
            "_model_module_version": "1.5.0",
            "_model_name": "FloatProgressModel",
            "_view_count": null,
            "_view_module": "@jupyter-widgets/controls",
            "_view_module_version": "1.5.0",
            "_view_name": "ProgressView",
            "bar_style": "success",
            "description": "",
            "description_tooltip": null,
            "layout": "IPY_MODEL_85356dcaf9c049c2a349cd96f1d75e5c",
            "max": 276981590,
            "min": 0,
            "orientation": "horizontal",
            "style": "IPY_MODEL_ba6cbdd92255445d9c5d565850f6f88c",
            "value": 276981590
          }
        },
        "133a5bf8a6a04b2c998e88408ad4d00b": {
          "model_module": "@jupyter-widgets/controls",
          "model_name": "HTMLModel",
          "model_module_version": "1.5.0",
          "state": {
            "_dom_classes": [],
            "_model_module": "@jupyter-widgets/controls",
            "_model_module_version": "1.5.0",
            "_model_name": "HTMLModel",
            "_view_count": null,
            "_view_module": "@jupyter-widgets/controls",
            "_view_module_version": "1.5.0",
            "_view_name": "HTMLView",
            "description": "",
            "description_tooltip": null,
            "layout": "IPY_MODEL_dd30bb6bd1ba4cdb9043c5a78933dd81",
            "placeholder": "​",
            "style": "IPY_MODEL_285d30d73daa426da0d8ea6e21c9fbb5",
            "value": " 277M/277M [00:07&lt;00:00, 32.3MB/s]"
          }
        },
        "8a144e55c92c4745b76f7a76b7c6eb88": {
          "model_module": "@jupyter-widgets/base",
          "model_name": "LayoutModel",
          "model_module_version": "1.2.0",
          "state": {
            "_model_module": "@jupyter-widgets/base",
            "_model_module_version": "1.2.0",
            "_model_name": "LayoutModel",
            "_view_count": null,
            "_view_module": "@jupyter-widgets/base",
            "_view_module_version": "1.2.0",
            "_view_name": "LayoutView",
            "align_content": null,
            "align_items": null,
            "align_self": null,
            "border": null,
            "bottom": null,
            "display": null,
            "flex": null,
            "flex_flow": null,
            "grid_area": null,
            "grid_auto_columns": null,
            "grid_auto_flow": null,
            "grid_auto_rows": null,
            "grid_column": null,
            "grid_gap": null,
            "grid_row": null,
            "grid_template_areas": null,
            "grid_template_columns": null,
            "grid_template_rows": null,
            "height": null,
            "justify_content": null,
            "justify_items": null,
            "left": null,
            "margin": null,
            "max_height": null,
            "max_width": null,
            "min_height": null,
            "min_width": null,
            "object_fit": null,
            "object_position": null,
            "order": null,
            "overflow": null,
            "overflow_x": null,
            "overflow_y": null,
            "padding": null,
            "right": null,
            "top": null,
            "visibility": null,
            "width": null
          }
        },
        "502db61d01eb41198636b12db0cd746f": {
          "model_module": "@jupyter-widgets/base",
          "model_name": "LayoutModel",
          "model_module_version": "1.2.0",
          "state": {
            "_model_module": "@jupyter-widgets/base",
            "_model_module_version": "1.2.0",
            "_model_name": "LayoutModel",
            "_view_count": null,
            "_view_module": "@jupyter-widgets/base",
            "_view_module_version": "1.2.0",
            "_view_name": "LayoutView",
            "align_content": null,
            "align_items": null,
            "align_self": null,
            "border": null,
            "bottom": null,
            "display": null,
            "flex": null,
            "flex_flow": null,
            "grid_area": null,
            "grid_auto_columns": null,
            "grid_auto_flow": null,
            "grid_auto_rows": null,
            "grid_column": null,
            "grid_gap": null,
            "grid_row": null,
            "grid_template_areas": null,
            "grid_template_columns": null,
            "grid_template_rows": null,
            "height": null,
            "justify_content": null,
            "justify_items": null,
            "left": null,
            "margin": null,
            "max_height": null,
            "max_width": null,
            "min_height": null,
            "min_width": null,
            "object_fit": null,
            "object_position": null,
            "order": null,
            "overflow": null,
            "overflow_x": null,
            "overflow_y": null,
            "padding": null,
            "right": null,
            "top": null,
            "visibility": null,
            "width": null
          }
        },
        "62b68f7067c249e79a2a9aa3041d8936": {
          "model_module": "@jupyter-widgets/controls",
          "model_name": "DescriptionStyleModel",
          "model_module_version": "1.5.0",
          "state": {
            "_model_module": "@jupyter-widgets/controls",
            "_model_module_version": "1.5.0",
            "_model_name": "DescriptionStyleModel",
            "_view_count": null,
            "_view_module": "@jupyter-widgets/base",
            "_view_module_version": "1.2.0",
            "_view_name": "StyleView",
            "description_width": ""
          }
        },
        "85356dcaf9c049c2a349cd96f1d75e5c": {
          "model_module": "@jupyter-widgets/base",
          "model_name": "LayoutModel",
          "model_module_version": "1.2.0",
          "state": {
            "_model_module": "@jupyter-widgets/base",
            "_model_module_version": "1.2.0",
            "_model_name": "LayoutModel",
            "_view_count": null,
            "_view_module": "@jupyter-widgets/base",
            "_view_module_version": "1.2.0",
            "_view_name": "LayoutView",
            "align_content": null,
            "align_items": null,
            "align_self": null,
            "border": null,
            "bottom": null,
            "display": null,
            "flex": null,
            "flex_flow": null,
            "grid_area": null,
            "grid_auto_columns": null,
            "grid_auto_flow": null,
            "grid_auto_rows": null,
            "grid_column": null,
            "grid_gap": null,
            "grid_row": null,
            "grid_template_areas": null,
            "grid_template_columns": null,
            "grid_template_rows": null,
            "height": null,
            "justify_content": null,
            "justify_items": null,
            "left": null,
            "margin": null,
            "max_height": null,
            "max_width": null,
            "min_height": null,
            "min_width": null,
            "object_fit": null,
            "object_position": null,
            "order": null,
            "overflow": null,
            "overflow_x": null,
            "overflow_y": null,
            "padding": null,
            "right": null,
            "top": null,
            "visibility": null,
            "width": null
          }
        },
        "ba6cbdd92255445d9c5d565850f6f88c": {
          "model_module": "@jupyter-widgets/controls",
          "model_name": "ProgressStyleModel",
          "model_module_version": "1.5.0",
          "state": {
            "_model_module": "@jupyter-widgets/controls",
            "_model_module_version": "1.5.0",
            "_model_name": "ProgressStyleModel",
            "_view_count": null,
            "_view_module": "@jupyter-widgets/base",
            "_view_module_version": "1.2.0",
            "_view_name": "StyleView",
            "bar_color": null,
            "description_width": ""
          }
        },
        "dd30bb6bd1ba4cdb9043c5a78933dd81": {
          "model_module": "@jupyter-widgets/base",
          "model_name": "LayoutModel",
          "model_module_version": "1.2.0",
          "state": {
            "_model_module": "@jupyter-widgets/base",
            "_model_module_version": "1.2.0",
            "_model_name": "LayoutModel",
            "_view_count": null,
            "_view_module": "@jupyter-widgets/base",
            "_view_module_version": "1.2.0",
            "_view_name": "LayoutView",
            "align_content": null,
            "align_items": null,
            "align_self": null,
            "border": null,
            "bottom": null,
            "display": null,
            "flex": null,
            "flex_flow": null,
            "grid_area": null,
            "grid_auto_columns": null,
            "grid_auto_flow": null,
            "grid_auto_rows": null,
            "grid_column": null,
            "grid_gap": null,
            "grid_row": null,
            "grid_template_areas": null,
            "grid_template_columns": null,
            "grid_template_rows": null,
            "height": null,
            "justify_content": null,
            "justify_items": null,
            "left": null,
            "margin": null,
            "max_height": null,
            "max_width": null,
            "min_height": null,
            "min_width": null,
            "object_fit": null,
            "object_position": null,
            "order": null,
            "overflow": null,
            "overflow_x": null,
            "overflow_y": null,
            "padding": null,
            "right": null,
            "top": null,
            "visibility": null,
            "width": null
          }
        },
        "285d30d73daa426da0d8ea6e21c9fbb5": {
          "model_module": "@jupyter-widgets/controls",
          "model_name": "DescriptionStyleModel",
          "model_module_version": "1.5.0",
          "state": {
            "_model_module": "@jupyter-widgets/controls",
            "_model_module_version": "1.5.0",
            "_model_name": "DescriptionStyleModel",
            "_view_count": null,
            "_view_module": "@jupyter-widgets/base",
            "_view_module_version": "1.2.0",
            "_view_name": "StyleView",
            "description_width": ""
          }
        },
        "d7d8dfca9c3640da9f662955fd15db31": {
          "model_module": "@jupyter-widgets/controls",
          "model_name": "HBoxModel",
          "model_module_version": "1.5.0",
          "state": {
            "_dom_classes": [],
            "_model_module": "@jupyter-widgets/controls",
            "_model_module_version": "1.5.0",
            "_model_name": "HBoxModel",
            "_view_count": null,
            "_view_module": "@jupyter-widgets/controls",
            "_view_module_version": "1.5.0",
            "_view_name": "HBoxView",
            "box_style": "",
            "children": [
              "IPY_MODEL_6dd790b3896145ba9270149f66edecad",
              "IPY_MODEL_976b19a34b6c4d15aece8966eb4d3516",
              "IPY_MODEL_ec2a9f67ba6248788391e6d563a83502"
            ],
            "layout": "IPY_MODEL_4b808ee904e540269e5ac741de9b4d08"
          }
        },
        "6dd790b3896145ba9270149f66edecad": {
          "model_module": "@jupyter-widgets/controls",
          "model_name": "HTMLModel",
          "model_module_version": "1.5.0",
          "state": {
            "_dom_classes": [],
            "_model_module": "@jupyter-widgets/controls",
            "_model_module_version": "1.5.0",
            "_model_name": "HTMLModel",
            "_view_count": null,
            "_view_module": "@jupyter-widgets/controls",
            "_view_module_version": "1.5.0",
            "_view_name": "HTMLView",
            "description": "",
            "description_tooltip": null,
            "layout": "IPY_MODEL_4296ff9166df4f119106466261ffc542",
            "placeholder": "​",
            "style": "IPY_MODEL_8717e8659f01422aa8996067e76015c3",
            "value": "data/train-00009-of-00011-30fc022f190ef6(…): 100%"
          }
        },
        "976b19a34b6c4d15aece8966eb4d3516": {
          "model_module": "@jupyter-widgets/controls",
          "model_name": "FloatProgressModel",
          "model_module_version": "1.5.0",
          "state": {
            "_dom_classes": [],
            "_model_module": "@jupyter-widgets/controls",
            "_model_module_version": "1.5.0",
            "_model_name": "FloatProgressModel",
            "_view_count": null,
            "_view_module": "@jupyter-widgets/controls",
            "_view_module_version": "1.5.0",
            "_view_name": "ProgressView",
            "bar_style": "success",
            "description": "",
            "description_tooltip": null,
            "layout": "IPY_MODEL_20bd8ef140a34b0b938821d9e72506aa",
            "max": 276827149,
            "min": 0,
            "orientation": "horizontal",
            "style": "IPY_MODEL_d70f97cc06dc403494d0afe5de79f835",
            "value": 276827149
          }
        },
        "ec2a9f67ba6248788391e6d563a83502": {
          "model_module": "@jupyter-widgets/controls",
          "model_name": "HTMLModel",
          "model_module_version": "1.5.0",
          "state": {
            "_dom_classes": [],
            "_model_module": "@jupyter-widgets/controls",
            "_model_module_version": "1.5.0",
            "_model_name": "HTMLModel",
            "_view_count": null,
            "_view_module": "@jupyter-widgets/controls",
            "_view_module_version": "1.5.0",
            "_view_name": "HTMLView",
            "description": "",
            "description_tooltip": null,
            "layout": "IPY_MODEL_b2b398c88c8f4722a69fb8c56f4626d5",
            "placeholder": "​",
            "style": "IPY_MODEL_f00ff7f695bc4eb793975957d425175e",
            "value": " 277M/277M [00:02&lt;00:00, 123MB/s]"
          }
        },
        "4b808ee904e540269e5ac741de9b4d08": {
          "model_module": "@jupyter-widgets/base",
          "model_name": "LayoutModel",
          "model_module_version": "1.2.0",
          "state": {
            "_model_module": "@jupyter-widgets/base",
            "_model_module_version": "1.2.0",
            "_model_name": "LayoutModel",
            "_view_count": null,
            "_view_module": "@jupyter-widgets/base",
            "_view_module_version": "1.2.0",
            "_view_name": "LayoutView",
            "align_content": null,
            "align_items": null,
            "align_self": null,
            "border": null,
            "bottom": null,
            "display": null,
            "flex": null,
            "flex_flow": null,
            "grid_area": null,
            "grid_auto_columns": null,
            "grid_auto_flow": null,
            "grid_auto_rows": null,
            "grid_column": null,
            "grid_gap": null,
            "grid_row": null,
            "grid_template_areas": null,
            "grid_template_columns": null,
            "grid_template_rows": null,
            "height": null,
            "justify_content": null,
            "justify_items": null,
            "left": null,
            "margin": null,
            "max_height": null,
            "max_width": null,
            "min_height": null,
            "min_width": null,
            "object_fit": null,
            "object_position": null,
            "order": null,
            "overflow": null,
            "overflow_x": null,
            "overflow_y": null,
            "padding": null,
            "right": null,
            "top": null,
            "visibility": null,
            "width": null
          }
        },
        "4296ff9166df4f119106466261ffc542": {
          "model_module": "@jupyter-widgets/base",
          "model_name": "LayoutModel",
          "model_module_version": "1.2.0",
          "state": {
            "_model_module": "@jupyter-widgets/base",
            "_model_module_version": "1.2.0",
            "_model_name": "LayoutModel",
            "_view_count": null,
            "_view_module": "@jupyter-widgets/base",
            "_view_module_version": "1.2.0",
            "_view_name": "LayoutView",
            "align_content": null,
            "align_items": null,
            "align_self": null,
            "border": null,
            "bottom": null,
            "display": null,
            "flex": null,
            "flex_flow": null,
            "grid_area": null,
            "grid_auto_columns": null,
            "grid_auto_flow": null,
            "grid_auto_rows": null,
            "grid_column": null,
            "grid_gap": null,
            "grid_row": null,
            "grid_template_areas": null,
            "grid_template_columns": null,
            "grid_template_rows": null,
            "height": null,
            "justify_content": null,
            "justify_items": null,
            "left": null,
            "margin": null,
            "max_height": null,
            "max_width": null,
            "min_height": null,
            "min_width": null,
            "object_fit": null,
            "object_position": null,
            "order": null,
            "overflow": null,
            "overflow_x": null,
            "overflow_y": null,
            "padding": null,
            "right": null,
            "top": null,
            "visibility": null,
            "width": null
          }
        },
        "8717e8659f01422aa8996067e76015c3": {
          "model_module": "@jupyter-widgets/controls",
          "model_name": "DescriptionStyleModel",
          "model_module_version": "1.5.0",
          "state": {
            "_model_module": "@jupyter-widgets/controls",
            "_model_module_version": "1.5.0",
            "_model_name": "DescriptionStyleModel",
            "_view_count": null,
            "_view_module": "@jupyter-widgets/base",
            "_view_module_version": "1.2.0",
            "_view_name": "StyleView",
            "description_width": ""
          }
        },
        "20bd8ef140a34b0b938821d9e72506aa": {
          "model_module": "@jupyter-widgets/base",
          "model_name": "LayoutModel",
          "model_module_version": "1.2.0",
          "state": {
            "_model_module": "@jupyter-widgets/base",
            "_model_module_version": "1.2.0",
            "_model_name": "LayoutModel",
            "_view_count": null,
            "_view_module": "@jupyter-widgets/base",
            "_view_module_version": "1.2.0",
            "_view_name": "LayoutView",
            "align_content": null,
            "align_items": null,
            "align_self": null,
            "border": null,
            "bottom": null,
            "display": null,
            "flex": null,
            "flex_flow": null,
            "grid_area": null,
            "grid_auto_columns": null,
            "grid_auto_flow": null,
            "grid_auto_rows": null,
            "grid_column": null,
            "grid_gap": null,
            "grid_row": null,
            "grid_template_areas": null,
            "grid_template_columns": null,
            "grid_template_rows": null,
            "height": null,
            "justify_content": null,
            "justify_items": null,
            "left": null,
            "margin": null,
            "max_height": null,
            "max_width": null,
            "min_height": null,
            "min_width": null,
            "object_fit": null,
            "object_position": null,
            "order": null,
            "overflow": null,
            "overflow_x": null,
            "overflow_y": null,
            "padding": null,
            "right": null,
            "top": null,
            "visibility": null,
            "width": null
          }
        },
        "d70f97cc06dc403494d0afe5de79f835": {
          "model_module": "@jupyter-widgets/controls",
          "model_name": "ProgressStyleModel",
          "model_module_version": "1.5.0",
          "state": {
            "_model_module": "@jupyter-widgets/controls",
            "_model_module_version": "1.5.0",
            "_model_name": "ProgressStyleModel",
            "_view_count": null,
            "_view_module": "@jupyter-widgets/base",
            "_view_module_version": "1.2.0",
            "_view_name": "StyleView",
            "bar_color": null,
            "description_width": ""
          }
        },
        "b2b398c88c8f4722a69fb8c56f4626d5": {
          "model_module": "@jupyter-widgets/base",
          "model_name": "LayoutModel",
          "model_module_version": "1.2.0",
          "state": {
            "_model_module": "@jupyter-widgets/base",
            "_model_module_version": "1.2.0",
            "_model_name": "LayoutModel",
            "_view_count": null,
            "_view_module": "@jupyter-widgets/base",
            "_view_module_version": "1.2.0",
            "_view_name": "LayoutView",
            "align_content": null,
            "align_items": null,
            "align_self": null,
            "border": null,
            "bottom": null,
            "display": null,
            "flex": null,
            "flex_flow": null,
            "grid_area": null,
            "grid_auto_columns": null,
            "grid_auto_flow": null,
            "grid_auto_rows": null,
            "grid_column": null,
            "grid_gap": null,
            "grid_row": null,
            "grid_template_areas": null,
            "grid_template_columns": null,
            "grid_template_rows": null,
            "height": null,
            "justify_content": null,
            "justify_items": null,
            "left": null,
            "margin": null,
            "max_height": null,
            "max_width": null,
            "min_height": null,
            "min_width": null,
            "object_fit": null,
            "object_position": null,
            "order": null,
            "overflow": null,
            "overflow_x": null,
            "overflow_y": null,
            "padding": null,
            "right": null,
            "top": null,
            "visibility": null,
            "width": null
          }
        },
        "f00ff7f695bc4eb793975957d425175e": {
          "model_module": "@jupyter-widgets/controls",
          "model_name": "DescriptionStyleModel",
          "model_module_version": "1.5.0",
          "state": {
            "_model_module": "@jupyter-widgets/controls",
            "_model_module_version": "1.5.0",
            "_model_name": "DescriptionStyleModel",
            "_view_count": null,
            "_view_module": "@jupyter-widgets/base",
            "_view_module_version": "1.2.0",
            "_view_name": "StyleView",
            "description_width": ""
          }
        },
        "95a393e5a8e145e887d196f11ec79b57": {
          "model_module": "@jupyter-widgets/controls",
          "model_name": "HBoxModel",
          "model_module_version": "1.5.0",
          "state": {
            "_dom_classes": [],
            "_model_module": "@jupyter-widgets/controls",
            "_model_module_version": "1.5.0",
            "_model_name": "HBoxModel",
            "_view_count": null,
            "_view_module": "@jupyter-widgets/controls",
            "_view_module_version": "1.5.0",
            "_view_name": "HBoxView",
            "box_style": "",
            "children": [
              "IPY_MODEL_9dacfaeb61274f73ab9c86747279b461",
              "IPY_MODEL_480e3603b49945208104f2cc68a4f35b",
              "IPY_MODEL_863ff145d2fe44969ec0ad0bf7119b93"
            ],
            "layout": "IPY_MODEL_1854661475f34c358910b532ee8832d2"
          }
        },
        "9dacfaeb61274f73ab9c86747279b461": {
          "model_module": "@jupyter-widgets/controls",
          "model_name": "HTMLModel",
          "model_module_version": "1.5.0",
          "state": {
            "_dom_classes": [],
            "_model_module": "@jupyter-widgets/controls",
            "_model_module_version": "1.5.0",
            "_model_name": "HTMLModel",
            "_view_count": null,
            "_view_module": "@jupyter-widgets/controls",
            "_view_module_version": "1.5.0",
            "_view_name": "HTMLView",
            "description": "",
            "description_tooltip": null,
            "layout": "IPY_MODEL_1e4f02552aee4c01aeddb8017eab71dc",
            "placeholder": "​",
            "style": "IPY_MODEL_8a71393160404966bb1942e4c1bc6929",
            "value": "data/train-00010-of-00011-6fd49c27adf144(…): 100%"
          }
        },
        "480e3603b49945208104f2cc68a4f35b": {
          "model_module": "@jupyter-widgets/controls",
          "model_name": "FloatProgressModel",
          "model_module_version": "1.5.0",
          "state": {
            "_dom_classes": [],
            "_model_module": "@jupyter-widgets/controls",
            "_model_module_version": "1.5.0",
            "_model_name": "FloatProgressModel",
            "_view_count": null,
            "_view_module": "@jupyter-widgets/controls",
            "_view_module_version": "1.5.0",
            "_view_name": "ProgressView",
            "bar_style": "success",
            "description": "",
            "description_tooltip": null,
            "layout": "IPY_MODEL_059b20da82ef499c9676498c1428555e",
            "max": 276862682,
            "min": 0,
            "orientation": "horizontal",
            "style": "IPY_MODEL_7055ac9efd384c7684e9394dfc108973",
            "value": 276862682
          }
        },
        "863ff145d2fe44969ec0ad0bf7119b93": {
          "model_module": "@jupyter-widgets/controls",
          "model_name": "HTMLModel",
          "model_module_version": "1.5.0",
          "state": {
            "_dom_classes": [],
            "_model_module": "@jupyter-widgets/controls",
            "_model_module_version": "1.5.0",
            "_model_name": "HTMLModel",
            "_view_count": null,
            "_view_module": "@jupyter-widgets/controls",
            "_view_module_version": "1.5.0",
            "_view_name": "HTMLView",
            "description": "",
            "description_tooltip": null,
            "layout": "IPY_MODEL_f9436c36451049ceae0b142b6de81b0e",
            "placeholder": "​",
            "style": "IPY_MODEL_5b58a986aec14a5ebf0867ae4c646d73",
            "value": " 277M/277M [00:10&lt;00:00, 25.1MB/s]"
          }
        },
        "1854661475f34c358910b532ee8832d2": {
          "model_module": "@jupyter-widgets/base",
          "model_name": "LayoutModel",
          "model_module_version": "1.2.0",
          "state": {
            "_model_module": "@jupyter-widgets/base",
            "_model_module_version": "1.2.0",
            "_model_name": "LayoutModel",
            "_view_count": null,
            "_view_module": "@jupyter-widgets/base",
            "_view_module_version": "1.2.0",
            "_view_name": "LayoutView",
            "align_content": null,
            "align_items": null,
            "align_self": null,
            "border": null,
            "bottom": null,
            "display": null,
            "flex": null,
            "flex_flow": null,
            "grid_area": null,
            "grid_auto_columns": null,
            "grid_auto_flow": null,
            "grid_auto_rows": null,
            "grid_column": null,
            "grid_gap": null,
            "grid_row": null,
            "grid_template_areas": null,
            "grid_template_columns": null,
            "grid_template_rows": null,
            "height": null,
            "justify_content": null,
            "justify_items": null,
            "left": null,
            "margin": null,
            "max_height": null,
            "max_width": null,
            "min_height": null,
            "min_width": null,
            "object_fit": null,
            "object_position": null,
            "order": null,
            "overflow": null,
            "overflow_x": null,
            "overflow_y": null,
            "padding": null,
            "right": null,
            "top": null,
            "visibility": null,
            "width": null
          }
        },
        "1e4f02552aee4c01aeddb8017eab71dc": {
          "model_module": "@jupyter-widgets/base",
          "model_name": "LayoutModel",
          "model_module_version": "1.2.0",
          "state": {
            "_model_module": "@jupyter-widgets/base",
            "_model_module_version": "1.2.0",
            "_model_name": "LayoutModel",
            "_view_count": null,
            "_view_module": "@jupyter-widgets/base",
            "_view_module_version": "1.2.0",
            "_view_name": "LayoutView",
            "align_content": null,
            "align_items": null,
            "align_self": null,
            "border": null,
            "bottom": null,
            "display": null,
            "flex": null,
            "flex_flow": null,
            "grid_area": null,
            "grid_auto_columns": null,
            "grid_auto_flow": null,
            "grid_auto_rows": null,
            "grid_column": null,
            "grid_gap": null,
            "grid_row": null,
            "grid_template_areas": null,
            "grid_template_columns": null,
            "grid_template_rows": null,
            "height": null,
            "justify_content": null,
            "justify_items": null,
            "left": null,
            "margin": null,
            "max_height": null,
            "max_width": null,
            "min_height": null,
            "min_width": null,
            "object_fit": null,
            "object_position": null,
            "order": null,
            "overflow": null,
            "overflow_x": null,
            "overflow_y": null,
            "padding": null,
            "right": null,
            "top": null,
            "visibility": null,
            "width": null
          }
        },
        "8a71393160404966bb1942e4c1bc6929": {
          "model_module": "@jupyter-widgets/controls",
          "model_name": "DescriptionStyleModel",
          "model_module_version": "1.5.0",
          "state": {
            "_model_module": "@jupyter-widgets/controls",
            "_model_module_version": "1.5.0",
            "_model_name": "DescriptionStyleModel",
            "_view_count": null,
            "_view_module": "@jupyter-widgets/base",
            "_view_module_version": "1.2.0",
            "_view_name": "StyleView",
            "description_width": ""
          }
        },
        "059b20da82ef499c9676498c1428555e": {
          "model_module": "@jupyter-widgets/base",
          "model_name": "LayoutModel",
          "model_module_version": "1.2.0",
          "state": {
            "_model_module": "@jupyter-widgets/base",
            "_model_module_version": "1.2.0",
            "_model_name": "LayoutModel",
            "_view_count": null,
            "_view_module": "@jupyter-widgets/base",
            "_view_module_version": "1.2.0",
            "_view_name": "LayoutView",
            "align_content": null,
            "align_items": null,
            "align_self": null,
            "border": null,
            "bottom": null,
            "display": null,
            "flex": null,
            "flex_flow": null,
            "grid_area": null,
            "grid_auto_columns": null,
            "grid_auto_flow": null,
            "grid_auto_rows": null,
            "grid_column": null,
            "grid_gap": null,
            "grid_row": null,
            "grid_template_areas": null,
            "grid_template_columns": null,
            "grid_template_rows": null,
            "height": null,
            "justify_content": null,
            "justify_items": null,
            "left": null,
            "margin": null,
            "max_height": null,
            "max_width": null,
            "min_height": null,
            "min_width": null,
            "object_fit": null,
            "object_position": null,
            "order": null,
            "overflow": null,
            "overflow_x": null,
            "overflow_y": null,
            "padding": null,
            "right": null,
            "top": null,
            "visibility": null,
            "width": null
          }
        },
        "7055ac9efd384c7684e9394dfc108973": {
          "model_module": "@jupyter-widgets/controls",
          "model_name": "ProgressStyleModel",
          "model_module_version": "1.5.0",
          "state": {
            "_model_module": "@jupyter-widgets/controls",
            "_model_module_version": "1.5.0",
            "_model_name": "ProgressStyleModel",
            "_view_count": null,
            "_view_module": "@jupyter-widgets/base",
            "_view_module_version": "1.2.0",
            "_view_name": "StyleView",
            "bar_color": null,
            "description_width": ""
          }
        },
        "f9436c36451049ceae0b142b6de81b0e": {
          "model_module": "@jupyter-widgets/base",
          "model_name": "LayoutModel",
          "model_module_version": "1.2.0",
          "state": {
            "_model_module": "@jupyter-widgets/base",
            "_model_module_version": "1.2.0",
            "_model_name": "LayoutModel",
            "_view_count": null,
            "_view_module": "@jupyter-widgets/base",
            "_view_module_version": "1.2.0",
            "_view_name": "LayoutView",
            "align_content": null,
            "align_items": null,
            "align_self": null,
            "border": null,
            "bottom": null,
            "display": null,
            "flex": null,
            "flex_flow": null,
            "grid_area": null,
            "grid_auto_columns": null,
            "grid_auto_flow": null,
            "grid_auto_rows": null,
            "grid_column": null,
            "grid_gap": null,
            "grid_row": null,
            "grid_template_areas": null,
            "grid_template_columns": null,
            "grid_template_rows": null,
            "height": null,
            "justify_content": null,
            "justify_items": null,
            "left": null,
            "margin": null,
            "max_height": null,
            "max_width": null,
            "min_height": null,
            "min_width": null,
            "object_fit": null,
            "object_position": null,
            "order": null,
            "overflow": null,
            "overflow_x": null,
            "overflow_y": null,
            "padding": null,
            "right": null,
            "top": null,
            "visibility": null,
            "width": null
          }
        },
        "5b58a986aec14a5ebf0867ae4c646d73": {
          "model_module": "@jupyter-widgets/controls",
          "model_name": "DescriptionStyleModel",
          "model_module_version": "1.5.0",
          "state": {
            "_model_module": "@jupyter-widgets/controls",
            "_model_module_version": "1.5.0",
            "_model_name": "DescriptionStyleModel",
            "_view_count": null,
            "_view_module": "@jupyter-widgets/base",
            "_view_module_version": "1.2.0",
            "_view_name": "StyleView",
            "description_width": ""
          }
        },
        "e452f5351bff4704884d14a053d3d765": {
          "model_module": "@jupyter-widgets/controls",
          "model_name": "HBoxModel",
          "model_module_version": "1.5.0",
          "state": {
            "_dom_classes": [],
            "_model_module": "@jupyter-widgets/controls",
            "_model_module_version": "1.5.0",
            "_model_name": "HBoxModel",
            "_view_count": null,
            "_view_module": "@jupyter-widgets/controls",
            "_view_module_version": "1.5.0",
            "_view_name": "HBoxView",
            "box_style": "",
            "children": [
              "IPY_MODEL_68fbdc9987414fcdb378f48674394321",
              "IPY_MODEL_c205d1fc7cc14e75a39a27213585b3cf",
              "IPY_MODEL_42b51f60b2714e18be7fd2a6d8c9c3b6"
            ],
            "layout": "IPY_MODEL_a0d5a0c7c9f8493ebd8df02efa7b85e9"
          }
        },
        "68fbdc9987414fcdb378f48674394321": {
          "model_module": "@jupyter-widgets/controls",
          "model_name": "HTMLModel",
          "model_module_version": "1.5.0",
          "state": {
            "_dom_classes": [],
            "_model_module": "@jupyter-widgets/controls",
            "_model_module_version": "1.5.0",
            "_model_name": "HTMLModel",
            "_view_count": null,
            "_view_module": "@jupyter-widgets/controls",
            "_view_module_version": "1.5.0",
            "_view_name": "HTMLView",
            "description": "",
            "description_tooltip": null,
            "layout": "IPY_MODEL_53f8824bd237454a9c5edb6937de0376",
            "placeholder": "​",
            "style": "IPY_MODEL_8845c2608f4a4311a4d4a3ee2b12e730",
            "value": "data/test-00000-of-00002-1ca61c509f1e9ec(…): 100%"
          }
        },
        "c205d1fc7cc14e75a39a27213585b3cf": {
          "model_module": "@jupyter-widgets/controls",
          "model_name": "FloatProgressModel",
          "model_module_version": "1.5.0",
          "state": {
            "_dom_classes": [],
            "_model_module": "@jupyter-widgets/controls",
            "_model_module_version": "1.5.0",
            "_model_name": "FloatProgressModel",
            "_view_count": null,
            "_view_module": "@jupyter-widgets/controls",
            "_view_module_version": "1.5.0",
            "_view_name": "ProgressView",
            "bar_style": "success",
            "description": "",
            "description_tooltip": null,
            "layout": "IPY_MODEL_05eae1d1fc134ca88db85d7742e720ba",
            "max": 168667107,
            "min": 0,
            "orientation": "horizontal",
            "style": "IPY_MODEL_209e57585305413f880b9809575d39c2",
            "value": 168667107
          }
        },
        "42b51f60b2714e18be7fd2a6d8c9c3b6": {
          "model_module": "@jupyter-widgets/controls",
          "model_name": "HTMLModel",
          "model_module_version": "1.5.0",
          "state": {
            "_dom_classes": [],
            "_model_module": "@jupyter-widgets/controls",
            "_model_module_version": "1.5.0",
            "_model_name": "HTMLModel",
            "_view_count": null,
            "_view_module": "@jupyter-widgets/controls",
            "_view_module_version": "1.5.0",
            "_view_name": "HTMLView",
            "description": "",
            "description_tooltip": null,
            "layout": "IPY_MODEL_20e54148a837485aa196232da80e4b5d",
            "placeholder": "​",
            "style": "IPY_MODEL_867a828ecbcf4bcc8a731cbb31c7f2ee",
            "value": " 169M/169M [00:02&lt;00:00, 84.2MB/s]"
          }
        },
        "a0d5a0c7c9f8493ebd8df02efa7b85e9": {
          "model_module": "@jupyter-widgets/base",
          "model_name": "LayoutModel",
          "model_module_version": "1.2.0",
          "state": {
            "_model_module": "@jupyter-widgets/base",
            "_model_module_version": "1.2.0",
            "_model_name": "LayoutModel",
            "_view_count": null,
            "_view_module": "@jupyter-widgets/base",
            "_view_module_version": "1.2.0",
            "_view_name": "LayoutView",
            "align_content": null,
            "align_items": null,
            "align_self": null,
            "border": null,
            "bottom": null,
            "display": null,
            "flex": null,
            "flex_flow": null,
            "grid_area": null,
            "grid_auto_columns": null,
            "grid_auto_flow": null,
            "grid_auto_rows": null,
            "grid_column": null,
            "grid_gap": null,
            "grid_row": null,
            "grid_template_areas": null,
            "grid_template_columns": null,
            "grid_template_rows": null,
            "height": null,
            "justify_content": null,
            "justify_items": null,
            "left": null,
            "margin": null,
            "max_height": null,
            "max_width": null,
            "min_height": null,
            "min_width": null,
            "object_fit": null,
            "object_position": null,
            "order": null,
            "overflow": null,
            "overflow_x": null,
            "overflow_y": null,
            "padding": null,
            "right": null,
            "top": null,
            "visibility": null,
            "width": null
          }
        },
        "53f8824bd237454a9c5edb6937de0376": {
          "model_module": "@jupyter-widgets/base",
          "model_name": "LayoutModel",
          "model_module_version": "1.2.0",
          "state": {
            "_model_module": "@jupyter-widgets/base",
            "_model_module_version": "1.2.0",
            "_model_name": "LayoutModel",
            "_view_count": null,
            "_view_module": "@jupyter-widgets/base",
            "_view_module_version": "1.2.0",
            "_view_name": "LayoutView",
            "align_content": null,
            "align_items": null,
            "align_self": null,
            "border": null,
            "bottom": null,
            "display": null,
            "flex": null,
            "flex_flow": null,
            "grid_area": null,
            "grid_auto_columns": null,
            "grid_auto_flow": null,
            "grid_auto_rows": null,
            "grid_column": null,
            "grid_gap": null,
            "grid_row": null,
            "grid_template_areas": null,
            "grid_template_columns": null,
            "grid_template_rows": null,
            "height": null,
            "justify_content": null,
            "justify_items": null,
            "left": null,
            "margin": null,
            "max_height": null,
            "max_width": null,
            "min_height": null,
            "min_width": null,
            "object_fit": null,
            "object_position": null,
            "order": null,
            "overflow": null,
            "overflow_x": null,
            "overflow_y": null,
            "padding": null,
            "right": null,
            "top": null,
            "visibility": null,
            "width": null
          }
        },
        "8845c2608f4a4311a4d4a3ee2b12e730": {
          "model_module": "@jupyter-widgets/controls",
          "model_name": "DescriptionStyleModel",
          "model_module_version": "1.5.0",
          "state": {
            "_model_module": "@jupyter-widgets/controls",
            "_model_module_version": "1.5.0",
            "_model_name": "DescriptionStyleModel",
            "_view_count": null,
            "_view_module": "@jupyter-widgets/base",
            "_view_module_version": "1.2.0",
            "_view_name": "StyleView",
            "description_width": ""
          }
        },
        "05eae1d1fc134ca88db85d7742e720ba": {
          "model_module": "@jupyter-widgets/base",
          "model_name": "LayoutModel",
          "model_module_version": "1.2.0",
          "state": {
            "_model_module": "@jupyter-widgets/base",
            "_model_module_version": "1.2.0",
            "_model_name": "LayoutModel",
            "_view_count": null,
            "_view_module": "@jupyter-widgets/base",
            "_view_module_version": "1.2.0",
            "_view_name": "LayoutView",
            "align_content": null,
            "align_items": null,
            "align_self": null,
            "border": null,
            "bottom": null,
            "display": null,
            "flex": null,
            "flex_flow": null,
            "grid_area": null,
            "grid_auto_columns": null,
            "grid_auto_flow": null,
            "grid_auto_rows": null,
            "grid_column": null,
            "grid_gap": null,
            "grid_row": null,
            "grid_template_areas": null,
            "grid_template_columns": null,
            "grid_template_rows": null,
            "height": null,
            "justify_content": null,
            "justify_items": null,
            "left": null,
            "margin": null,
            "max_height": null,
            "max_width": null,
            "min_height": null,
            "min_width": null,
            "object_fit": null,
            "object_position": null,
            "order": null,
            "overflow": null,
            "overflow_x": null,
            "overflow_y": null,
            "padding": null,
            "right": null,
            "top": null,
            "visibility": null,
            "width": null
          }
        },
        "209e57585305413f880b9809575d39c2": {
          "model_module": "@jupyter-widgets/controls",
          "model_name": "ProgressStyleModel",
          "model_module_version": "1.5.0",
          "state": {
            "_model_module": "@jupyter-widgets/controls",
            "_model_module_version": "1.5.0",
            "_model_name": "ProgressStyleModel",
            "_view_count": null,
            "_view_module": "@jupyter-widgets/base",
            "_view_module_version": "1.2.0",
            "_view_name": "StyleView",
            "bar_color": null,
            "description_width": ""
          }
        },
        "20e54148a837485aa196232da80e4b5d": {
          "model_module": "@jupyter-widgets/base",
          "model_name": "LayoutModel",
          "model_module_version": "1.2.0",
          "state": {
            "_model_module": "@jupyter-widgets/base",
            "_model_module_version": "1.2.0",
            "_model_name": "LayoutModel",
            "_view_count": null,
            "_view_module": "@jupyter-widgets/base",
            "_view_module_version": "1.2.0",
            "_view_name": "LayoutView",
            "align_content": null,
            "align_items": null,
            "align_self": null,
            "border": null,
            "bottom": null,
            "display": null,
            "flex": null,
            "flex_flow": null,
            "grid_area": null,
            "grid_auto_columns": null,
            "grid_auto_flow": null,
            "grid_auto_rows": null,
            "grid_column": null,
            "grid_gap": null,
            "grid_row": null,
            "grid_template_areas": null,
            "grid_template_columns": null,
            "grid_template_rows": null,
            "height": null,
            "justify_content": null,
            "justify_items": null,
            "left": null,
            "margin": null,
            "max_height": null,
            "max_width": null,
            "min_height": null,
            "min_width": null,
            "object_fit": null,
            "object_position": null,
            "order": null,
            "overflow": null,
            "overflow_x": null,
            "overflow_y": null,
            "padding": null,
            "right": null,
            "top": null,
            "visibility": null,
            "width": null
          }
        },
        "867a828ecbcf4bcc8a731cbb31c7f2ee": {
          "model_module": "@jupyter-widgets/controls",
          "model_name": "DescriptionStyleModel",
          "model_module_version": "1.5.0",
          "state": {
            "_model_module": "@jupyter-widgets/controls",
            "_model_module_version": "1.5.0",
            "_model_name": "DescriptionStyleModel",
            "_view_count": null,
            "_view_module": "@jupyter-widgets/base",
            "_view_module_version": "1.2.0",
            "_view_name": "StyleView",
            "description_width": ""
          }
        },
        "7ef83fcbccc744cbacc2d078a493a7b1": {
          "model_module": "@jupyter-widgets/controls",
          "model_name": "HBoxModel",
          "model_module_version": "1.5.0",
          "state": {
            "_dom_classes": [],
            "_model_module": "@jupyter-widgets/controls",
            "_model_module_version": "1.5.0",
            "_model_name": "HBoxModel",
            "_view_count": null,
            "_view_module": "@jupyter-widgets/controls",
            "_view_module_version": "1.5.0",
            "_view_name": "HBoxView",
            "box_style": "",
            "children": [
              "IPY_MODEL_9b1a0959cc0e499e8b450251692e1d5d",
              "IPY_MODEL_b034ce411f6540b3a0988a1d06016846",
              "IPY_MODEL_92599592807c4d33b8885d347b1398e8"
            ],
            "layout": "IPY_MODEL_b20120b2061f4984ad8e1e68b8ac3bf0"
          }
        },
        "9b1a0959cc0e499e8b450251692e1d5d": {
          "model_module": "@jupyter-widgets/controls",
          "model_name": "HTMLModel",
          "model_module_version": "1.5.0",
          "state": {
            "_dom_classes": [],
            "_model_module": "@jupyter-widgets/controls",
            "_model_module_version": "1.5.0",
            "_model_name": "HTMLModel",
            "_view_count": null,
            "_view_module": "@jupyter-widgets/controls",
            "_view_module_version": "1.5.0",
            "_view_name": "HTMLView",
            "description": "",
            "description_tooltip": null,
            "layout": "IPY_MODEL_61eaca4e0f71419d933471cf0dfd855e",
            "placeholder": "​",
            "style": "IPY_MODEL_aa51b24258f44f89a1bb6d1c11a99fa8",
            "value": "data/test-00001-of-00002-94c6d0300d3d067(…): 100%"
          }
        },
        "b034ce411f6540b3a0988a1d06016846": {
          "model_module": "@jupyter-widgets/controls",
          "model_name": "FloatProgressModel",
          "model_module_version": "1.5.0",
          "state": {
            "_dom_classes": [],
            "_model_module": "@jupyter-widgets/controls",
            "_model_module_version": "1.5.0",
            "_model_name": "FloatProgressModel",
            "_view_count": null,
            "_view_module": "@jupyter-widgets/controls",
            "_view_module_version": "1.5.0",
            "_view_name": "ProgressView",
            "bar_style": "success",
            "description": "",
            "description_tooltip": null,
            "layout": "IPY_MODEL_b43f0a153d7c40b9be9530c67818f6a7",
            "max": 168765800,
            "min": 0,
            "orientation": "horizontal",
            "style": "IPY_MODEL_40a8857f5322422489f91accfe6841c8",
            "value": 168765800
          }
        },
        "92599592807c4d33b8885d347b1398e8": {
          "model_module": "@jupyter-widgets/controls",
          "model_name": "HTMLModel",
          "model_module_version": "1.5.0",
          "state": {
            "_dom_classes": [],
            "_model_module": "@jupyter-widgets/controls",
            "_model_module_version": "1.5.0",
            "_model_name": "HTMLModel",
            "_view_count": null,
            "_view_module": "@jupyter-widgets/controls",
            "_view_module_version": "1.5.0",
            "_view_name": "HTMLView",
            "description": "",
            "description_tooltip": null,
            "layout": "IPY_MODEL_fc72fb6217694277a30b4f016d8e9dcd",
            "placeholder": "​",
            "style": "IPY_MODEL_4f7c83c6d6e045c69f38a45bd1029895",
            "value": " 169M/169M [00:01&lt;00:00, 127MB/s]"
          }
        },
        "b20120b2061f4984ad8e1e68b8ac3bf0": {
          "model_module": "@jupyter-widgets/base",
          "model_name": "LayoutModel",
          "model_module_version": "1.2.0",
          "state": {
            "_model_module": "@jupyter-widgets/base",
            "_model_module_version": "1.2.0",
            "_model_name": "LayoutModel",
            "_view_count": null,
            "_view_module": "@jupyter-widgets/base",
            "_view_module_version": "1.2.0",
            "_view_name": "LayoutView",
            "align_content": null,
            "align_items": null,
            "align_self": null,
            "border": null,
            "bottom": null,
            "display": null,
            "flex": null,
            "flex_flow": null,
            "grid_area": null,
            "grid_auto_columns": null,
            "grid_auto_flow": null,
            "grid_auto_rows": null,
            "grid_column": null,
            "grid_gap": null,
            "grid_row": null,
            "grid_template_areas": null,
            "grid_template_columns": null,
            "grid_template_rows": null,
            "height": null,
            "justify_content": null,
            "justify_items": null,
            "left": null,
            "margin": null,
            "max_height": null,
            "max_width": null,
            "min_height": null,
            "min_width": null,
            "object_fit": null,
            "object_position": null,
            "order": null,
            "overflow": null,
            "overflow_x": null,
            "overflow_y": null,
            "padding": null,
            "right": null,
            "top": null,
            "visibility": null,
            "width": null
          }
        },
        "61eaca4e0f71419d933471cf0dfd855e": {
          "model_module": "@jupyter-widgets/base",
          "model_name": "LayoutModel",
          "model_module_version": "1.2.0",
          "state": {
            "_model_module": "@jupyter-widgets/base",
            "_model_module_version": "1.2.0",
            "_model_name": "LayoutModel",
            "_view_count": null,
            "_view_module": "@jupyter-widgets/base",
            "_view_module_version": "1.2.0",
            "_view_name": "LayoutView",
            "align_content": null,
            "align_items": null,
            "align_self": null,
            "border": null,
            "bottom": null,
            "display": null,
            "flex": null,
            "flex_flow": null,
            "grid_area": null,
            "grid_auto_columns": null,
            "grid_auto_flow": null,
            "grid_auto_rows": null,
            "grid_column": null,
            "grid_gap": null,
            "grid_row": null,
            "grid_template_areas": null,
            "grid_template_columns": null,
            "grid_template_rows": null,
            "height": null,
            "justify_content": null,
            "justify_items": null,
            "left": null,
            "margin": null,
            "max_height": null,
            "max_width": null,
            "min_height": null,
            "min_width": null,
            "object_fit": null,
            "object_position": null,
            "order": null,
            "overflow": null,
            "overflow_x": null,
            "overflow_y": null,
            "padding": null,
            "right": null,
            "top": null,
            "visibility": null,
            "width": null
          }
        },
        "aa51b24258f44f89a1bb6d1c11a99fa8": {
          "model_module": "@jupyter-widgets/controls",
          "model_name": "DescriptionStyleModel",
          "model_module_version": "1.5.0",
          "state": {
            "_model_module": "@jupyter-widgets/controls",
            "_model_module_version": "1.5.0",
            "_model_name": "DescriptionStyleModel",
            "_view_count": null,
            "_view_module": "@jupyter-widgets/base",
            "_view_module_version": "1.2.0",
            "_view_name": "StyleView",
            "description_width": ""
          }
        },
        "b43f0a153d7c40b9be9530c67818f6a7": {
          "model_module": "@jupyter-widgets/base",
          "model_name": "LayoutModel",
          "model_module_version": "1.2.0",
          "state": {
            "_model_module": "@jupyter-widgets/base",
            "_model_module_version": "1.2.0",
            "_model_name": "LayoutModel",
            "_view_count": null,
            "_view_module": "@jupyter-widgets/base",
            "_view_module_version": "1.2.0",
            "_view_name": "LayoutView",
            "align_content": null,
            "align_items": null,
            "align_self": null,
            "border": null,
            "bottom": null,
            "display": null,
            "flex": null,
            "flex_flow": null,
            "grid_area": null,
            "grid_auto_columns": null,
            "grid_auto_flow": null,
            "grid_auto_rows": null,
            "grid_column": null,
            "grid_gap": null,
            "grid_row": null,
            "grid_template_areas": null,
            "grid_template_columns": null,
            "grid_template_rows": null,
            "height": null,
            "justify_content": null,
            "justify_items": null,
            "left": null,
            "margin": null,
            "max_height": null,
            "max_width": null,
            "min_height": null,
            "min_width": null,
            "object_fit": null,
            "object_position": null,
            "order": null,
            "overflow": null,
            "overflow_x": null,
            "overflow_y": null,
            "padding": null,
            "right": null,
            "top": null,
            "visibility": null,
            "width": null
          }
        },
        "40a8857f5322422489f91accfe6841c8": {
          "model_module": "@jupyter-widgets/controls",
          "model_name": "ProgressStyleModel",
          "model_module_version": "1.5.0",
          "state": {
            "_model_module": "@jupyter-widgets/controls",
            "_model_module_version": "1.5.0",
            "_model_name": "ProgressStyleModel",
            "_view_count": null,
            "_view_module": "@jupyter-widgets/base",
            "_view_module_version": "1.2.0",
            "_view_name": "StyleView",
            "bar_color": null,
            "description_width": ""
          }
        },
        "fc72fb6217694277a30b4f016d8e9dcd": {
          "model_module": "@jupyter-widgets/base",
          "model_name": "LayoutModel",
          "model_module_version": "1.2.0",
          "state": {
            "_model_module": "@jupyter-widgets/base",
            "_model_module_version": "1.2.0",
            "_model_name": "LayoutModel",
            "_view_count": null,
            "_view_module": "@jupyter-widgets/base",
            "_view_module_version": "1.2.0",
            "_view_name": "LayoutView",
            "align_content": null,
            "align_items": null,
            "align_self": null,
            "border": null,
            "bottom": null,
            "display": null,
            "flex": null,
            "flex_flow": null,
            "grid_area": null,
            "grid_auto_columns": null,
            "grid_auto_flow": null,
            "grid_auto_rows": null,
            "grid_column": null,
            "grid_gap": null,
            "grid_row": null,
            "grid_template_areas": null,
            "grid_template_columns": null,
            "grid_template_rows": null,
            "height": null,
            "justify_content": null,
            "justify_items": null,
            "left": null,
            "margin": null,
            "max_height": null,
            "max_width": null,
            "min_height": null,
            "min_width": null,
            "object_fit": null,
            "object_position": null,
            "order": null,
            "overflow": null,
            "overflow_x": null,
            "overflow_y": null,
            "padding": null,
            "right": null,
            "top": null,
            "visibility": null,
            "width": null
          }
        },
        "4f7c83c6d6e045c69f38a45bd1029895": {
          "model_module": "@jupyter-widgets/controls",
          "model_name": "DescriptionStyleModel",
          "model_module_version": "1.5.0",
          "state": {
            "_model_module": "@jupyter-widgets/controls",
            "_model_module_version": "1.5.0",
            "_model_name": "DescriptionStyleModel",
            "_view_count": null,
            "_view_module": "@jupyter-widgets/base",
            "_view_module_version": "1.2.0",
            "_view_name": "StyleView",
            "description_width": ""
          }
        },
        "d35a283c9d214533ba8d12a79a5d0376": {
          "model_module": "@jupyter-widgets/controls",
          "model_name": "HBoxModel",
          "model_module_version": "1.5.0",
          "state": {
            "_dom_classes": [],
            "_model_module": "@jupyter-widgets/controls",
            "_model_module_version": "1.5.0",
            "_model_name": "HBoxModel",
            "_view_count": null,
            "_view_module": "@jupyter-widgets/controls",
            "_view_module_version": "1.5.0",
            "_view_name": "HBoxView",
            "box_style": "",
            "children": [
              "IPY_MODEL_04f4c1992f904e6984dca9db559120cd",
              "IPY_MODEL_31b38c73f61545d78685f4789dfe9fb6",
              "IPY_MODEL_5bdb3e86a3434771baec1b1cceccbc6f"
            ],
            "layout": "IPY_MODEL_1c2f4d13ba9749f2af51cfab71604532"
          }
        },
        "04f4c1992f904e6984dca9db559120cd": {
          "model_module": "@jupyter-widgets/controls",
          "model_name": "HTMLModel",
          "model_module_version": "1.5.0",
          "state": {
            "_dom_classes": [],
            "_model_module": "@jupyter-widgets/controls",
            "_model_module_version": "1.5.0",
            "_model_name": "HTMLModel",
            "_view_count": null,
            "_view_module": "@jupyter-widgets/controls",
            "_view_module_version": "1.5.0",
            "_view_name": "HTMLView",
            "description": "",
            "description_tooltip": null,
            "layout": "IPY_MODEL_1023d3a20e434570b437b5dc449e84ba",
            "placeholder": "​",
            "style": "IPY_MODEL_b9f78b2f447a421793ce947d6d5b8e4e",
            "value": "Generating train split: 100%"
          }
        },
        "31b38c73f61545d78685f4789dfe9fb6": {
          "model_module": "@jupyter-widgets/controls",
          "model_name": "FloatProgressModel",
          "model_module_version": "1.5.0",
          "state": {
            "_dom_classes": [],
            "_model_module": "@jupyter-widgets/controls",
            "_model_module_version": "1.5.0",
            "_model_name": "FloatProgressModel",
            "_view_count": null,
            "_view_module": "@jupyter-widgets/controls",
            "_view_module_version": "1.5.0",
            "_view_name": "ProgressView",
            "bar_style": "success",
            "description": "",
            "description_tooltip": null,
            "layout": "IPY_MODEL_468b4549f97243c9bb723a4730bd5d28",
            "max": 6320415,
            "min": 0,
            "orientation": "horizontal",
            "style": "IPY_MODEL_be1c74c19e3f485f8a1127e708675985",
            "value": 6320415
          }
        },
        "5bdb3e86a3434771baec1b1cceccbc6f": {
          "model_module": "@jupyter-widgets/controls",
          "model_name": "HTMLModel",
          "model_module_version": "1.5.0",
          "state": {
            "_dom_classes": [],
            "_model_module": "@jupyter-widgets/controls",
            "_model_module_version": "1.5.0",
            "_model_name": "HTMLModel",
            "_view_count": null,
            "_view_module": "@jupyter-widgets/controls",
            "_view_module_version": "1.5.0",
            "_view_name": "HTMLView",
            "description": "",
            "description_tooltip": null,
            "layout": "IPY_MODEL_889e2e39893443b886452ff383c122e9",
            "placeholder": "​",
            "style": "IPY_MODEL_23d03e20915249bcbde6c46789353663",
            "value": " 6320415/6320415 [00:58&lt;00:00, 191403.25 examples/s]"
          }
        },
        "1c2f4d13ba9749f2af51cfab71604532": {
          "model_module": "@jupyter-widgets/base",
          "model_name": "LayoutModel",
          "model_module_version": "1.2.0",
          "state": {
            "_model_module": "@jupyter-widgets/base",
            "_model_module_version": "1.2.0",
            "_model_name": "LayoutModel",
            "_view_count": null,
            "_view_module": "@jupyter-widgets/base",
            "_view_module_version": "1.2.0",
            "_view_name": "LayoutView",
            "align_content": null,
            "align_items": null,
            "align_self": null,
            "border": null,
            "bottom": null,
            "display": null,
            "flex": null,
            "flex_flow": null,
            "grid_area": null,
            "grid_auto_columns": null,
            "grid_auto_flow": null,
            "grid_auto_rows": null,
            "grid_column": null,
            "grid_gap": null,
            "grid_row": null,
            "grid_template_areas": null,
            "grid_template_columns": null,
            "grid_template_rows": null,
            "height": null,
            "justify_content": null,
            "justify_items": null,
            "left": null,
            "margin": null,
            "max_height": null,
            "max_width": null,
            "min_height": null,
            "min_width": null,
            "object_fit": null,
            "object_position": null,
            "order": null,
            "overflow": null,
            "overflow_x": null,
            "overflow_y": null,
            "padding": null,
            "right": null,
            "top": null,
            "visibility": null,
            "width": null
          }
        },
        "1023d3a20e434570b437b5dc449e84ba": {
          "model_module": "@jupyter-widgets/base",
          "model_name": "LayoutModel",
          "model_module_version": "1.2.0",
          "state": {
            "_model_module": "@jupyter-widgets/base",
            "_model_module_version": "1.2.0",
            "_model_name": "LayoutModel",
            "_view_count": null,
            "_view_module": "@jupyter-widgets/base",
            "_view_module_version": "1.2.0",
            "_view_name": "LayoutView",
            "align_content": null,
            "align_items": null,
            "align_self": null,
            "border": null,
            "bottom": null,
            "display": null,
            "flex": null,
            "flex_flow": null,
            "grid_area": null,
            "grid_auto_columns": null,
            "grid_auto_flow": null,
            "grid_auto_rows": null,
            "grid_column": null,
            "grid_gap": null,
            "grid_row": null,
            "grid_template_areas": null,
            "grid_template_columns": null,
            "grid_template_rows": null,
            "height": null,
            "justify_content": null,
            "justify_items": null,
            "left": null,
            "margin": null,
            "max_height": null,
            "max_width": null,
            "min_height": null,
            "min_width": null,
            "object_fit": null,
            "object_position": null,
            "order": null,
            "overflow": null,
            "overflow_x": null,
            "overflow_y": null,
            "padding": null,
            "right": null,
            "top": null,
            "visibility": null,
            "width": null
          }
        },
        "b9f78b2f447a421793ce947d6d5b8e4e": {
          "model_module": "@jupyter-widgets/controls",
          "model_name": "DescriptionStyleModel",
          "model_module_version": "1.5.0",
          "state": {
            "_model_module": "@jupyter-widgets/controls",
            "_model_module_version": "1.5.0",
            "_model_name": "DescriptionStyleModel",
            "_view_count": null,
            "_view_module": "@jupyter-widgets/base",
            "_view_module_version": "1.2.0",
            "_view_name": "StyleView",
            "description_width": ""
          }
        },
        "468b4549f97243c9bb723a4730bd5d28": {
          "model_module": "@jupyter-widgets/base",
          "model_name": "LayoutModel",
          "model_module_version": "1.2.0",
          "state": {
            "_model_module": "@jupyter-widgets/base",
            "_model_module_version": "1.2.0",
            "_model_name": "LayoutModel",
            "_view_count": null,
            "_view_module": "@jupyter-widgets/base",
            "_view_module_version": "1.2.0",
            "_view_name": "LayoutView",
            "align_content": null,
            "align_items": null,
            "align_self": null,
            "border": null,
            "bottom": null,
            "display": null,
            "flex": null,
            "flex_flow": null,
            "grid_area": null,
            "grid_auto_columns": null,
            "grid_auto_flow": null,
            "grid_auto_rows": null,
            "grid_column": null,
            "grid_gap": null,
            "grid_row": null,
            "grid_template_areas": null,
            "grid_template_columns": null,
            "grid_template_rows": null,
            "height": null,
            "justify_content": null,
            "justify_items": null,
            "left": null,
            "margin": null,
            "max_height": null,
            "max_width": null,
            "min_height": null,
            "min_width": null,
            "object_fit": null,
            "object_position": null,
            "order": null,
            "overflow": null,
            "overflow_x": null,
            "overflow_y": null,
            "padding": null,
            "right": null,
            "top": null,
            "visibility": null,
            "width": null
          }
        },
        "be1c74c19e3f485f8a1127e708675985": {
          "model_module": "@jupyter-widgets/controls",
          "model_name": "ProgressStyleModel",
          "model_module_version": "1.5.0",
          "state": {
            "_model_module": "@jupyter-widgets/controls",
            "_model_module_version": "1.5.0",
            "_model_name": "ProgressStyleModel",
            "_view_count": null,
            "_view_module": "@jupyter-widgets/base",
            "_view_module_version": "1.2.0",
            "_view_name": "StyleView",
            "bar_color": null,
            "description_width": ""
          }
        },
        "889e2e39893443b886452ff383c122e9": {
          "model_module": "@jupyter-widgets/base",
          "model_name": "LayoutModel",
          "model_module_version": "1.2.0",
          "state": {
            "_model_module": "@jupyter-widgets/base",
            "_model_module_version": "1.2.0",
            "_model_name": "LayoutModel",
            "_view_count": null,
            "_view_module": "@jupyter-widgets/base",
            "_view_module_version": "1.2.0",
            "_view_name": "LayoutView",
            "align_content": null,
            "align_items": null,
            "align_self": null,
            "border": null,
            "bottom": null,
            "display": null,
            "flex": null,
            "flex_flow": null,
            "grid_area": null,
            "grid_auto_columns": null,
            "grid_auto_flow": null,
            "grid_auto_rows": null,
            "grid_column": null,
            "grid_gap": null,
            "grid_row": null,
            "grid_template_areas": null,
            "grid_template_columns": null,
            "grid_template_rows": null,
            "height": null,
            "justify_content": null,
            "justify_items": null,
            "left": null,
            "margin": null,
            "max_height": null,
            "max_width": null,
            "min_height": null,
            "min_width": null,
            "object_fit": null,
            "object_position": null,
            "order": null,
            "overflow": null,
            "overflow_x": null,
            "overflow_y": null,
            "padding": null,
            "right": null,
            "top": null,
            "visibility": null,
            "width": null
          }
        },
        "23d03e20915249bcbde6c46789353663": {
          "model_module": "@jupyter-widgets/controls",
          "model_name": "DescriptionStyleModel",
          "model_module_version": "1.5.0",
          "state": {
            "_model_module": "@jupyter-widgets/controls",
            "_model_module_version": "1.5.0",
            "_model_name": "DescriptionStyleModel",
            "_view_count": null,
            "_view_module": "@jupyter-widgets/base",
            "_view_module_version": "1.2.0",
            "_view_name": "StyleView",
            "description_width": ""
          }
        },
        "9393a78a8cc7497db1714ec2ccc86af2": {
          "model_module": "@jupyter-widgets/controls",
          "model_name": "HBoxModel",
          "model_module_version": "1.5.0",
          "state": {
            "_dom_classes": [],
            "_model_module": "@jupyter-widgets/controls",
            "_model_module_version": "1.5.0",
            "_model_name": "HBoxModel",
            "_view_count": null,
            "_view_module": "@jupyter-widgets/controls",
            "_view_module_version": "1.5.0",
            "_view_name": "HBoxView",
            "box_style": "",
            "children": [
              "IPY_MODEL_ac1674578d994da88080d6ccaf697ecb",
              "IPY_MODEL_4b52174c99fd4f91b10fd0df6d0cd93b",
              "IPY_MODEL_1020f6827554484188cb25848a8e735d"
            ],
            "layout": "IPY_MODEL_0db3799e78ec4308abec906c5c955c6c"
          }
        },
        "ac1674578d994da88080d6ccaf697ecb": {
          "model_module": "@jupyter-widgets/controls",
          "model_name": "HTMLModel",
          "model_module_version": "1.5.0",
          "state": {
            "_dom_classes": [],
            "_model_module": "@jupyter-widgets/controls",
            "_model_module_version": "1.5.0",
            "_model_name": "HTMLModel",
            "_view_count": null,
            "_view_module": "@jupyter-widgets/controls",
            "_view_module_version": "1.5.0",
            "_view_name": "HTMLView",
            "description": "",
            "description_tooltip": null,
            "layout": "IPY_MODEL_1d25671585b44c7b9c218c944f394ca8",
            "placeholder": "​",
            "style": "IPY_MODEL_c2400ef3e383407abda0c829ced1360a",
            "value": "Generating test split: 100%"
          }
        },
        "4b52174c99fd4f91b10fd0df6d0cd93b": {
          "model_module": "@jupyter-widgets/controls",
          "model_name": "FloatProgressModel",
          "model_module_version": "1.5.0",
          "state": {
            "_dom_classes": [],
            "_model_module": "@jupyter-widgets/controls",
            "_model_module_version": "1.5.0",
            "_model_name": "FloatProgressModel",
            "_view_count": null,
            "_view_module": "@jupyter-widgets/controls",
            "_view_module_version": "1.5.0",
            "_view_name": "ProgressView",
            "bar_style": "success",
            "description": "",
            "description_tooltip": null,
            "layout": "IPY_MODEL_f1c77115651f4e849cc2f887f9baa492",
            "max": 701969,
            "min": 0,
            "orientation": "horizontal",
            "style": "IPY_MODEL_4c01bba8b06d414fbae3ea53027ae1a8",
            "value": 701969
          }
        },
        "1020f6827554484188cb25848a8e735d": {
          "model_module": "@jupyter-widgets/controls",
          "model_name": "HTMLModel",
          "model_module_version": "1.5.0",
          "state": {
            "_dom_classes": [],
            "_model_module": "@jupyter-widgets/controls",
            "_model_module_version": "1.5.0",
            "_model_name": "HTMLModel",
            "_view_count": null,
            "_view_module": "@jupyter-widgets/controls",
            "_view_module_version": "1.5.0",
            "_view_name": "HTMLView",
            "description": "",
            "description_tooltip": null,
            "layout": "IPY_MODEL_b26df4af877d4c73bb24dc4fa0de7aa8",
            "placeholder": "​",
            "style": "IPY_MODEL_2049a74fbf4d4ba7bd122628038d6e54",
            "value": " 701969/701969 [00:06&lt;00:00, 79709.83 examples/s]"
          }
        },
        "0db3799e78ec4308abec906c5c955c6c": {
          "model_module": "@jupyter-widgets/base",
          "model_name": "LayoutModel",
          "model_module_version": "1.2.0",
          "state": {
            "_model_module": "@jupyter-widgets/base",
            "_model_module_version": "1.2.0",
            "_model_name": "LayoutModel",
            "_view_count": null,
            "_view_module": "@jupyter-widgets/base",
            "_view_module_version": "1.2.0",
            "_view_name": "LayoutView",
            "align_content": null,
            "align_items": null,
            "align_self": null,
            "border": null,
            "bottom": null,
            "display": null,
            "flex": null,
            "flex_flow": null,
            "grid_area": null,
            "grid_auto_columns": null,
            "grid_auto_flow": null,
            "grid_auto_rows": null,
            "grid_column": null,
            "grid_gap": null,
            "grid_row": null,
            "grid_template_areas": null,
            "grid_template_columns": null,
            "grid_template_rows": null,
            "height": null,
            "justify_content": null,
            "justify_items": null,
            "left": null,
            "margin": null,
            "max_height": null,
            "max_width": null,
            "min_height": null,
            "min_width": null,
            "object_fit": null,
            "object_position": null,
            "order": null,
            "overflow": null,
            "overflow_x": null,
            "overflow_y": null,
            "padding": null,
            "right": null,
            "top": null,
            "visibility": null,
            "width": null
          }
        },
        "1d25671585b44c7b9c218c944f394ca8": {
          "model_module": "@jupyter-widgets/base",
          "model_name": "LayoutModel",
          "model_module_version": "1.2.0",
          "state": {
            "_model_module": "@jupyter-widgets/base",
            "_model_module_version": "1.2.0",
            "_model_name": "LayoutModel",
            "_view_count": null,
            "_view_module": "@jupyter-widgets/base",
            "_view_module_version": "1.2.0",
            "_view_name": "LayoutView",
            "align_content": null,
            "align_items": null,
            "align_self": null,
            "border": null,
            "bottom": null,
            "display": null,
            "flex": null,
            "flex_flow": null,
            "grid_area": null,
            "grid_auto_columns": null,
            "grid_auto_flow": null,
            "grid_auto_rows": null,
            "grid_column": null,
            "grid_gap": null,
            "grid_row": null,
            "grid_template_areas": null,
            "grid_template_columns": null,
            "grid_template_rows": null,
            "height": null,
            "justify_content": null,
            "justify_items": null,
            "left": null,
            "margin": null,
            "max_height": null,
            "max_width": null,
            "min_height": null,
            "min_width": null,
            "object_fit": null,
            "object_position": null,
            "order": null,
            "overflow": null,
            "overflow_x": null,
            "overflow_y": null,
            "padding": null,
            "right": null,
            "top": null,
            "visibility": null,
            "width": null
          }
        },
        "c2400ef3e383407abda0c829ced1360a": {
          "model_module": "@jupyter-widgets/controls",
          "model_name": "DescriptionStyleModel",
          "model_module_version": "1.5.0",
          "state": {
            "_model_module": "@jupyter-widgets/controls",
            "_model_module_version": "1.5.0",
            "_model_name": "DescriptionStyleModel",
            "_view_count": null,
            "_view_module": "@jupyter-widgets/base",
            "_view_module_version": "1.2.0",
            "_view_name": "StyleView",
            "description_width": ""
          }
        },
        "f1c77115651f4e849cc2f887f9baa492": {
          "model_module": "@jupyter-widgets/base",
          "model_name": "LayoutModel",
          "model_module_version": "1.2.0",
          "state": {
            "_model_module": "@jupyter-widgets/base",
            "_model_module_version": "1.2.0",
            "_model_name": "LayoutModel",
            "_view_count": null,
            "_view_module": "@jupyter-widgets/base",
            "_view_module_version": "1.2.0",
            "_view_name": "LayoutView",
            "align_content": null,
            "align_items": null,
            "align_self": null,
            "border": null,
            "bottom": null,
            "display": null,
            "flex": null,
            "flex_flow": null,
            "grid_area": null,
            "grid_auto_columns": null,
            "grid_auto_flow": null,
            "grid_auto_rows": null,
            "grid_column": null,
            "grid_gap": null,
            "grid_row": null,
            "grid_template_areas": null,
            "grid_template_columns": null,
            "grid_template_rows": null,
            "height": null,
            "justify_content": null,
            "justify_items": null,
            "left": null,
            "margin": null,
            "max_height": null,
            "max_width": null,
            "min_height": null,
            "min_width": null,
            "object_fit": null,
            "object_position": null,
            "order": null,
            "overflow": null,
            "overflow_x": null,
            "overflow_y": null,
            "padding": null,
            "right": null,
            "top": null,
            "visibility": null,
            "width": null
          }
        },
        "4c01bba8b06d414fbae3ea53027ae1a8": {
          "model_module": "@jupyter-widgets/controls",
          "model_name": "ProgressStyleModel",
          "model_module_version": "1.5.0",
          "state": {
            "_model_module": "@jupyter-widgets/controls",
            "_model_module_version": "1.5.0",
            "_model_name": "ProgressStyleModel",
            "_view_count": null,
            "_view_module": "@jupyter-widgets/base",
            "_view_module_version": "1.2.0",
            "_view_name": "StyleView",
            "bar_color": null,
            "description_width": ""
          }
        },
        "b26df4af877d4c73bb24dc4fa0de7aa8": {
          "model_module": "@jupyter-widgets/base",
          "model_name": "LayoutModel",
          "model_module_version": "1.2.0",
          "state": {
            "_model_module": "@jupyter-widgets/base",
            "_model_module_version": "1.2.0",
            "_model_name": "LayoutModel",
            "_view_count": null,
            "_view_module": "@jupyter-widgets/base",
            "_view_module_version": "1.2.0",
            "_view_name": "LayoutView",
            "align_content": null,
            "align_items": null,
            "align_self": null,
            "border": null,
            "bottom": null,
            "display": null,
            "flex": null,
            "flex_flow": null,
            "grid_area": null,
            "grid_auto_columns": null,
            "grid_auto_flow": null,
            "grid_auto_rows": null,
            "grid_column": null,
            "grid_gap": null,
            "grid_row": null,
            "grid_template_areas": null,
            "grid_template_columns": null,
            "grid_template_rows": null,
            "height": null,
            "justify_content": null,
            "justify_items": null,
            "left": null,
            "margin": null,
            "max_height": null,
            "max_width": null,
            "min_height": null,
            "min_width": null,
            "object_fit": null,
            "object_position": null,
            "order": null,
            "overflow": null,
            "overflow_x": null,
            "overflow_y": null,
            "padding": null,
            "right": null,
            "top": null,
            "visibility": null,
            "width": null
          }
        },
        "2049a74fbf4d4ba7bd122628038d6e54": {
          "model_module": "@jupyter-widgets/controls",
          "model_name": "DescriptionStyleModel",
          "model_module_version": "1.5.0",
          "state": {
            "_model_module": "@jupyter-widgets/controls",
            "_model_module_version": "1.5.0",
            "_model_name": "DescriptionStyleModel",
            "_view_count": null,
            "_view_module": "@jupyter-widgets/base",
            "_view_module_version": "1.2.0",
            "_view_name": "StyleView",
            "description_width": ""
          }
        }
      }
    }
  },
  "nbformat": 4,
  "nbformat_minor": 0
}